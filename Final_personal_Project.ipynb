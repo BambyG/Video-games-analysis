{
 "cells": [
  {
   "cell_type": "code",
   "execution_count": 2,
   "metadata": {},
   "outputs": [
    {
     "data": {
      "text/html": [
       "<script>requirejs.config({paths: { 'plotly': ['https://cdn.plot.ly/plotly-latest.min']},});if(!window.Plotly) {{require(['plotly'],function(plotly) {window.Plotly=plotly;});}}</script>"
      ],
      "text/vnd.plotly.v1+html": [
       "<script>requirejs.config({paths: { 'plotly': ['https://cdn.plot.ly/plotly-latest.min']},});if(!window.Plotly) {{require(['plotly'],function(plotly) {window.Plotly=plotly;});}}</script>"
      ]
     },
     "metadata": {},
     "output_type": "display_data"
    },
    {
     "name": "stderr",
     "output_type": "stream",
     "text": [
      "IOPub data rate exceeded.\n",
      "The notebook server will temporarily stop sending output\n",
      "to the client in order to avoid crashing it.\n",
      "To change this limit, set the config variable\n",
      "`--NotebookApp.iopub_data_rate_limit`.\n"
     ]
    }
   ],
   "source": [
    "import numpy as np\n",
    "import pandas as pd\n",
    "import matplotlib.pyplot as plt\n",
    "import seaborn as sns\n",
    "import plotly.graph_objs as go   \n",
    "sns.set_style('whitegrid')\n",
    "%matplotlib inline\n",
    "from plotly import __version__\n",
    "from plotly.offline import download_plotlyjs, init_notebook_mode, plot, iplot\n",
    "import cufflinks as cf\n",
    "init_notebook_mode(connected=True)\n",
    "cf.go_offline()"
   ]
  },
  {
   "cell_type": "code",
   "execution_count": 3,
   "metadata": {
    "collapsed": true
   },
   "outputs": [],
   "source": [
    "df = pd.read_csv('Video_Games_Sales_as_at_22_Dec_2016.csv')\n"
   ]
  },
  {
   "cell_type": "code",
   "execution_count": 4,
   "metadata": {},
   "outputs": [
    {
     "data": {
      "text/html": [
       "<div>\n",
       "<style>\n",
       "    .dataframe thead tr:only-child th {\n",
       "        text-align: right;\n",
       "    }\n",
       "\n",
       "    .dataframe thead th {\n",
       "        text-align: left;\n",
       "    }\n",
       "\n",
       "    .dataframe tbody tr th {\n",
       "        vertical-align: top;\n",
       "    }\n",
       "</style>\n",
       "<table border=\"1\" class=\"dataframe\">\n",
       "  <thead>\n",
       "    <tr style=\"text-align: right;\">\n",
       "      <th></th>\n",
       "      <th>Year_of_Release</th>\n",
       "      <th>NA_Sales</th>\n",
       "      <th>EU_Sales</th>\n",
       "      <th>JP_Sales</th>\n",
       "      <th>Other_Sales</th>\n",
       "      <th>Global_Sales</th>\n",
       "      <th>Critic_Score</th>\n",
       "      <th>Critic_Count</th>\n",
       "      <th>User_Count</th>\n",
       "    </tr>\n",
       "  </thead>\n",
       "  <tbody>\n",
       "    <tr>\n",
       "      <th>count</th>\n",
       "      <td>16450.000000</td>\n",
       "      <td>16719.000000</td>\n",
       "      <td>16719.000000</td>\n",
       "      <td>16719.000000</td>\n",
       "      <td>16719.000000</td>\n",
       "      <td>16719.000000</td>\n",
       "      <td>8137.000000</td>\n",
       "      <td>8137.000000</td>\n",
       "      <td>7590.000000</td>\n",
       "    </tr>\n",
       "    <tr>\n",
       "      <th>mean</th>\n",
       "      <td>2006.487356</td>\n",
       "      <td>0.263330</td>\n",
       "      <td>0.145025</td>\n",
       "      <td>0.077602</td>\n",
       "      <td>0.047332</td>\n",
       "      <td>0.533543</td>\n",
       "      <td>68.967679</td>\n",
       "      <td>26.360821</td>\n",
       "      <td>162.229908</td>\n",
       "    </tr>\n",
       "    <tr>\n",
       "      <th>std</th>\n",
       "      <td>5.878995</td>\n",
       "      <td>0.813514</td>\n",
       "      <td>0.503283</td>\n",
       "      <td>0.308818</td>\n",
       "      <td>0.186710</td>\n",
       "      <td>1.547935</td>\n",
       "      <td>13.938165</td>\n",
       "      <td>18.980495</td>\n",
       "      <td>561.282326</td>\n",
       "    </tr>\n",
       "    <tr>\n",
       "      <th>min</th>\n",
       "      <td>1980.000000</td>\n",
       "      <td>0.000000</td>\n",
       "      <td>0.000000</td>\n",
       "      <td>0.000000</td>\n",
       "      <td>0.000000</td>\n",
       "      <td>0.010000</td>\n",
       "      <td>13.000000</td>\n",
       "      <td>3.000000</td>\n",
       "      <td>4.000000</td>\n",
       "    </tr>\n",
       "    <tr>\n",
       "      <th>25%</th>\n",
       "      <td>2003.000000</td>\n",
       "      <td>0.000000</td>\n",
       "      <td>0.000000</td>\n",
       "      <td>0.000000</td>\n",
       "      <td>0.000000</td>\n",
       "      <td>0.060000</td>\n",
       "      <td>60.000000</td>\n",
       "      <td>12.000000</td>\n",
       "      <td>10.000000</td>\n",
       "    </tr>\n",
       "    <tr>\n",
       "      <th>50%</th>\n",
       "      <td>2007.000000</td>\n",
       "      <td>0.080000</td>\n",
       "      <td>0.020000</td>\n",
       "      <td>0.000000</td>\n",
       "      <td>0.010000</td>\n",
       "      <td>0.170000</td>\n",
       "      <td>71.000000</td>\n",
       "      <td>21.000000</td>\n",
       "      <td>24.000000</td>\n",
       "    </tr>\n",
       "    <tr>\n",
       "      <th>75%</th>\n",
       "      <td>2010.000000</td>\n",
       "      <td>0.240000</td>\n",
       "      <td>0.110000</td>\n",
       "      <td>0.040000</td>\n",
       "      <td>0.030000</td>\n",
       "      <td>0.470000</td>\n",
       "      <td>79.000000</td>\n",
       "      <td>36.000000</td>\n",
       "      <td>81.000000</td>\n",
       "    </tr>\n",
       "    <tr>\n",
       "      <th>max</th>\n",
       "      <td>2020.000000</td>\n",
       "      <td>41.360000</td>\n",
       "      <td>28.960000</td>\n",
       "      <td>10.220000</td>\n",
       "      <td>10.570000</td>\n",
       "      <td>82.530000</td>\n",
       "      <td>98.000000</td>\n",
       "      <td>113.000000</td>\n",
       "      <td>10665.000000</td>\n",
       "    </tr>\n",
       "  </tbody>\n",
       "</table>\n",
       "</div>"
      ],
      "text/plain": [
       "       Year_of_Release      NA_Sales      EU_Sales      JP_Sales  \\\n",
       "count     16450.000000  16719.000000  16719.000000  16719.000000   \n",
       "mean       2006.487356      0.263330      0.145025      0.077602   \n",
       "std           5.878995      0.813514      0.503283      0.308818   \n",
       "min        1980.000000      0.000000      0.000000      0.000000   \n",
       "25%        2003.000000      0.000000      0.000000      0.000000   \n",
       "50%        2007.000000      0.080000      0.020000      0.000000   \n",
       "75%        2010.000000      0.240000      0.110000      0.040000   \n",
       "max        2020.000000     41.360000     28.960000     10.220000   \n",
       "\n",
       "        Other_Sales  Global_Sales  Critic_Score  Critic_Count    User_Count  \n",
       "count  16719.000000  16719.000000   8137.000000   8137.000000   7590.000000  \n",
       "mean       0.047332      0.533543     68.967679     26.360821    162.229908  \n",
       "std        0.186710      1.547935     13.938165     18.980495    561.282326  \n",
       "min        0.000000      0.010000     13.000000      3.000000      4.000000  \n",
       "25%        0.000000      0.060000     60.000000     12.000000     10.000000  \n",
       "50%        0.010000      0.170000     71.000000     21.000000     24.000000  \n",
       "75%        0.030000      0.470000     79.000000     36.000000     81.000000  \n",
       "max       10.570000     82.530000     98.000000    113.000000  10665.000000  "
      ]
     },
     "execution_count": 4,
     "metadata": {},
     "output_type": "execute_result"
    }
   ],
   "source": [
    "df.describe()"
   ]
  },
  {
   "cell_type": "code",
   "execution_count": 5,
   "metadata": {},
   "outputs": [
    {
     "data": {
      "text/html": [
       "<div>\n",
       "<style>\n",
       "    .dataframe thead tr:only-child th {\n",
       "        text-align: right;\n",
       "    }\n",
       "\n",
       "    .dataframe thead th {\n",
       "        text-align: left;\n",
       "    }\n",
       "\n",
       "    .dataframe tbody tr th {\n",
       "        vertical-align: top;\n",
       "    }\n",
       "</style>\n",
       "<table border=\"1\" class=\"dataframe\">\n",
       "  <thead>\n",
       "    <tr style=\"text-align: right;\">\n",
       "      <th></th>\n",
       "      <th>Name</th>\n",
       "      <th>Platform</th>\n",
       "      <th>Year_of_Release</th>\n",
       "      <th>Genre</th>\n",
       "      <th>Publisher</th>\n",
       "      <th>NA_Sales</th>\n",
       "      <th>EU_Sales</th>\n",
       "      <th>JP_Sales</th>\n",
       "      <th>Other_Sales</th>\n",
       "      <th>Global_Sales</th>\n",
       "      <th>Critic_Score</th>\n",
       "      <th>Critic_Count</th>\n",
       "      <th>User_Score</th>\n",
       "      <th>User_Count</th>\n",
       "      <th>Developer</th>\n",
       "      <th>Rating</th>\n",
       "    </tr>\n",
       "  </thead>\n",
       "  <tbody>\n",
       "    <tr>\n",
       "      <th>0</th>\n",
       "      <td>Wii Sports</td>\n",
       "      <td>Wii</td>\n",
       "      <td>2006.0</td>\n",
       "      <td>Sports</td>\n",
       "      <td>Nintendo</td>\n",
       "      <td>41.36</td>\n",
       "      <td>28.96</td>\n",
       "      <td>3.77</td>\n",
       "      <td>8.45</td>\n",
       "      <td>82.53</td>\n",
       "      <td>76.0</td>\n",
       "      <td>51.0</td>\n",
       "      <td>8</td>\n",
       "      <td>322.0</td>\n",
       "      <td>Nintendo</td>\n",
       "      <td>E</td>\n",
       "    </tr>\n",
       "    <tr>\n",
       "      <th>1</th>\n",
       "      <td>Super Mario Bros.</td>\n",
       "      <td>NES</td>\n",
       "      <td>1985.0</td>\n",
       "      <td>Platform</td>\n",
       "      <td>Nintendo</td>\n",
       "      <td>29.08</td>\n",
       "      <td>3.58</td>\n",
       "      <td>6.81</td>\n",
       "      <td>0.77</td>\n",
       "      <td>40.24</td>\n",
       "      <td>NaN</td>\n",
       "      <td>NaN</td>\n",
       "      <td>NaN</td>\n",
       "      <td>NaN</td>\n",
       "      <td>NaN</td>\n",
       "      <td>NaN</td>\n",
       "    </tr>\n",
       "    <tr>\n",
       "      <th>2</th>\n",
       "      <td>Mario Kart Wii</td>\n",
       "      <td>Wii</td>\n",
       "      <td>2008.0</td>\n",
       "      <td>Racing</td>\n",
       "      <td>Nintendo</td>\n",
       "      <td>15.68</td>\n",
       "      <td>12.76</td>\n",
       "      <td>3.79</td>\n",
       "      <td>3.29</td>\n",
       "      <td>35.52</td>\n",
       "      <td>82.0</td>\n",
       "      <td>73.0</td>\n",
       "      <td>8.3</td>\n",
       "      <td>709.0</td>\n",
       "      <td>Nintendo</td>\n",
       "      <td>E</td>\n",
       "    </tr>\n",
       "    <tr>\n",
       "      <th>3</th>\n",
       "      <td>Wii Sports Resort</td>\n",
       "      <td>Wii</td>\n",
       "      <td>2009.0</td>\n",
       "      <td>Sports</td>\n",
       "      <td>Nintendo</td>\n",
       "      <td>15.61</td>\n",
       "      <td>10.93</td>\n",
       "      <td>3.28</td>\n",
       "      <td>2.95</td>\n",
       "      <td>32.77</td>\n",
       "      <td>80.0</td>\n",
       "      <td>73.0</td>\n",
       "      <td>8</td>\n",
       "      <td>192.0</td>\n",
       "      <td>Nintendo</td>\n",
       "      <td>E</td>\n",
       "    </tr>\n",
       "    <tr>\n",
       "      <th>4</th>\n",
       "      <td>Pokemon Red/Pokemon Blue</td>\n",
       "      <td>GB</td>\n",
       "      <td>1996.0</td>\n",
       "      <td>Role-Playing</td>\n",
       "      <td>Nintendo</td>\n",
       "      <td>11.27</td>\n",
       "      <td>8.89</td>\n",
       "      <td>10.22</td>\n",
       "      <td>1.00</td>\n",
       "      <td>31.37</td>\n",
       "      <td>NaN</td>\n",
       "      <td>NaN</td>\n",
       "      <td>NaN</td>\n",
       "      <td>NaN</td>\n",
       "      <td>NaN</td>\n",
       "      <td>NaN</td>\n",
       "    </tr>\n",
       "  </tbody>\n",
       "</table>\n",
       "</div>"
      ],
      "text/plain": [
       "                       Name Platform  Year_of_Release         Genre Publisher  \\\n",
       "0                Wii Sports      Wii           2006.0        Sports  Nintendo   \n",
       "1         Super Mario Bros.      NES           1985.0      Platform  Nintendo   \n",
       "2            Mario Kart Wii      Wii           2008.0        Racing  Nintendo   \n",
       "3         Wii Sports Resort      Wii           2009.0        Sports  Nintendo   \n",
       "4  Pokemon Red/Pokemon Blue       GB           1996.0  Role-Playing  Nintendo   \n",
       "\n",
       "   NA_Sales  EU_Sales  JP_Sales  Other_Sales  Global_Sales  Critic_Score  \\\n",
       "0     41.36     28.96      3.77         8.45         82.53          76.0   \n",
       "1     29.08      3.58      6.81         0.77         40.24           NaN   \n",
       "2     15.68     12.76      3.79         3.29         35.52          82.0   \n",
       "3     15.61     10.93      3.28         2.95         32.77          80.0   \n",
       "4     11.27      8.89     10.22         1.00         31.37           NaN   \n",
       "\n",
       "   Critic_Count User_Score  User_Count Developer Rating  \n",
       "0          51.0          8       322.0  Nintendo      E  \n",
       "1           NaN        NaN         NaN       NaN    NaN  \n",
       "2          73.0        8.3       709.0  Nintendo      E  \n",
       "3          73.0          8       192.0  Nintendo      E  \n",
       "4           NaN        NaN         NaN       NaN    NaN  "
      ]
     },
     "execution_count": 5,
     "metadata": {},
     "output_type": "execute_result"
    }
   ],
   "source": [
    "df.head()"
   ]
  },
  {
   "cell_type": "markdown",
   "metadata": {},
   "source": [
    "** What the timeframe we are talking about? **"
   ]
  },
  {
   "cell_type": "code",
   "execution_count": 6,
   "metadata": {},
   "outputs": [
    {
     "data": {
      "text/plain": [
       "1980"
      ]
     },
     "execution_count": 6,
     "metadata": {},
     "output_type": "execute_result"
    }
   ],
   "source": [
    "int(df['Year_of_Release'].min())"
   ]
  },
  {
   "cell_type": "code",
   "execution_count": 7,
   "metadata": {},
   "outputs": [
    {
     "data": {
      "text/plain": [
       "2020"
      ]
     },
     "execution_count": 7,
     "metadata": {},
     "output_type": "execute_result"
    }
   ],
   "source": [
    "int(df['Year_of_Release'].max())"
   ]
  },
  {
   "cell_type": "code",
   "execution_count": 8,
   "metadata": {
    "collapsed": true
   },
   "outputs": [],
   "source": [
    "df.drop(labels=5936, axis=0, inplace=True)"
   ]
  },
  {
   "cell_type": "code",
   "execution_count": 9,
   "metadata": {},
   "outputs": [
    {
     "data": {
      "text/plain": [
       "2017.0"
      ]
     },
     "execution_count": 9,
     "metadata": {},
     "output_type": "execute_result"
    }
   ],
   "source": [
    "df['Year_of_Release'].max()"
   ]
  },
  {
   "cell_type": "markdown",
   "metadata": {},
   "source": [
    "** What are the top 10 publishers of video games in terms of Sales? **"
   ]
  },
  {
   "cell_type": "code",
   "execution_count": 143,
   "metadata": {},
   "outputs": [
    {
     "data": {
      "application/vnd.plotly.v1+json": {
       "data": [
        {
         "marker": {
          "color": "rgba(255, 153, 51, 0.6)",
          "line": {
           "color": "rgba(255, 153, 51, 1.0)",
           "width": 1
          }
         },
         "name": "Global_Sales",
         "orientation": "v",
         "text": "",
         "type": "bar",
         "x": [
          "Nintendo",
          "Electronic Arts",
          "Activision",
          "Sony Computer Entertainment",
          "Ubisoft",
          "Take-Two Interactive",
          "THQ",
          "Konami Digital Entertainment",
          "Sega",
          "Namco Bandai Games",
          "Microsoft Game Studios",
          "Capcom",
          "Atari",
          "Warner Bros. Interactive Entertainment",
          "Square Enix",
          "Disney Interactive Studios",
          "Eidos Interactive",
          "LucasArts",
          "Bethesda Softworks",
          "Midway Games"
         ],
         "y": [
          1788.8099999999977,
          1116.9599999999898,
          731.1599999999987,
          606.4799999999988,
          471.31999999999925,
          403.81999999999965,
          338.43999999999886,
          282.389999999998,
          270.349999999999,
          254.62000000000072,
          248.3200000000001,
          200.0200000000001,
          156.83000000000038,
          151.79000000000016,
          144.3500000000001,
          117.37000000000005,
          98.64999999999995,
          85.83000000000001,
          85.05000000000001,
          69.66999999999994
         ]
        }
       ],
       "layout": {
        "legend": {
         "bgcolor": "#F5F6F9",
         "font": {
          "color": "#4D5663"
         }
        },
        "paper_bgcolor": "#F5F6F9",
        "plot_bgcolor": "#F5F6F9",
        "titlefont": {
         "color": "#4D5663"
        },
        "xaxis1": {
         "gridcolor": "#E1E5ED",
         "showgrid": true,
         "tickfont": {
          "color": "#4D5663"
         },
         "title": "",
         "titlefont": {
          "color": "#4D5663"
         },
         "zerolinecolor": "#E1E5ED"
        },
        "yaxis1": {
         "gridcolor": "#E1E5ED",
         "showgrid": true,
         "tickfont": {
          "color": "#4D5663"
         },
         "title": "",
         "titlefont": {
          "color": "#4D5663"
         },
         "zerolinecolor": "#E1E5ED"
        }
       }
      },
      "text/html": [
       "<div id=\"fca408e6-632a-49ec-b3db-e2bc52762eab\" style=\"height: 525px; width: 100%;\" class=\"plotly-graph-div\"></div><script type=\"text/javascript\">require([\"plotly\"], function(Plotly) { window.PLOTLYENV=window.PLOTLYENV || {};window.PLOTLYENV.BASE_URL=\"https://plot.ly\";Plotly.newPlot(\"fca408e6-632a-49ec-b3db-e2bc52762eab\", [{\"type\": \"bar\", \"x\": [\"Nintendo\", \"Electronic Arts\", \"Activision\", \"Sony Computer Entertainment\", \"Ubisoft\", \"Take-Two Interactive\", \"THQ\", \"Konami Digital Entertainment\", \"Sega\", \"Namco Bandai Games\", \"Microsoft Game Studios\", \"Capcom\", \"Atari\", \"Warner Bros. Interactive Entertainment\", \"Square Enix\", \"Disney Interactive Studios\", \"Eidos Interactive\", \"LucasArts\", \"Bethesda Softworks\", \"Midway Games\"], \"y\": [1788.8099999999977, 1116.9599999999898, 731.1599999999987, 606.4799999999988, 471.31999999999925, 403.81999999999965, 338.43999999999886, 282.389999999998, 270.349999999999, 254.62000000000072, 248.3200000000001, 200.0200000000001, 156.83000000000038, 151.79000000000016, 144.3500000000001, 117.37000000000005, 98.64999999999995, 85.83000000000001, 85.05000000000001, 69.66999999999994], \"name\": \"Global_Sales\", \"text\": \"\", \"marker\": {\"color\": \"rgba(255, 153, 51, 0.6)\", \"line\": {\"color\": \"rgba(255, 153, 51, 1.0)\", \"width\": 1}}, \"orientation\": \"v\"}], {\"legend\": {\"bgcolor\": \"#F5F6F9\", \"font\": {\"color\": \"#4D5663\"}}, \"paper_bgcolor\": \"#F5F6F9\", \"plot_bgcolor\": \"#F5F6F9\", \"yaxis1\": {\"tickfont\": {\"color\": \"#4D5663\"}, \"gridcolor\": \"#E1E5ED\", \"titlefont\": {\"color\": \"#4D5663\"}, \"zerolinecolor\": \"#E1E5ED\", \"showgrid\": true, \"title\": \"\"}, \"xaxis1\": {\"tickfont\": {\"color\": \"#4D5663\"}, \"gridcolor\": \"#E1E5ED\", \"titlefont\": {\"color\": \"#4D5663\"}, \"zerolinecolor\": \"#E1E5ED\", \"showgrid\": true, \"title\": \"\"}, \"titlefont\": {\"color\": \"#4D5663\"}}, {\"showLink\": true, \"linkText\": \"Export to plot.ly\"})});</script>"
      ],
      "text/vnd.plotly.v1+html": [
       "<div id=\"fca408e6-632a-49ec-b3db-e2bc52762eab\" style=\"height: 525px; width: 100%;\" class=\"plotly-graph-div\"></div><script type=\"text/javascript\">require([\"plotly\"], function(Plotly) { window.PLOTLYENV=window.PLOTLYENV || {};window.PLOTLYENV.BASE_URL=\"https://plot.ly\";Plotly.newPlot(\"fca408e6-632a-49ec-b3db-e2bc52762eab\", [{\"type\": \"bar\", \"x\": [\"Nintendo\", \"Electronic Arts\", \"Activision\", \"Sony Computer Entertainment\", \"Ubisoft\", \"Take-Two Interactive\", \"THQ\", \"Konami Digital Entertainment\", \"Sega\", \"Namco Bandai Games\", \"Microsoft Game Studios\", \"Capcom\", \"Atari\", \"Warner Bros. Interactive Entertainment\", \"Square Enix\", \"Disney Interactive Studios\", \"Eidos Interactive\", \"LucasArts\", \"Bethesda Softworks\", \"Midway Games\"], \"y\": [1788.8099999999977, 1116.9599999999898, 731.1599999999987, 606.4799999999988, 471.31999999999925, 403.81999999999965, 338.43999999999886, 282.389999999998, 270.349999999999, 254.62000000000072, 248.3200000000001, 200.0200000000001, 156.83000000000038, 151.79000000000016, 144.3500000000001, 117.37000000000005, 98.64999999999995, 85.83000000000001, 85.05000000000001, 69.66999999999994], \"name\": \"Global_Sales\", \"text\": \"\", \"marker\": {\"color\": \"rgba(255, 153, 51, 0.6)\", \"line\": {\"color\": \"rgba(255, 153, 51, 1.0)\", \"width\": 1}}, \"orientation\": \"v\"}], {\"legend\": {\"bgcolor\": \"#F5F6F9\", \"font\": {\"color\": \"#4D5663\"}}, \"paper_bgcolor\": \"#F5F6F9\", \"plot_bgcolor\": \"#F5F6F9\", \"yaxis1\": {\"tickfont\": {\"color\": \"#4D5663\"}, \"gridcolor\": \"#E1E5ED\", \"titlefont\": {\"color\": \"#4D5663\"}, \"zerolinecolor\": \"#E1E5ED\", \"showgrid\": true, \"title\": \"\"}, \"xaxis1\": {\"tickfont\": {\"color\": \"#4D5663\"}, \"gridcolor\": \"#E1E5ED\", \"titlefont\": {\"color\": \"#4D5663\"}, \"zerolinecolor\": \"#E1E5ED\", \"showgrid\": true, \"title\": \"\"}, \"titlefont\": {\"color\": \"#4D5663\"}}, {\"showLink\": true, \"linkText\": \"Export to plot.ly\"})});</script>"
      ]
     },
     "metadata": {},
     "output_type": "display_data"
    }
   ],
   "source": [
    "tenpub=df[['Publisher','Global_Sales']].groupby('Publisher').sum().sort_values('Global_Sales', ascending = False).head(20).reset_index()\n",
    "tenpub\n",
    "#plt.figure(figsize=(15,10))\n",
    "#sns.barplot(x='Publisher', y='Global_Sales', data = tenpub).set_xticklabels(labels= tenpub['Publisher'],rotation=90, size= 16)\n",
    "#plt.xlabel('Publishers', fontsize=18)\n",
    "#plt.ylabel('Global Sales', fontsize=18)\n",
    "#plt.tight_layout()\n",
    "tenpub = tenpub.iplot(kind='bar', x ='Publisher', y='Global_Sales')"
   ]
  },
  {
   "cell_type": "markdown",
   "metadata": {},
   "source": [
    "** What are the top 10 publishers of video games in terms of Rating? **"
   ]
  },
  {
   "cell_type": "code",
   "execution_count": 142,
   "metadata": {},
   "outputs": [
    {
     "data": {
      "application/vnd.plotly.v1+json": {
       "data": [
        {
         "marker": {
          "color": "rgba(255, 153, 51, 0.6)",
          "line": {
           "color": "rgba(255, 153, 51, 1.0)",
           "width": 1
          }
         },
         "name": "Critic_Score",
         "orientation": "v",
         "text": "",
         "type": "bar",
         "x": [
          "Valve",
          "Valve Software",
          "Blue Byte",
          "2D Boy",
          "Graphsim Entertainment",
          "Number None",
          "Psygnosis",
          "Square",
          "Havas Interactive",
          "Devolver Digital",
          "Activision Blizzard",
          "GT Interactive",
          "Yacht Club Games",
          "GOA",
          "Russel",
          "SquareSoft",
          "NCSoft",
          "id Software",
          "Codemasters Online",
          "Telegames"
         ],
         "y": [
          95,
          93,
          91,
          90,
          90,
          90,
          89.75,
          89,
          88,
          88,
          87,
          86.66666666666667,
          86.25,
          86,
          86,
          85.88888888888889,
          85.8,
          85,
          85,
          83.5
         ]
        }
       ],
       "layout": {
        "yaxis": {
         "range": [
          80,
          100
         ]
        }
       }
      },
      "text/html": [
       "<div id=\"928a66fb-db0b-435c-b64e-bc9e44a3f8a8\" style=\"height: 525px; width: 100%;\" class=\"plotly-graph-div\"></div><script type=\"text/javascript\">require([\"plotly\"], function(Plotly) { window.PLOTLYENV=window.PLOTLYENV || {};window.PLOTLYENV.BASE_URL=\"https://plot.ly\";Plotly.newPlot(\"928a66fb-db0b-435c-b64e-bc9e44a3f8a8\", [{\"type\": \"bar\", \"x\": [\"Valve\", \"Valve Software\", \"Blue Byte\", \"2D Boy\", \"Graphsim Entertainment\", \"Number None\", \"Psygnosis\", \"Square\", \"Havas Interactive\", \"Devolver Digital\", \"Activision Blizzard\", \"GT Interactive\", \"Yacht Club Games\", \"GOA\", \"Russel\", \"SquareSoft\", \"NCSoft\", \"id Software\", \"Codemasters Online\", \"Telegames\"], \"y\": [95.0, 93.0, 91.0, 90.0, 90.0, 90.0, 89.75, 89.0, 88.0, 88.0, 87.0, 86.66666666666667, 86.25, 86.0, 86.0, 85.88888888888889, 85.8, 85.0, 85.0, 83.5], \"name\": \"Critic_Score\", \"text\": \"\", \"marker\": {\"color\": \"rgba(255, 153, 51, 0.6)\", \"line\": {\"color\": \"rgba(255, 153, 51, 1.0)\", \"width\": 1}}, \"orientation\": \"v\"}], {\"yaxis\": {\"range\": [80, 100]}}, {\"showLink\": true, \"linkText\": \"Export to plot.ly\"})});</script>"
      ],
      "text/vnd.plotly.v1+html": [
       "<div id=\"928a66fb-db0b-435c-b64e-bc9e44a3f8a8\" style=\"height: 525px; width: 100%;\" class=\"plotly-graph-div\"></div><script type=\"text/javascript\">require([\"plotly\"], function(Plotly) { window.PLOTLYENV=window.PLOTLYENV || {};window.PLOTLYENV.BASE_URL=\"https://plot.ly\";Plotly.newPlot(\"928a66fb-db0b-435c-b64e-bc9e44a3f8a8\", [{\"type\": \"bar\", \"x\": [\"Valve\", \"Valve Software\", \"Blue Byte\", \"2D Boy\", \"Graphsim Entertainment\", \"Number None\", \"Psygnosis\", \"Square\", \"Havas Interactive\", \"Devolver Digital\", \"Activision Blizzard\", \"GT Interactive\", \"Yacht Club Games\", \"GOA\", \"Russel\", \"SquareSoft\", \"NCSoft\", \"id Software\", \"Codemasters Online\", \"Telegames\"], \"y\": [95.0, 93.0, 91.0, 90.0, 90.0, 90.0, 89.75, 89.0, 88.0, 88.0, 87.0, 86.66666666666667, 86.25, 86.0, 86.0, 85.88888888888889, 85.8, 85.0, 85.0, 83.5], \"name\": \"Critic_Score\", \"text\": \"\", \"marker\": {\"color\": \"rgba(255, 153, 51, 0.6)\", \"line\": {\"color\": \"rgba(255, 153, 51, 1.0)\", \"width\": 1}}, \"orientation\": \"v\"}], {\"yaxis\": {\"range\": [80, 100]}}, {\"showLink\": true, \"linkText\": \"Export to plot.ly\"})});</script>"
      ]
     },
     "metadata": {},
     "output_type": "display_data"
    }
   ],
   "source": [
    "tenscore=df[['Publisher','Critic_Score']].groupby('Publisher').mean().sort_values('Critic_Score', ascending = False).head(20).reset_index()\n",
    "\n",
    "layout = go.Layout(\n",
    "        yaxis=dict(\n",
    "            range=[80, 100]\n",
    "        )\n",
    "    )\n",
    "\n",
    "tenscore = tenscore.iplot(kind='bar', x ='Publisher', y='Critic_Score', layout = layout)\n",
    "\n",
    "#plt.figure(figsize=(15,10))\n",
    "#plt.ylim(80, 100)\n",
    "#sns.barplot(x='Publisher', y='Critic_Score', data = tenscore).set_xticklabels(labels= tenpub['Publisher'],rotation=90, size= 16)\n"
   ]
  },
  {
   "cell_type": "markdown",
   "metadata": {},
   "source": [
    "**What are the most successful platforms in terms of Sales?**\n",
    "\n"
   ]
  },
  {
   "cell_type": "code",
   "execution_count": 141,
   "metadata": {
    "scrolled": true
   },
   "outputs": [
    {
     "data": {
      "application/vnd.plotly.v1+json": {
       "data": [
        {
         "marker": {
          "color": "rgba(0, 128, 0, 0.6)",
          "line": {
           "color": "rgba(0, 128, 0, 1.0)",
           "width": 1
          }
         },
         "name": "Global_Sales",
         "orientation": "v",
         "text": "",
         "type": "bar",
         "x": [
          "PS2",
          "X360",
          "PS3",
          "Wii",
          "DS",
          "PS",
          "GBA",
          "PS4",
          "PSP",
          "PC",
          "3DS",
          "XB",
          "GB",
          "NES",
          "N64",
          "SNES",
          "GC",
          "XOne",
          "2600",
          "WiiU"
         ],
         "y": [
          1255.6399999999871,
          971.6299999999992,
          939.4299999999982,
          908.129999999998,
          806.8099999999869,
          730.679999999997,
          318.499999999998,
          314.22999999999905,
          294.2999999999953,
          260.29999999999643,
          259.0899999999991,
          258.25999999999834,
          255.44999999999987,
          251.06999999999988,
          218.87999999999985,
          200.05000000000024,
          199.3600000000007,
          159.44000000000003,
          97.08000000000003,
          82.16000000000003
         ]
        }
       ],
       "layout": {
        "legend": {
         "bgcolor": "#F5F6F9",
         "font": {
          "color": "#4D5663"
         }
        },
        "paper_bgcolor": "#F5F6F9",
        "plot_bgcolor": "#F5F6F9",
        "title": "Best Selling Platforms in Millions",
        "titlefont": {
         "color": "#4D5663"
        },
        "xaxis1": {
         "gridcolor": "#E1E5ED",
         "showgrid": true,
         "tickfont": {
          "color": "#4D5663"
         },
         "title": "",
         "titlefont": {
          "color": "#4D5663"
         },
         "zerolinecolor": "#E1E5ED"
        },
        "yaxis1": {
         "gridcolor": "#E1E5ED",
         "showgrid": true,
         "tickfont": {
          "color": "#4D5663"
         },
         "title": "",
         "titlefont": {
          "color": "#4D5663"
         },
         "zerolinecolor": "#E1E5ED"
        }
       }
      },
      "text/html": [
       "<div id=\"d1d76b0e-3edf-4273-b173-c84af9c10a4e\" style=\"height: 525px; width: 100%;\" class=\"plotly-graph-div\"></div><script type=\"text/javascript\">require([\"plotly\"], function(Plotly) { window.PLOTLYENV=window.PLOTLYENV || {};window.PLOTLYENV.BASE_URL=\"https://plot.ly\";Plotly.newPlot(\"d1d76b0e-3edf-4273-b173-c84af9c10a4e\", [{\"type\": \"bar\", \"x\": [\"PS2\", \"X360\", \"PS3\", \"Wii\", \"DS\", \"PS\", \"GBA\", \"PS4\", \"PSP\", \"PC\", \"3DS\", \"XB\", \"GB\", \"NES\", \"N64\", \"SNES\", \"GC\", \"XOne\", \"2600\", \"WiiU\"], \"y\": [1255.6399999999871, 971.6299999999992, 939.4299999999982, 908.129999999998, 806.8099999999869, 730.679999999997, 318.499999999998, 314.22999999999905, 294.2999999999953, 260.29999999999643, 259.0899999999991, 258.25999999999834, 255.44999999999987, 251.06999999999988, 218.87999999999985, 200.05000000000024, 199.3600000000007, 159.44000000000003, 97.08000000000003, 82.16000000000003], \"name\": \"Global_Sales\", \"text\": \"\", \"marker\": {\"color\": \"rgba(0, 128, 0, 0.6)\", \"line\": {\"color\": \"rgba(0, 128, 0, 1.0)\", \"width\": 1}}, \"orientation\": \"v\"}], {\"legend\": {\"bgcolor\": \"#F5F6F9\", \"font\": {\"color\": \"#4D5663\"}}, \"paper_bgcolor\": \"#F5F6F9\", \"plot_bgcolor\": \"#F5F6F9\", \"yaxis1\": {\"tickfont\": {\"color\": \"#4D5663\"}, \"gridcolor\": \"#E1E5ED\", \"titlefont\": {\"color\": \"#4D5663\"}, \"zerolinecolor\": \"#E1E5ED\", \"showgrid\": true, \"title\": \"\"}, \"xaxis1\": {\"tickfont\": {\"color\": \"#4D5663\"}, \"gridcolor\": \"#E1E5ED\", \"titlefont\": {\"color\": \"#4D5663\"}, \"zerolinecolor\": \"#E1E5ED\", \"showgrid\": true, \"title\": \"\"}, \"titlefont\": {\"color\": \"#4D5663\"}, \"title\": \"Best Selling Platforms in Millions\"}, {\"showLink\": true, \"linkText\": \"Export to plot.ly\"})});</script>"
      ],
      "text/vnd.plotly.v1+html": [
       "<div id=\"d1d76b0e-3edf-4273-b173-c84af9c10a4e\" style=\"height: 525px; width: 100%;\" class=\"plotly-graph-div\"></div><script type=\"text/javascript\">require([\"plotly\"], function(Plotly) { window.PLOTLYENV=window.PLOTLYENV || {};window.PLOTLYENV.BASE_URL=\"https://plot.ly\";Plotly.newPlot(\"d1d76b0e-3edf-4273-b173-c84af9c10a4e\", [{\"type\": \"bar\", \"x\": [\"PS2\", \"X360\", \"PS3\", \"Wii\", \"DS\", \"PS\", \"GBA\", \"PS4\", \"PSP\", \"PC\", \"3DS\", \"XB\", \"GB\", \"NES\", \"N64\", \"SNES\", \"GC\", \"XOne\", \"2600\", \"WiiU\"], \"y\": [1255.6399999999871, 971.6299999999992, 939.4299999999982, 908.129999999998, 806.8099999999869, 730.679999999997, 318.499999999998, 314.22999999999905, 294.2999999999953, 260.29999999999643, 259.0899999999991, 258.25999999999834, 255.44999999999987, 251.06999999999988, 218.87999999999985, 200.05000000000024, 199.3600000000007, 159.44000000000003, 97.08000000000003, 82.16000000000003], \"name\": \"Global_Sales\", \"text\": \"\", \"marker\": {\"color\": \"rgba(0, 128, 0, 0.6)\", \"line\": {\"color\": \"rgba(0, 128, 0, 1.0)\", \"width\": 1}}, \"orientation\": \"v\"}], {\"legend\": {\"bgcolor\": \"#F5F6F9\", \"font\": {\"color\": \"#4D5663\"}}, \"paper_bgcolor\": \"#F5F6F9\", \"plot_bgcolor\": \"#F5F6F9\", \"yaxis1\": {\"tickfont\": {\"color\": \"#4D5663\"}, \"gridcolor\": \"#E1E5ED\", \"titlefont\": {\"color\": \"#4D5663\"}, \"zerolinecolor\": \"#E1E5ED\", \"showgrid\": true, \"title\": \"\"}, \"xaxis1\": {\"tickfont\": {\"color\": \"#4D5663\"}, \"gridcolor\": \"#E1E5ED\", \"titlefont\": {\"color\": \"#4D5663\"}, \"zerolinecolor\": \"#E1E5ED\", \"showgrid\": true, \"title\": \"\"}, \"titlefont\": {\"color\": \"#4D5663\"}, \"title\": \"Best Selling Platforms in Millions\"}, {\"showLink\": true, \"linkText\": \"Export to plot.ly\"})});</script>"
      ]
     },
     "metadata": {},
     "output_type": "display_data"
    }
   ],
   "source": [
    "bestplatsales=df[['Platform','Global_Sales']].groupby('Platform').sum().sort_values('Global_Sales', ascending = False).head(20).reset_index()\n",
    "bestplatsales.iplot(kind='bar', x ='Platform', y='Global_Sales', title='Best Selling Platforms in Millions', color ='green')\n",
    "#plt.figure(figsize=(15,10))\n",
    "\n",
    "#sns.barplot(x='Platform', y='Global_Sales', data = bestplatsales).set_xticklabels(labels= bestplatsales['Platform'], size= 16)\n",
    "\n",
    "\n"
   ]
  },
  {
   "cell_type": "markdown",
   "metadata": {},
   "source": [
    "**What are the most successful platforms in terms of Ratings?**\n",
    "\n"
   ]
  },
  {
   "cell_type": "code",
   "execution_count": 140,
   "metadata": {},
   "outputs": [
    {
     "data": {
      "application/vnd.plotly.v1+json": {
       "data": [
        {
         "marker": {
          "color": "rgba(55, 128, 191, 0.6)",
          "line": {
           "color": "rgba(55, 128, 191, 1.0)",
           "width": 1
          }
         },
         "name": "Critic_Score",
         "orientation": "v",
         "text": "",
         "type": "bar",
         "x": [
          "DC",
          "PC",
          "XOne",
          "PS4",
          "PS",
          "PSV",
          "WiiU",
          "PS3",
          "XB",
          "GC",
          "PS2",
          "X360",
          "PSP",
          "GBA",
          "3DS",
          "DS",
          "Wii",
          "2600",
          "3DO",
          "GB"
         ],
         "y": [
          87.35714285714286,
          75.92867132867133,
          73.32544378698225,
          72.09126984126983,
          71.515,
          70.79166666666667,
          70.73333333333333,
          70.3829268292683,
          69.85931034482759,
          69.48883928571429,
          68.72727272727273,
          68.61681222707423,
          67.42424242424242,
          67.37214611872146,
          67.10119047619048,
          63.76150627615063,
          62.82393162393162,
          "",
          "",
          ""
         ]
        }
       ],
       "layout": {
        "yaxis": {
         "range": [
          60,
          90
         ]
        }
       }
      },
      "text/html": [
       "<div id=\"b5fd7188-28a7-4d59-b6f5-da885f32214c\" style=\"height: 525px; width: 100%;\" class=\"plotly-graph-div\"></div><script type=\"text/javascript\">require([\"plotly\"], function(Plotly) { window.PLOTLYENV=window.PLOTLYENV || {};window.PLOTLYENV.BASE_URL=\"https://plot.ly\";Plotly.newPlot(\"b5fd7188-28a7-4d59-b6f5-da885f32214c\", [{\"type\": \"bar\", \"x\": [\"DC\", \"PC\", \"XOne\", \"PS4\", \"PS\", \"PSV\", \"WiiU\", \"PS3\", \"XB\", \"GC\", \"PS2\", \"X360\", \"PSP\", \"GBA\", \"3DS\", \"DS\", \"Wii\", \"2600\", \"3DO\", \"GB\"], \"y\": [87.35714285714286, 75.92867132867133, 73.32544378698225, 72.09126984126983, 71.515, 70.79166666666667, 70.73333333333333, 70.3829268292683, 69.85931034482759, 69.48883928571429, 68.72727272727273, 68.61681222707423, 67.42424242424242, 67.37214611872146, 67.10119047619048, 63.76150627615063, 62.82393162393162, \"\", \"\", \"\"], \"name\": \"Critic_Score\", \"text\": \"\", \"marker\": {\"color\": \"rgba(55, 128, 191, 0.6)\", \"line\": {\"color\": \"rgba(55, 128, 191, 1.0)\", \"width\": 1}}, \"orientation\": \"v\"}], {\"yaxis\": {\"range\": [60, 90]}}, {\"showLink\": true, \"linkText\": \"Export to plot.ly\"})});</script>"
      ],
      "text/vnd.plotly.v1+html": [
       "<div id=\"b5fd7188-28a7-4d59-b6f5-da885f32214c\" style=\"height: 525px; width: 100%;\" class=\"plotly-graph-div\"></div><script type=\"text/javascript\">require([\"plotly\"], function(Plotly) { window.PLOTLYENV=window.PLOTLYENV || {};window.PLOTLYENV.BASE_URL=\"https://plot.ly\";Plotly.newPlot(\"b5fd7188-28a7-4d59-b6f5-da885f32214c\", [{\"type\": \"bar\", \"x\": [\"DC\", \"PC\", \"XOne\", \"PS4\", \"PS\", \"PSV\", \"WiiU\", \"PS3\", \"XB\", \"GC\", \"PS2\", \"X360\", \"PSP\", \"GBA\", \"3DS\", \"DS\", \"Wii\", \"2600\", \"3DO\", \"GB\"], \"y\": [87.35714285714286, 75.92867132867133, 73.32544378698225, 72.09126984126983, 71.515, 70.79166666666667, 70.73333333333333, 70.3829268292683, 69.85931034482759, 69.48883928571429, 68.72727272727273, 68.61681222707423, 67.42424242424242, 67.37214611872146, 67.10119047619048, 63.76150627615063, 62.82393162393162, \"\", \"\", \"\"], \"name\": \"Critic_Score\", \"text\": \"\", \"marker\": {\"color\": \"rgba(55, 128, 191, 0.6)\", \"line\": {\"color\": \"rgba(55, 128, 191, 1.0)\", \"width\": 1}}, \"orientation\": \"v\"}], {\"yaxis\": {\"range\": [60, 90]}}, {\"showLink\": true, \"linkText\": \"Export to plot.ly\"})});</script>"
      ]
     },
     "metadata": {},
     "output_type": "display_data"
    }
   ],
   "source": [
    "bestplatscore=df[['Platform','Critic_Score']].groupby('Platform').mean().sort_values('Critic_Score', ascending = False).head(20).reset_index()\n",
    "\n",
    "\n",
    "layout = go.Layout(\n",
    "        yaxis=dict(\n",
    "            range=[60, 90]\n",
    "        )\n",
    "    )\n",
    "\n",
    "bestplatscore.iplot(kind='bar', x ='Platform', y='Critic_Score', color='blue', layout = layout)\n",
    "\n",
    "#plt.figure(figsize=(15,10))\n",
    "#plt.ylim(60, 90)\n",
    "\n",
    "#sns.barplot(x='Platform', y='Critic_Score', data = bestplatscore).set_xticklabels(labels= bestplatscore['Platform'], size= 16)\n",
    "\n"
   ]
  },
  {
   "cell_type": "markdown",
   "metadata": {},
   "source": [
    "** What are the best selling games, regardless the platform? **"
   ]
  },
  {
   "cell_type": "code",
   "execution_count": 138,
   "metadata": {},
   "outputs": [
    {
     "data": {
      "application/vnd.plotly.v1+json": {
       "data": [
        {
         "marker": {
          "color": "rgba(219, 64, 82, 0.6)",
          "line": {
           "color": "rgba(219, 64, 82, 1.0)",
           "width": 1
          }
         },
         "name": "Global_Sales",
         "orientation": "v",
         "text": "",
         "type": "bar",
         "x": [
          "Wii Sports",
          "Grand Theft Auto V",
          "Super Mario Bros.",
          "Tetris",
          "Mario Kart Wii",
          "Wii Sports Resort",
          "Pokemon Red/Pokemon Blue",
          "Call of Duty: Black Ops",
          "Call of Duty: Modern Warfare 3",
          "New Super Mario Bros.",
          "Call of Duty: Black Ops II",
          "Wii Play",
          "New Super Mario Bros. Wii",
          "Duck Hunt",
          "Call of Duty: Ghosts",
          "Super Mario World",
          "Call of Duty: Black Ops 3",
          "Call of Duty: Modern Warfare 2",
          "Nintendogs",
          "Minecraft"
         ],
         "y": [
          82.53,
          56.57000000000001,
          45.31,
          35.84,
          35.52,
          32.77,
          31.37,
          30.82,
          30.59,
          29.8,
          29.400000000000002,
          28.92,
          28.32,
          28.31,
          27.4,
          26.07,
          25.680000000000003,
          24.95,
          24.67,
          24.159999999999997
         ]
        }
       ],
       "layout": {
        "legend": {
         "bgcolor": "#F5F6F9",
         "font": {
          "color": "#4D5663"
         }
        },
        "paper_bgcolor": "#F5F6F9",
        "plot_bgcolor": "#F5F6F9",
        "titlefont": {
         "color": "#4D5663"
        },
        "xaxis1": {
         "gridcolor": "#E1E5ED",
         "showgrid": true,
         "tickfont": {
          "color": "#4D5663"
         },
         "title": "",
         "titlefont": {
          "color": "#4D5663"
         },
         "zerolinecolor": "#E1E5ED"
        },
        "yaxis1": {
         "gridcolor": "#E1E5ED",
         "showgrid": true,
         "tickfont": {
          "color": "#4D5663"
         },
         "title": "",
         "titlefont": {
          "color": "#4D5663"
         },
         "zerolinecolor": "#E1E5ED"
        }
       }
      },
      "text/html": [
       "<div id=\"540b9e36-d126-423d-88c6-eeba262acbc2\" style=\"height: 525px; width: 100%;\" class=\"plotly-graph-div\"></div><script type=\"text/javascript\">require([\"plotly\"], function(Plotly) { window.PLOTLYENV=window.PLOTLYENV || {};window.PLOTLYENV.BASE_URL=\"https://plot.ly\";Plotly.newPlot(\"540b9e36-d126-423d-88c6-eeba262acbc2\", [{\"type\": \"bar\", \"x\": [\"Wii Sports\", \"Grand Theft Auto V\", \"Super Mario Bros.\", \"Tetris\", \"Mario Kart Wii\", \"Wii Sports Resort\", \"Pokemon Red/Pokemon Blue\", \"Call of Duty: Black Ops\", \"Call of Duty: Modern Warfare 3\", \"New Super Mario Bros.\", \"Call of Duty: Black Ops II\", \"Wii Play\", \"New Super Mario Bros. Wii\", \"Duck Hunt\", \"Call of Duty: Ghosts\", \"Super Mario World\", \"Call of Duty: Black Ops 3\", \"Call of Duty: Modern Warfare 2\", \"Nintendogs\", \"Minecraft\"], \"y\": [82.53, 56.57000000000001, 45.31, 35.84, 35.52, 32.77, 31.37, 30.82, 30.59, 29.8, 29.400000000000002, 28.92, 28.32, 28.31, 27.4, 26.07, 25.680000000000003, 24.95, 24.67, 24.159999999999997], \"name\": \"Global_Sales\", \"text\": \"\", \"marker\": {\"color\": \"rgba(219, 64, 82, 0.6)\", \"line\": {\"color\": \"rgba(219, 64, 82, 1.0)\", \"width\": 1}}, \"orientation\": \"v\"}], {\"legend\": {\"bgcolor\": \"#F5F6F9\", \"font\": {\"color\": \"#4D5663\"}}, \"paper_bgcolor\": \"#F5F6F9\", \"plot_bgcolor\": \"#F5F6F9\", \"yaxis1\": {\"tickfont\": {\"color\": \"#4D5663\"}, \"gridcolor\": \"#E1E5ED\", \"titlefont\": {\"color\": \"#4D5663\"}, \"zerolinecolor\": \"#E1E5ED\", \"showgrid\": true, \"title\": \"\"}, \"xaxis1\": {\"tickfont\": {\"color\": \"#4D5663\"}, \"gridcolor\": \"#E1E5ED\", \"titlefont\": {\"color\": \"#4D5663\"}, \"zerolinecolor\": \"#E1E5ED\", \"showgrid\": true, \"title\": \"\"}, \"titlefont\": {\"color\": \"#4D5663\"}}, {\"showLink\": true, \"linkText\": \"Export to plot.ly\"})});</script>"
      ],
      "text/vnd.plotly.v1+html": [
       "<div id=\"540b9e36-d126-423d-88c6-eeba262acbc2\" style=\"height: 525px; width: 100%;\" class=\"plotly-graph-div\"></div><script type=\"text/javascript\">require([\"plotly\"], function(Plotly) { window.PLOTLYENV=window.PLOTLYENV || {};window.PLOTLYENV.BASE_URL=\"https://plot.ly\";Plotly.newPlot(\"540b9e36-d126-423d-88c6-eeba262acbc2\", [{\"type\": \"bar\", \"x\": [\"Wii Sports\", \"Grand Theft Auto V\", \"Super Mario Bros.\", \"Tetris\", \"Mario Kart Wii\", \"Wii Sports Resort\", \"Pokemon Red/Pokemon Blue\", \"Call of Duty: Black Ops\", \"Call of Duty: Modern Warfare 3\", \"New Super Mario Bros.\", \"Call of Duty: Black Ops II\", \"Wii Play\", \"New Super Mario Bros. Wii\", \"Duck Hunt\", \"Call of Duty: Ghosts\", \"Super Mario World\", \"Call of Duty: Black Ops 3\", \"Call of Duty: Modern Warfare 2\", \"Nintendogs\", \"Minecraft\"], \"y\": [82.53, 56.57000000000001, 45.31, 35.84, 35.52, 32.77, 31.37, 30.82, 30.59, 29.8, 29.400000000000002, 28.92, 28.32, 28.31, 27.4, 26.07, 25.680000000000003, 24.95, 24.67, 24.159999999999997], \"name\": \"Global_Sales\", \"text\": \"\", \"marker\": {\"color\": \"rgba(219, 64, 82, 0.6)\", \"line\": {\"color\": \"rgba(219, 64, 82, 1.0)\", \"width\": 1}}, \"orientation\": \"v\"}], {\"legend\": {\"bgcolor\": \"#F5F6F9\", \"font\": {\"color\": \"#4D5663\"}}, \"paper_bgcolor\": \"#F5F6F9\", \"plot_bgcolor\": \"#F5F6F9\", \"yaxis1\": {\"tickfont\": {\"color\": \"#4D5663\"}, \"gridcolor\": \"#E1E5ED\", \"titlefont\": {\"color\": \"#4D5663\"}, \"zerolinecolor\": \"#E1E5ED\", \"showgrid\": true, \"title\": \"\"}, \"xaxis1\": {\"tickfont\": {\"color\": \"#4D5663\"}, \"gridcolor\": \"#E1E5ED\", \"titlefont\": {\"color\": \"#4D5663\"}, \"zerolinecolor\": \"#E1E5ED\", \"showgrid\": true, \"title\": \"\"}, \"titlefont\": {\"color\": \"#4D5663\"}}, {\"showLink\": true, \"linkText\": \"Export to plot.ly\"})});</script>"
      ]
     },
     "metadata": {},
     "output_type": "display_data"
    }
   ],
   "source": [
    "bestgamesales=df[['Name','Global_Sales']].groupby('Name').sum().reset_index().sort_values(by = 'Global_Sales',ascending = False).head(20)\n",
    "bestgamesales.iplot(kind = 'bar', x = 'Name', y='Global_Sales', color = 'red')"
   ]
  },
  {
   "cell_type": "markdown",
   "metadata": {},
   "source": [
    "** What are the best rated games?**"
   ]
  },
  {
   "cell_type": "code",
   "execution_count": 10,
   "metadata": {},
   "outputs": [
    {
     "data": {
      "application/vnd.plotly.v1+json": {
       "data": [
        {
         "marker": {
          "color": "rgba(219, 64, 82, 0.6)",
          "line": {
           "color": "rgba(219, 64, 82, 1.0)",
           "width": 1
          }
         },
         "name": "Critic_Score",
         "orientation": "v",
         "text": "",
         "type": "bar",
         "x": [
          "SoulCalibur",
          "Metroid Prime",
          "NFL 2K1",
          "Super Mario Galaxy",
          "Super Mario Galaxy 2",
          "Grand Theft Auto V",
          "Tony Hawk's Pro Skater 2",
          "Tekken 3",
          "Uncharted 2: Among Thieves",
          "Gran Turismo",
          "Metal Gear Solid 2: Sons of Liberty",
          "The Legend of Zelda: The Wind Waker",
          "The Legend of Zelda: Twilight Princess",
          "BioShock",
          "Grand Theft Auto IV",
          "Red Dead Redemption",
          "Portal 2",
          "Grand Theft Auto III",
          "The Legend of Zelda: A Link to the Past",
          "Gran Turismo 3: A-Spec"
         ],
         "y": [
          98,
          97,
          97,
          97,
          97,
          96.8,
          96.5,
          96,
          96,
          96,
          96,
          96,
          95.5,
          95.33333333333333,
          95.33333333333333,
          95,
          95,
          95,
          95,
          95
         ]
        }
       ],
       "layout": {
        "yaxis": {
         "range": [
          90,
          100
         ]
        }
       }
      },
      "text/html": [
       "<div id=\"a3d61cdb-4eca-4735-9060-7e7841380237\" style=\"height: 525px; width: 100%;\" class=\"plotly-graph-div\"></div><script type=\"text/javascript\">require([\"plotly\"], function(Plotly) { window.PLOTLYENV=window.PLOTLYENV || {};window.PLOTLYENV.BASE_URL=\"https://plot.ly\";Plotly.newPlot(\"a3d61cdb-4eca-4735-9060-7e7841380237\", [{\"type\": \"bar\", \"x\": [\"SoulCalibur\", \"Metroid Prime\", \"NFL 2K1\", \"Super Mario Galaxy\", \"Super Mario Galaxy 2\", \"Grand Theft Auto V\", \"Tony Hawk's Pro Skater 2\", \"Tekken 3\", \"Uncharted 2: Among Thieves\", \"Gran Turismo\", \"Metal Gear Solid 2: Sons of Liberty\", \"The Legend of Zelda: The Wind Waker\", \"The Legend of Zelda: Twilight Princess\", \"BioShock\", \"Grand Theft Auto IV\", \"Red Dead Redemption\", \"Portal 2\", \"Grand Theft Auto III\", \"The Legend of Zelda: A Link to the Past\", \"Gran Turismo 3: A-Spec\"], \"y\": [98.0, 97.0, 97.0, 97.0, 97.0, 96.8, 96.5, 96.0, 96.0, 96.0, 96.0, 96.0, 95.5, 95.33333333333333, 95.33333333333333, 95.0, 95.0, 95.0, 95.0, 95.0], \"name\": \"Critic_Score\", \"text\": \"\", \"marker\": {\"color\": \"rgba(219, 64, 82, 0.6)\", \"line\": {\"color\": \"rgba(219, 64, 82, 1.0)\", \"width\": 1}}, \"orientation\": \"v\"}], {\"yaxis\": {\"range\": [90, 100]}}, {\"showLink\": true, \"linkText\": \"Export to plot.ly\"})});</script>"
      ],
      "text/vnd.plotly.v1+html": [
       "<div id=\"a3d61cdb-4eca-4735-9060-7e7841380237\" style=\"height: 525px; width: 100%;\" class=\"plotly-graph-div\"></div><script type=\"text/javascript\">require([\"plotly\"], function(Plotly) { window.PLOTLYENV=window.PLOTLYENV || {};window.PLOTLYENV.BASE_URL=\"https://plot.ly\";Plotly.newPlot(\"a3d61cdb-4eca-4735-9060-7e7841380237\", [{\"type\": \"bar\", \"x\": [\"SoulCalibur\", \"Metroid Prime\", \"NFL 2K1\", \"Super Mario Galaxy\", \"Super Mario Galaxy 2\", \"Grand Theft Auto V\", \"Tony Hawk's Pro Skater 2\", \"Tekken 3\", \"Uncharted 2: Among Thieves\", \"Gran Turismo\", \"Metal Gear Solid 2: Sons of Liberty\", \"The Legend of Zelda: The Wind Waker\", \"The Legend of Zelda: Twilight Princess\", \"BioShock\", \"Grand Theft Auto IV\", \"Red Dead Redemption\", \"Portal 2\", \"Grand Theft Auto III\", \"The Legend of Zelda: A Link to the Past\", \"Gran Turismo 3: A-Spec\"], \"y\": [98.0, 97.0, 97.0, 97.0, 97.0, 96.8, 96.5, 96.0, 96.0, 96.0, 96.0, 96.0, 95.5, 95.33333333333333, 95.33333333333333, 95.0, 95.0, 95.0, 95.0, 95.0], \"name\": \"Critic_Score\", \"text\": \"\", \"marker\": {\"color\": \"rgba(219, 64, 82, 0.6)\", \"line\": {\"color\": \"rgba(219, 64, 82, 1.0)\", \"width\": 1}}, \"orientation\": \"v\"}], {\"yaxis\": {\"range\": [90, 100]}}, {\"showLink\": true, \"linkText\": \"Export to plot.ly\"})});</script>"
      ]
     },
     "metadata": {},
     "output_type": "display_data"
    }
   ],
   "source": [
    "bestgamesales=df[['Name','Critic_Score']].groupby('Name').mean().reset_index().sort_values(by = 'Critic_Score',ascending = False).head(20)\n",
    "\n",
    "layout = go.Layout(\n",
    "        yaxis=dict(\n",
    "            range=[90, 100]\n",
    "        )\n",
    "    )\n",
    "\n",
    "bestgamesales.iplot(kind = 'bar', x = 'Name', y='Critic_Score', color = 'red', layout = layout)\n",
    "#change axes and start at 80 ! "
   ]
  },
  {
   "cell_type": "markdown",
   "metadata": {},
   "source": [
    "**What is the most successful game per the top Publishers?**"
   ]
  },
  {
   "cell_type": "code",
   "execution_count": 11,
   "metadata": {},
   "outputs": [
    {
     "data": {
      "application/vnd.plotly.v1+json": {
       "data": [
        {
         "marker": {
          "color": "rgba(255, 153, 51, 0.6)",
          "line": {
           "color": "rgba(255, 153, 51, 1.0)",
           "width": 1
          }
         },
         "name": "Global_Sales",
         "orientation": "v",
         "text": "",
         "type": "bar",
         "x": [
          "Nintendo",
          "Electronic Arts",
          "Activision",
          "Sony Computer Entertainment",
          "Ubisoft",
          "Take-Two Interactive",
          "THQ",
          "Konami Digital Entertainment",
          "Sega",
          "Namco Bandai Games",
          "Microsoft Game Studios",
          "Capcom",
          "Atari",
          "Warner Bros. Interactive Entertainment",
          "Square Enix",
          "Disney Interactive Studios",
          "Eidos Interactive",
          "LucasArts",
          "Bethesda Softworks",
          "Midway Games"
         ],
         "y": [
          1788.8099999999977,
          1116.9599999999898,
          731.1599999999987,
          606.4799999999988,
          471.31999999999925,
          403.81999999999965,
          338.43999999999886,
          282.389999999998,
          270.349999999999,
          254.62000000000072,
          248.3200000000001,
          200.0200000000001,
          156.83000000000038,
          151.79000000000016,
          144.3500000000001,
          117.37000000000005,
          98.64999999999995,
          85.83000000000001,
          85.05000000000001,
          69.66999999999994
         ]
        }
       ],
       "layout": {
        "legend": {
         "bgcolor": "#F5F6F9",
         "font": {
          "color": "#4D5663"
         }
        },
        "paper_bgcolor": "#F5F6F9",
        "plot_bgcolor": "#F5F6F9",
        "titlefont": {
         "color": "#4D5663"
        },
        "xaxis1": {
         "gridcolor": "#E1E5ED",
         "showgrid": true,
         "tickfont": {
          "color": "#4D5663"
         },
         "title": "",
         "titlefont": {
          "color": "#4D5663"
         },
         "zerolinecolor": "#E1E5ED"
        },
        "yaxis1": {
         "gridcolor": "#E1E5ED",
         "showgrid": true,
         "tickfont": {
          "color": "#4D5663"
         },
         "title": "",
         "titlefont": {
          "color": "#4D5663"
         },
         "zerolinecolor": "#E1E5ED"
        }
       }
      },
      "text/html": [
       "<div id=\"01048082-ff8c-4fb5-a427-94b6aecc727d\" style=\"height: 525px; width: 100%;\" class=\"plotly-graph-div\"></div><script type=\"text/javascript\">require([\"plotly\"], function(Plotly) { window.PLOTLYENV=window.PLOTLYENV || {};window.PLOTLYENV.BASE_URL=\"https://plot.ly\";Plotly.newPlot(\"01048082-ff8c-4fb5-a427-94b6aecc727d\", [{\"type\": \"bar\", \"x\": [\"Nintendo\", \"Electronic Arts\", \"Activision\", \"Sony Computer Entertainment\", \"Ubisoft\", \"Take-Two Interactive\", \"THQ\", \"Konami Digital Entertainment\", \"Sega\", \"Namco Bandai Games\", \"Microsoft Game Studios\", \"Capcom\", \"Atari\", \"Warner Bros. Interactive Entertainment\", \"Square Enix\", \"Disney Interactive Studios\", \"Eidos Interactive\", \"LucasArts\", \"Bethesda Softworks\", \"Midway Games\"], \"y\": [1788.8099999999977, 1116.9599999999898, 731.1599999999987, 606.4799999999988, 471.31999999999925, 403.81999999999965, 338.43999999999886, 282.389999999998, 270.349999999999, 254.62000000000072, 248.3200000000001, 200.0200000000001, 156.83000000000038, 151.79000000000016, 144.3500000000001, 117.37000000000005, 98.64999999999995, 85.83000000000001, 85.05000000000001, 69.66999999999994], \"name\": \"Global_Sales\", \"text\": \"\", \"marker\": {\"color\": \"rgba(255, 153, 51, 0.6)\", \"line\": {\"color\": \"rgba(255, 153, 51, 1.0)\", \"width\": 1}}, \"orientation\": \"v\"}], {\"legend\": {\"bgcolor\": \"#F5F6F9\", \"font\": {\"color\": \"#4D5663\"}}, \"paper_bgcolor\": \"#F5F6F9\", \"plot_bgcolor\": \"#F5F6F9\", \"yaxis1\": {\"tickfont\": {\"color\": \"#4D5663\"}, \"gridcolor\": \"#E1E5ED\", \"titlefont\": {\"color\": \"#4D5663\"}, \"zerolinecolor\": \"#E1E5ED\", \"showgrid\": true, \"title\": \"\"}, \"xaxis1\": {\"tickfont\": {\"color\": \"#4D5663\"}, \"gridcolor\": \"#E1E5ED\", \"titlefont\": {\"color\": \"#4D5663\"}, \"zerolinecolor\": \"#E1E5ED\", \"showgrid\": true, \"title\": \"\"}, \"titlefont\": {\"color\": \"#4D5663\"}}, {\"showLink\": true, \"linkText\": \"Export to plot.ly\"})});</script>"
      ],
      "text/vnd.plotly.v1+html": [
       "<div id=\"01048082-ff8c-4fb5-a427-94b6aecc727d\" style=\"height: 525px; width: 100%;\" class=\"plotly-graph-div\"></div><script type=\"text/javascript\">require([\"plotly\"], function(Plotly) { window.PLOTLYENV=window.PLOTLYENV || {};window.PLOTLYENV.BASE_URL=\"https://plot.ly\";Plotly.newPlot(\"01048082-ff8c-4fb5-a427-94b6aecc727d\", [{\"type\": \"bar\", \"x\": [\"Nintendo\", \"Electronic Arts\", \"Activision\", \"Sony Computer Entertainment\", \"Ubisoft\", \"Take-Two Interactive\", \"THQ\", \"Konami Digital Entertainment\", \"Sega\", \"Namco Bandai Games\", \"Microsoft Game Studios\", \"Capcom\", \"Atari\", \"Warner Bros. Interactive Entertainment\", \"Square Enix\", \"Disney Interactive Studios\", \"Eidos Interactive\", \"LucasArts\", \"Bethesda Softworks\", \"Midway Games\"], \"y\": [1788.8099999999977, 1116.9599999999898, 731.1599999999987, 606.4799999999988, 471.31999999999925, 403.81999999999965, 338.43999999999886, 282.389999999998, 270.349999999999, 254.62000000000072, 248.3200000000001, 200.0200000000001, 156.83000000000038, 151.79000000000016, 144.3500000000001, 117.37000000000005, 98.64999999999995, 85.83000000000001, 85.05000000000001, 69.66999999999994], \"name\": \"Global_Sales\", \"text\": \"\", \"marker\": {\"color\": \"rgba(255, 153, 51, 0.6)\", \"line\": {\"color\": \"rgba(255, 153, 51, 1.0)\", \"width\": 1}}, \"orientation\": \"v\"}], {\"legend\": {\"bgcolor\": \"#F5F6F9\", \"font\": {\"color\": \"#4D5663\"}}, \"paper_bgcolor\": \"#F5F6F9\", \"plot_bgcolor\": \"#F5F6F9\", \"yaxis1\": {\"tickfont\": {\"color\": \"#4D5663\"}, \"gridcolor\": \"#E1E5ED\", \"titlefont\": {\"color\": \"#4D5663\"}, \"zerolinecolor\": \"#E1E5ED\", \"showgrid\": true, \"title\": \"\"}, \"xaxis1\": {\"tickfont\": {\"color\": \"#4D5663\"}, \"gridcolor\": \"#E1E5ED\", \"titlefont\": {\"color\": \"#4D5663\"}, \"zerolinecolor\": \"#E1E5ED\", \"showgrid\": true, \"title\": \"\"}, \"titlefont\": {\"color\": \"#4D5663\"}}, {\"showLink\": true, \"linkText\": \"Export to plot.ly\"})});</script>"
      ]
     },
     "metadata": {},
     "output_type": "display_data"
    }
   ],
   "source": [
    "tenpub=df[['Publisher','Global_Sales']].groupby('Publisher').sum().sort_values('Global_Sales', ascending = False).head(20).reset_index()\n",
    "tenpub = tenpub.iplot(kind='bar', x ='Publisher', y='Global_Sales')"
   ]
  },
  {
   "cell_type": "markdown",
   "metadata": {},
   "source": [
    "**What are the top 10 platform of video games in Volume?**"
   ]
  },
  {
   "cell_type": "code",
   "execution_count": 12,
   "metadata": {},
   "outputs": [
    {
     "data": {
      "application/vnd.plotly.v1+json": {
       "data": [
        {
         "marker": {
          "color": "rgba(255, 153, 51, 0.6)",
          "line": {
           "color": "rgba(255, 153, 51, 1.0)",
           "width": 1
          }
         },
         "name": "Global_Sales",
         "orientation": "v",
         "text": "",
         "type": "bar",
         "x": [
          "PS2",
          "DS",
          "PS3",
          "Wii",
          "X360",
          "PSP",
          "PS",
          "PC",
          "XB",
          "GBA"
         ],
         "y": [
          2161,
          2151,
          1331,
          1320,
          1262,
          1209,
          1197,
          974,
          824,
          822
         ]
        }
       ],
       "layout": {
        "legend": {
         "bgcolor": "#F5F6F9",
         "font": {
          "color": "#4D5663"
         }
        },
        "paper_bgcolor": "#F5F6F9",
        "plot_bgcolor": "#F5F6F9",
        "titlefont": {
         "color": "#4D5663"
        },
        "xaxis1": {
         "gridcolor": "#E1E5ED",
         "showgrid": true,
         "tickfont": {
          "color": "#4D5663"
         },
         "title": "",
         "titlefont": {
          "color": "#4D5663"
         },
         "zerolinecolor": "#E1E5ED"
        },
        "yaxis1": {
         "gridcolor": "#E1E5ED",
         "showgrid": true,
         "tickfont": {
          "color": "#4D5663"
         },
         "title": "",
         "titlefont": {
          "color": "#4D5663"
         },
         "zerolinecolor": "#E1E5ED"
        }
       }
      },
      "text/html": [
       "<div id=\"89d73f6e-5225-4f8d-8eaa-71627086ce62\" style=\"height: 525px; width: 100%;\" class=\"plotly-graph-div\"></div><script type=\"text/javascript\">require([\"plotly\"], function(Plotly) { window.PLOTLYENV=window.PLOTLYENV || {};window.PLOTLYENV.BASE_URL=\"https://plot.ly\";Plotly.newPlot(\"89d73f6e-5225-4f8d-8eaa-71627086ce62\", [{\"type\": \"bar\", \"x\": [\"PS2\", \"DS\", \"PS3\", \"Wii\", \"X360\", \"PSP\", \"PS\", \"PC\", \"XB\", \"GBA\"], \"y\": [2161, 2151, 1331, 1320, 1262, 1209, 1197, 974, 824, 822], \"name\": \"Global_Sales\", \"text\": \"\", \"marker\": {\"color\": \"rgba(255, 153, 51, 0.6)\", \"line\": {\"color\": \"rgba(255, 153, 51, 1.0)\", \"width\": 1}}, \"orientation\": \"v\"}], {\"legend\": {\"bgcolor\": \"#F5F6F9\", \"font\": {\"color\": \"#4D5663\"}}, \"paper_bgcolor\": \"#F5F6F9\", \"plot_bgcolor\": \"#F5F6F9\", \"yaxis1\": {\"tickfont\": {\"color\": \"#4D5663\"}, \"gridcolor\": \"#E1E5ED\", \"titlefont\": {\"color\": \"#4D5663\"}, \"zerolinecolor\": \"#E1E5ED\", \"showgrid\": true, \"title\": \"\"}, \"xaxis1\": {\"tickfont\": {\"color\": \"#4D5663\"}, \"gridcolor\": \"#E1E5ED\", \"titlefont\": {\"color\": \"#4D5663\"}, \"zerolinecolor\": \"#E1E5ED\", \"showgrid\": true, \"title\": \"\"}, \"titlefont\": {\"color\": \"#4D5663\"}}, {\"showLink\": true, \"linkText\": \"Export to plot.ly\"})});</script>"
      ],
      "text/vnd.plotly.v1+html": [
       "<div id=\"89d73f6e-5225-4f8d-8eaa-71627086ce62\" style=\"height: 525px; width: 100%;\" class=\"plotly-graph-div\"></div><script type=\"text/javascript\">require([\"plotly\"], function(Plotly) { window.PLOTLYENV=window.PLOTLYENV || {};window.PLOTLYENV.BASE_URL=\"https://plot.ly\";Plotly.newPlot(\"89d73f6e-5225-4f8d-8eaa-71627086ce62\", [{\"type\": \"bar\", \"x\": [\"PS2\", \"DS\", \"PS3\", \"Wii\", \"X360\", \"PSP\", \"PS\", \"PC\", \"XB\", \"GBA\"], \"y\": [2161, 2151, 1331, 1320, 1262, 1209, 1197, 974, 824, 822], \"name\": \"Global_Sales\", \"text\": \"\", \"marker\": {\"color\": \"rgba(255, 153, 51, 0.6)\", \"line\": {\"color\": \"rgba(255, 153, 51, 1.0)\", \"width\": 1}}, \"orientation\": \"v\"}], {\"legend\": {\"bgcolor\": \"#F5F6F9\", \"font\": {\"color\": \"#4D5663\"}}, \"paper_bgcolor\": \"#F5F6F9\", \"plot_bgcolor\": \"#F5F6F9\", \"yaxis1\": {\"tickfont\": {\"color\": \"#4D5663\"}, \"gridcolor\": \"#E1E5ED\", \"titlefont\": {\"color\": \"#4D5663\"}, \"zerolinecolor\": \"#E1E5ED\", \"showgrid\": true, \"title\": \"\"}, \"xaxis1\": {\"tickfont\": {\"color\": \"#4D5663\"}, \"gridcolor\": \"#E1E5ED\", \"titlefont\": {\"color\": \"#4D5663\"}, \"zerolinecolor\": \"#E1E5ED\", \"showgrid\": true, \"title\": \"\"}, \"titlefont\": {\"color\": \"#4D5663\"}}, {\"showLink\": true, \"linkText\": \"Export to plot.ly\"})});</script>"
      ]
     },
     "metadata": {},
     "output_type": "display_data"
    }
   ],
   "source": [
    "#dd = df.groupby(['Platform','Publisher']).count().sort_values(by = 'Global_Sales', ascending=False).head(10).reset_index()\n",
    "#dd.iplot(kind='bar',x='Platform',y='Global_Sales', text='Publisher')\n",
    "\n",
    "dd = df.groupby('Platform').count().sort_values(by = 'Global_Sales', ascending=False).head(10).reset_index()\n",
    "dd.iplot(kind='bar',x='Platform',y='Global_Sales')\n",
    "\n",
    "\n"
   ]
  },
  {
   "cell_type": "markdown",
   "metadata": {},
   "source": [
    "**What are the top 10 video games in terms of Sales?**"
   ]
  },
  {
   "cell_type": "code",
   "execution_count": 13,
   "metadata": {},
   "outputs": [
    {
     "data": {
      "application/vnd.plotly.v1+json": {
       "data": [
        {
         "marker": {
          "color": "rgba(255, 153, 51, 0.6)",
          "line": {
           "color": "rgba(255, 153, 51, 1.0)",
           "width": 1
          }
         },
         "name": "Global_Sales",
         "orientation": "v",
         "text": "",
         "type": "bar",
         "x": [
          "Wii Sports",
          "Super Mario Bros.",
          "Mario Kart Wii",
          "Wii Sports Resort",
          "Pokemon Red/Pokemon Blue",
          "Tetris",
          "New Super Mario Bros.",
          "Wii Play",
          "New Super Mario Bros. Wii",
          "Duck Hunt"
         ],
         "y": [
          82.53,
          40.24,
          35.52,
          32.77,
          31.37,
          30.26,
          29.8,
          28.92,
          28.32,
          28.31
         ]
        }
       ],
       "layout": {
        "legend": {
         "bgcolor": "#F5F6F9",
         "font": {
          "color": "#4D5663"
         }
        },
        "paper_bgcolor": "#F5F6F9",
        "plot_bgcolor": "#F5F6F9",
        "titlefont": {
         "color": "#4D5663"
        },
        "xaxis1": {
         "gridcolor": "#E1E5ED",
         "showgrid": true,
         "tickfont": {
          "color": "#4D5663"
         },
         "title": "",
         "titlefont": {
          "color": "#4D5663"
         },
         "zerolinecolor": "#E1E5ED"
        },
        "yaxis1": {
         "gridcolor": "#E1E5ED",
         "showgrid": true,
         "tickfont": {
          "color": "#4D5663"
         },
         "title": "",
         "titlefont": {
          "color": "#4D5663"
         },
         "zerolinecolor": "#E1E5ED"
        }
       }
      },
      "text/html": [
       "<div id=\"8cf0bb4d-e763-460d-a874-a05ee9e9c239\" style=\"height: 525px; width: 100%;\" class=\"plotly-graph-div\"></div><script type=\"text/javascript\">require([\"plotly\"], function(Plotly) { window.PLOTLYENV=window.PLOTLYENV || {};window.PLOTLYENV.BASE_URL=\"https://plot.ly\";Plotly.newPlot(\"8cf0bb4d-e763-460d-a874-a05ee9e9c239\", [{\"type\": \"bar\", \"x\": [\"Wii Sports\", \"Super Mario Bros.\", \"Mario Kart Wii\", \"Wii Sports Resort\", \"Pokemon Red/Pokemon Blue\", \"Tetris\", \"New Super Mario Bros.\", \"Wii Play\", \"New Super Mario Bros. Wii\", \"Duck Hunt\"], \"y\": [82.53, 40.24, 35.52, 32.77, 31.37, 30.26, 29.8, 28.92, 28.32, 28.31], \"name\": \"Global_Sales\", \"text\": \"\", \"marker\": {\"color\": \"rgba(255, 153, 51, 0.6)\", \"line\": {\"color\": \"rgba(255, 153, 51, 1.0)\", \"width\": 1}}, \"orientation\": \"v\"}], {\"legend\": {\"bgcolor\": \"#F5F6F9\", \"font\": {\"color\": \"#4D5663\"}}, \"paper_bgcolor\": \"#F5F6F9\", \"plot_bgcolor\": \"#F5F6F9\", \"yaxis1\": {\"tickfont\": {\"color\": \"#4D5663\"}, \"gridcolor\": \"#E1E5ED\", \"titlefont\": {\"color\": \"#4D5663\"}, \"zerolinecolor\": \"#E1E5ED\", \"showgrid\": true, \"title\": \"\"}, \"xaxis1\": {\"tickfont\": {\"color\": \"#4D5663\"}, \"gridcolor\": \"#E1E5ED\", \"titlefont\": {\"color\": \"#4D5663\"}, \"zerolinecolor\": \"#E1E5ED\", \"showgrid\": true, \"title\": \"\"}, \"titlefont\": {\"color\": \"#4D5663\"}}, {\"showLink\": true, \"linkText\": \"Export to plot.ly\"})});</script>"
      ],
      "text/vnd.plotly.v1+html": [
       "<div id=\"8cf0bb4d-e763-460d-a874-a05ee9e9c239\" style=\"height: 525px; width: 100%;\" class=\"plotly-graph-div\"></div><script type=\"text/javascript\">require([\"plotly\"], function(Plotly) { window.PLOTLYENV=window.PLOTLYENV || {};window.PLOTLYENV.BASE_URL=\"https://plot.ly\";Plotly.newPlot(\"8cf0bb4d-e763-460d-a874-a05ee9e9c239\", [{\"type\": \"bar\", \"x\": [\"Wii Sports\", \"Super Mario Bros.\", \"Mario Kart Wii\", \"Wii Sports Resort\", \"Pokemon Red/Pokemon Blue\", \"Tetris\", \"New Super Mario Bros.\", \"Wii Play\", \"New Super Mario Bros. Wii\", \"Duck Hunt\"], \"y\": [82.53, 40.24, 35.52, 32.77, 31.37, 30.26, 29.8, 28.92, 28.32, 28.31], \"name\": \"Global_Sales\", \"text\": \"\", \"marker\": {\"color\": \"rgba(255, 153, 51, 0.6)\", \"line\": {\"color\": \"rgba(255, 153, 51, 1.0)\", \"width\": 1}}, \"orientation\": \"v\"}], {\"legend\": {\"bgcolor\": \"#F5F6F9\", \"font\": {\"color\": \"#4D5663\"}}, \"paper_bgcolor\": \"#F5F6F9\", \"plot_bgcolor\": \"#F5F6F9\", \"yaxis1\": {\"tickfont\": {\"color\": \"#4D5663\"}, \"gridcolor\": \"#E1E5ED\", \"titlefont\": {\"color\": \"#4D5663\"}, \"zerolinecolor\": \"#E1E5ED\", \"showgrid\": true, \"title\": \"\"}, \"xaxis1\": {\"tickfont\": {\"color\": \"#4D5663\"}, \"gridcolor\": \"#E1E5ED\", \"titlefont\": {\"color\": \"#4D5663\"}, \"zerolinecolor\": \"#E1E5ED\", \"showgrid\": true, \"title\": \"\"}, \"titlefont\": {\"color\": \"#4D5663\"}}, {\"showLink\": true, \"linkText\": \"Export to plot.ly\"})});</script>"
      ]
     },
     "metadata": {},
     "output_type": "display_data"
    }
   ],
   "source": [
    "top10gamessales= df[['Name','Global_Sales']].head(10)\n",
    "top10gamessales.iplot(kind='bar', x='Name', y='Global_Sales')"
   ]
  },
  {
   "cell_type": "markdown",
   "metadata": {},
   "source": [
    "** Most successful Games by Manufacturer in terms of Global Sales **"
   ]
  },
  {
   "cell_type": "code",
   "execution_count": 14,
   "metadata": {},
   "outputs": [
    {
     "data": {
      "application/vnd.plotly.v1+json": {
       "data": [
        {
         "marker": {
          "color": "rgba(255, 153, 51, 0.6)",
          "line": {
           "color": "rgba(255, 153, 51, 1.0)",
           "width": 1
          }
         },
         "name": "Global_Sales",
         "orientation": "v",
         "text": [
          "Wii Sports",
          "Kinect Adventures!",
          "Grand Theft Auto V",
          "Gran Turismo 3: A-Spec",
          "Call of Duty: Modern Warfare 3",
          "Just Dance 3",
          "The Elder Scrolls V: Skyrim",
          "FIFA 16",
          "Mario & Sonic at the Olympic Games",
          "Final Fantasy VIII",
          "Pac-Man",
          "Zumba Fitness",
          "Street Fighter II: The World Warrior",
          "Driver",
          "Metal Gear Solid 2: Sons of Liberty",
          "Final Fantasy XII",
          "The Last of Us",
          "Resident Evil 2",
          "LEGO Star Wars: The Complete Saga",
          "Batman: Arkham City"
         ],
         "type": "bar",
         "x": [
          "Nintendo",
          "Microsoft Game Studios",
          "Take-Two Interactive",
          "Sony Computer Entertainment",
          "Activision",
          "Ubisoft",
          "Bethesda Softworks",
          "Electronic Arts",
          "Sega",
          "SquareSoft",
          "Atari",
          "505 Games",
          "Capcom",
          "GT Interactive",
          "Konami Digital Entertainment",
          "Square Enix",
          "Sony Computer Entertainment Europe",
          "Virgin Interactive",
          "LucasArts",
          "Warner Bros. Interactive Entertainment"
         ],
         "y": [
          82.53,
          21.81,
          21.04,
          14.98,
          14.73,
          10.12,
          8.79,
          8.57,
          7.99,
          7.86,
          7.81,
          6.71,
          6.3,
          6.27,
          6.05,
          5.95,
          5.87,
          5.82,
          5.64,
          5.48
         ]
        }
       ],
       "layout": {
        "legend": {
         "bgcolor": "#F5F6F9",
         "font": {
          "color": "#4D5663"
         }
        },
        "paper_bgcolor": "#F5F6F9",
        "plot_bgcolor": "#F5F6F9",
        "titlefont": {
         "color": "#4D5663"
        },
        "xaxis1": {
         "gridcolor": "#E1E5ED",
         "showgrid": true,
         "tickfont": {
          "color": "#4D5663"
         },
         "title": "",
         "titlefont": {
          "color": "#4D5663"
         },
         "zerolinecolor": "#E1E5ED"
        },
        "yaxis1": {
         "gridcolor": "#E1E5ED",
         "showgrid": true,
         "tickfont": {
          "color": "#4D5663"
         },
         "title": "",
         "titlefont": {
          "color": "#4D5663"
         },
         "zerolinecolor": "#E1E5ED"
        }
       }
      },
      "text/html": [
       "<div id=\"e239610d-5bb3-4c63-b690-4e606ea9d816\" style=\"height: 525px; width: 100%;\" class=\"plotly-graph-div\"></div><script type=\"text/javascript\">require([\"plotly\"], function(Plotly) { window.PLOTLYENV=window.PLOTLYENV || {};window.PLOTLYENV.BASE_URL=\"https://plot.ly\";Plotly.newPlot(\"e239610d-5bb3-4c63-b690-4e606ea9d816\", [{\"type\": \"bar\", \"x\": [\"Nintendo\", \"Microsoft Game Studios\", \"Take-Two Interactive\", \"Sony Computer Entertainment\", \"Activision\", \"Ubisoft\", \"Bethesda Softworks\", \"Electronic Arts\", \"Sega\", \"SquareSoft\", \"Atari\", \"505 Games\", \"Capcom\", \"GT Interactive\", \"Konami Digital Entertainment\", \"Square Enix\", \"Sony Computer Entertainment Europe\", \"Virgin Interactive\", \"LucasArts\", \"Warner Bros. Interactive Entertainment\"], \"y\": [82.53, 21.81, 21.04, 14.98, 14.73, 10.12, 8.79, 8.57, 7.99, 7.86, 7.81, 6.71, 6.3, 6.27, 6.05, 5.95, 5.87, 5.82, 5.64, 5.48], \"name\": \"Global_Sales\", \"text\": [\"Wii Sports\", \"Kinect Adventures!\", \"Grand Theft Auto V\", \"Gran Turismo 3: A-Spec\", \"Call of Duty: Modern Warfare 3\", \"Just Dance 3\", \"The Elder Scrolls V: Skyrim\", \"FIFA 16\", \"Mario & Sonic at the Olympic Games\", \"Final Fantasy VIII\", \"Pac-Man\", \"Zumba Fitness\", \"Street Fighter II: The World Warrior\", \"Driver\", \"Metal Gear Solid 2: Sons of Liberty\", \"Final Fantasy XII\", \"The Last of Us\", \"Resident Evil 2\", \"LEGO Star Wars: The Complete Saga\", \"Batman: Arkham City\"], \"marker\": {\"color\": \"rgba(255, 153, 51, 0.6)\", \"line\": {\"color\": \"rgba(255, 153, 51, 1.0)\", \"width\": 1}}, \"orientation\": \"v\"}], {\"legend\": {\"bgcolor\": \"#F5F6F9\", \"font\": {\"color\": \"#4D5663\"}}, \"paper_bgcolor\": \"#F5F6F9\", \"plot_bgcolor\": \"#F5F6F9\", \"yaxis1\": {\"tickfont\": {\"color\": \"#4D5663\"}, \"gridcolor\": \"#E1E5ED\", \"titlefont\": {\"color\": \"#4D5663\"}, \"zerolinecolor\": \"#E1E5ED\", \"showgrid\": true, \"title\": \"\"}, \"xaxis1\": {\"tickfont\": {\"color\": \"#4D5663\"}, \"gridcolor\": \"#E1E5ED\", \"titlefont\": {\"color\": \"#4D5663\"}, \"zerolinecolor\": \"#E1E5ED\", \"showgrid\": true, \"title\": \"\"}, \"titlefont\": {\"color\": \"#4D5663\"}}, {\"showLink\": true, \"linkText\": \"Export to plot.ly\"})});</script>"
      ],
      "text/vnd.plotly.v1+html": [
       "<div id=\"e239610d-5bb3-4c63-b690-4e606ea9d816\" style=\"height: 525px; width: 100%;\" class=\"plotly-graph-div\"></div><script type=\"text/javascript\">require([\"plotly\"], function(Plotly) { window.PLOTLYENV=window.PLOTLYENV || {};window.PLOTLYENV.BASE_URL=\"https://plot.ly\";Plotly.newPlot(\"e239610d-5bb3-4c63-b690-4e606ea9d816\", [{\"type\": \"bar\", \"x\": [\"Nintendo\", \"Microsoft Game Studios\", \"Take-Two Interactive\", \"Sony Computer Entertainment\", \"Activision\", \"Ubisoft\", \"Bethesda Softworks\", \"Electronic Arts\", \"Sega\", \"SquareSoft\", \"Atari\", \"505 Games\", \"Capcom\", \"GT Interactive\", \"Konami Digital Entertainment\", \"Square Enix\", \"Sony Computer Entertainment Europe\", \"Virgin Interactive\", \"LucasArts\", \"Warner Bros. Interactive Entertainment\"], \"y\": [82.53, 21.81, 21.04, 14.98, 14.73, 10.12, 8.79, 8.57, 7.99, 7.86, 7.81, 6.71, 6.3, 6.27, 6.05, 5.95, 5.87, 5.82, 5.64, 5.48], \"name\": \"Global_Sales\", \"text\": [\"Wii Sports\", \"Kinect Adventures!\", \"Grand Theft Auto V\", \"Gran Turismo 3: A-Spec\", \"Call of Duty: Modern Warfare 3\", \"Just Dance 3\", \"The Elder Scrolls V: Skyrim\", \"FIFA 16\", \"Mario & Sonic at the Olympic Games\", \"Final Fantasy VIII\", \"Pac-Man\", \"Zumba Fitness\", \"Street Fighter II: The World Warrior\", \"Driver\", \"Metal Gear Solid 2: Sons of Liberty\", \"Final Fantasy XII\", \"The Last of Us\", \"Resident Evil 2\", \"LEGO Star Wars: The Complete Saga\", \"Batman: Arkham City\"], \"marker\": {\"color\": \"rgba(255, 153, 51, 0.6)\", \"line\": {\"color\": \"rgba(255, 153, 51, 1.0)\", \"width\": 1}}, \"orientation\": \"v\"}], {\"legend\": {\"bgcolor\": \"#F5F6F9\", \"font\": {\"color\": \"#4D5663\"}}, \"paper_bgcolor\": \"#F5F6F9\", \"plot_bgcolor\": \"#F5F6F9\", \"yaxis1\": {\"tickfont\": {\"color\": \"#4D5663\"}, \"gridcolor\": \"#E1E5ED\", \"titlefont\": {\"color\": \"#4D5663\"}, \"zerolinecolor\": \"#E1E5ED\", \"showgrid\": true, \"title\": \"\"}, \"xaxis1\": {\"tickfont\": {\"color\": \"#4D5663\"}, \"gridcolor\": \"#E1E5ED\", \"titlefont\": {\"color\": \"#4D5663\"}, \"zerolinecolor\": \"#E1E5ED\", \"showgrid\": true, \"title\": \"\"}, \"titlefont\": {\"color\": \"#4D5663\"}}, {\"showLink\": true, \"linkText\": \"Export to plot.ly\"})});</script>"
      ]
     },
     "metadata": {},
     "output_type": "display_data"
    }
   ],
   "source": [
    "bestgameperpub = df[['Name','Publisher','Global_Sales']]\n",
    "idx = bestgameperpub.groupby(['Publisher'])['Global_Sales'].transform(max) == df['Global_Sales']\n",
    "idx\n",
    "dfbestgameperpub=bestgameperpub[idx].head(20)\n",
    "dfbestgameperpub.iplot(kind='bar',x = 'Publisher', y='Global_Sales', text = 'Name')"
   ]
  },
  {
   "cell_type": "markdown",
   "metadata": {},
   "source": [
    "** Most successful Games by Manufacturer in terms of Rating **"
   ]
  },
  {
   "cell_type": "code",
   "execution_count": 15,
   "metadata": {},
   "outputs": [
    {
     "data": {
      "application/vnd.plotly.v1+json": {
       "data": [
        {
         "marker": {
          "color": "rgba(255, 153, 51, 0.6)",
          "line": {
           "color": "rgba(255, 153, 51, 1.0)",
           "width": 1
          }
         },
         "name": "Critic_Score",
         "orientation": "v",
         "text": [
          "Super Mario Galaxy",
          "Grand Theft Auto IV",
          "Gran Turismo",
          "Grand Theft Auto IV",
          "The Elder Scrolls V: Skyrim",
          "Super Mario Galaxy 2",
          "Tekken 3",
          "Uncharted 2: Among Thieves",
          "Halo: Combat Evolved",
          "Metal Gear Solid 2: Sons of Liberty",
          "Final Fantasy XII",
          "The Last of Us",
          "Batman: Arkham City",
          "Final Fantasy IX",
          "Guitar Hero II",
          "Tony Hawk's Pro Skater 2",
          "Half-Life",
          "Resident Evil 4",
          "Batman: Arkham Asylum",
          "Mass Effect 2"
         ],
         "type": "bar",
         "x": [
          "Nintendo",
          "Take-Two Interactive",
          "Sony Computer Entertainment",
          "Take-Two Interactive",
          "Bethesda Softworks",
          "Nintendo",
          "Sony Computer Entertainment",
          "Sony Computer Entertainment",
          "Microsoft Game Studios",
          "Konami Digital Entertainment",
          "Square Enix",
          "Sony Computer Entertainment Europe",
          "Warner Bros. Interactive Entertainment",
          "SquareSoft",
          "RedOctane",
          "Activision",
          "Vivendi Games",
          "Capcom",
          "Eidos Interactive",
          "Electronic Arts"
         ],
         "y": [
          97,
          98,
          96,
          98,
          96,
          97,
          96,
          96,
          97,
          96,
          92,
          95,
          96,
          94,
          92,
          98,
          96,
          96,
          92,
          96
         ]
        }
       ],
       "layout": {
        "yaxis": {
         "range": [
          90,
          100
         ]
        }
       }
      },
      "text/html": [
       "<div id=\"6984a776-a9d5-45e4-a1c5-d9b11ab09289\" style=\"height: 525px; width: 100%;\" class=\"plotly-graph-div\"></div><script type=\"text/javascript\">require([\"plotly\"], function(Plotly) { window.PLOTLYENV=window.PLOTLYENV || {};window.PLOTLYENV.BASE_URL=\"https://plot.ly\";Plotly.newPlot(\"6984a776-a9d5-45e4-a1c5-d9b11ab09289\", [{\"type\": \"bar\", \"x\": [\"Nintendo\", \"Take-Two Interactive\", \"Sony Computer Entertainment\", \"Take-Two Interactive\", \"Bethesda Softworks\", \"Nintendo\", \"Sony Computer Entertainment\", \"Sony Computer Entertainment\", \"Microsoft Game Studios\", \"Konami Digital Entertainment\", \"Square Enix\", \"Sony Computer Entertainment Europe\", \"Warner Bros. Interactive Entertainment\", \"SquareSoft\", \"RedOctane\", \"Activision\", \"Vivendi Games\", \"Capcom\", \"Eidos Interactive\", \"Electronic Arts\"], \"y\": [97.0, 98.0, 96.0, 98.0, 96.0, 97.0, 96.0, 96.0, 97.0, 96.0, 92.0, 95.0, 96.0, 94.0, 92.0, 98.0, 96.0, 96.0, 92.0, 96.0], \"name\": \"Critic_Score\", \"text\": [\"Super Mario Galaxy\", \"Grand Theft Auto IV\", \"Gran Turismo\", \"Grand Theft Auto IV\", \"The Elder Scrolls V: Skyrim\", \"Super Mario Galaxy 2\", \"Tekken 3\", \"Uncharted 2: Among Thieves\", \"Halo: Combat Evolved\", \"Metal Gear Solid 2: Sons of Liberty\", \"Final Fantasy XII\", \"The Last of Us\", \"Batman: Arkham City\", \"Final Fantasy IX\", \"Guitar Hero II\", \"Tony Hawk's Pro Skater 2\", \"Half-Life\", \"Resident Evil 4\", \"Batman: Arkham Asylum\", \"Mass Effect 2\"], \"marker\": {\"color\": \"rgba(255, 153, 51, 0.6)\", \"line\": {\"color\": \"rgba(255, 153, 51, 1.0)\", \"width\": 1}}, \"orientation\": \"v\"}], {\"yaxis\": {\"range\": [90, 100]}}, {\"showLink\": true, \"linkText\": \"Export to plot.ly\"})});</script>"
      ],
      "text/vnd.plotly.v1+html": [
       "<div id=\"6984a776-a9d5-45e4-a1c5-d9b11ab09289\" style=\"height: 525px; width: 100%;\" class=\"plotly-graph-div\"></div><script type=\"text/javascript\">require([\"plotly\"], function(Plotly) { window.PLOTLYENV=window.PLOTLYENV || {};window.PLOTLYENV.BASE_URL=\"https://plot.ly\";Plotly.newPlot(\"6984a776-a9d5-45e4-a1c5-d9b11ab09289\", [{\"type\": \"bar\", \"x\": [\"Nintendo\", \"Take-Two Interactive\", \"Sony Computer Entertainment\", \"Take-Two Interactive\", \"Bethesda Softworks\", \"Nintendo\", \"Sony Computer Entertainment\", \"Sony Computer Entertainment\", \"Microsoft Game Studios\", \"Konami Digital Entertainment\", \"Square Enix\", \"Sony Computer Entertainment Europe\", \"Warner Bros. Interactive Entertainment\", \"SquareSoft\", \"RedOctane\", \"Activision\", \"Vivendi Games\", \"Capcom\", \"Eidos Interactive\", \"Electronic Arts\"], \"y\": [97.0, 98.0, 96.0, 98.0, 96.0, 97.0, 96.0, 96.0, 97.0, 96.0, 92.0, 95.0, 96.0, 94.0, 92.0, 98.0, 96.0, 96.0, 92.0, 96.0], \"name\": \"Critic_Score\", \"text\": [\"Super Mario Galaxy\", \"Grand Theft Auto IV\", \"Gran Turismo\", \"Grand Theft Auto IV\", \"The Elder Scrolls V: Skyrim\", \"Super Mario Galaxy 2\", \"Tekken 3\", \"Uncharted 2: Among Thieves\", \"Halo: Combat Evolved\", \"Metal Gear Solid 2: Sons of Liberty\", \"Final Fantasy XII\", \"The Last of Us\", \"Batman: Arkham City\", \"Final Fantasy IX\", \"Guitar Hero II\", \"Tony Hawk's Pro Skater 2\", \"Half-Life\", \"Resident Evil 4\", \"Batman: Arkham Asylum\", \"Mass Effect 2\"], \"marker\": {\"color\": \"rgba(255, 153, 51, 0.6)\", \"line\": {\"color\": \"rgba(255, 153, 51, 1.0)\", \"width\": 1}}, \"orientation\": \"v\"}], {\"yaxis\": {\"range\": [90, 100]}}, {\"showLink\": true, \"linkText\": \"Export to plot.ly\"})});</script>"
      ]
     },
     "metadata": {},
     "output_type": "display_data"
    }
   ],
   "source": [
    "bestgameperpubr = df[['Name','Publisher','Critic_Score']]\n",
    "idx = bestgameperpubr.groupby(['Publisher'])['Critic_Score'].transform(max) == df['Critic_Score']\n",
    "dfbestgameperpubr=bestgameperpubr[idx].head(20)\n",
    "\n",
    "layout = go.Layout(\n",
    "        yaxis=dict(\n",
    "            range=[90, 100]\n",
    "        )\n",
    "    )\n",
    "\n",
    "dfbestgameperpubr.iplot(kind='bar',x = 'Publisher', y='Critic_Score', text = 'Name', layout=layout)\n",
    "\n",
    "\n",
    "#changes axes here "
   ]
  },
  {
   "cell_type": "markdown",
   "metadata": {},
   "source": [
    "** What the top 5 games per platform in terms of Sales **"
   ]
  },
  {
   "cell_type": "code",
   "execution_count": 16,
   "metadata": {},
   "outputs": [
    {
     "data": {
      "application/vnd.plotly.v1+json": {
       "data": [
        {
         "marker": {
          "color": "rgba(255, 153, 51, 0.6)",
          "line": {
           "color": "rgba(255, 153, 51, 1.0)",
           "width": 1
          }
         },
         "name": "Global_Sales",
         "orientation": "v",
         "text": [
          "Kinect Adventures!",
          "Grand Theft Auto V",
          "Call of Duty: Modern Warfare 3",
          "Call of Duty: Black Ops",
          "Call of Duty: Black Ops II",
          "Wii Sports",
          "Mario Kart Wii",
          "Wii Sports Resort",
          "Wii Play",
          "New Super Mario Bros. Wii",
          "Super Mario World",
          "Super Mario All-Stars",
          "Donkey Kong Country",
          "Super Mario Kart",
          "Street Fighter II: The World Warrior",
          "Call of Duty: Black Ops 3",
          "Grand Theft Auto V",
          "FIFA 16",
          "Star Wars Battlefront (2015)",
          "Call of Duty: Advanced Warfare",
          "Grand Theft Auto V",
          "Call of Duty: Black Ops II",
          "Call of Duty: Modern Warfare 3",
          "Call of Duty: Black Ops",
          "Gran Turismo 5",
          "Grand Theft Auto: San Andreas",
          "Grand Theft Auto: Vice City",
          "Gran Turismo 3: A-Spec",
          "Grand Theft Auto III",
          "Gran Turismo 4",
          "Super Mario Bros.",
          "Duck Hunt",
          "Super Mario Bros. 3",
          "Super Mario Bros. 2",
          "The Legend of Zelda",
          "Pokemon Red/Pokemon Blue",
          "Tetris",
          "Pokemon Gold/Pokemon Silver",
          "Super Mario Land",
          "Pokémon Yellow: Special Pikachu Edition",
          "New Super Mario Bros.",
          "Nintendogs",
          "Mario Kart DS",
          "Brain Age: Train Your Brain in Minutes a Day",
          "Pokemon Diamond/Pokemon Pearl",
          "Pokemon X/Pokemon Y",
          "Mario Kart 7",
          "Pokemon Omega Ruby/Pokemon Alpha Sapphire",
          "Super Mario 3D Land",
          "New Super Mario Bros. 2"
         ],
         "type": "bar",
         "x": [
          "(X360,Kinect Adventures!)",
          "(X360,Grand Theft Auto V)",
          "(X360,Call of Duty: Modern Warfare 3)",
          "(X360,Call of Duty: Black Ops)",
          "(X360,Call of Duty: Black Ops II)",
          "(Wii,Wii Sports)",
          "(Wii,Mario Kart Wii)",
          "(Wii,Wii Sports Resort)",
          "(Wii,Wii Play)",
          "(Wii,New Super Mario Bros. Wii)",
          "(SNES,Super Mario World)",
          "(SNES,Super Mario All-Stars)",
          "(SNES,Donkey Kong Country)",
          "(SNES,Super Mario Kart)",
          "(SNES,Street Fighter II: The World Warrior)",
          "(PS4,Call of Duty: Black Ops 3)",
          "(PS4,Grand Theft Auto V)",
          "(PS4,FIFA 16)",
          "(PS4,Star Wars Battlefront (2015))",
          "(PS4,Call of Duty: Advanced Warfare)",
          "(PS3,Grand Theft Auto V)",
          "(PS3,Call of Duty: Black Ops II)",
          "(PS3,Call of Duty: Modern Warfare 3)",
          "(PS3,Call of Duty: Black Ops)",
          "(PS3,Gran Turismo 5)",
          "(PS2,Grand Theft Auto: San Andreas)",
          "(PS2,Grand Theft Auto: Vice City)",
          "(PS2,Gran Turismo 3: A-Spec)",
          "(PS2,Grand Theft Auto III)",
          "(PS2,Gran Turismo 4)",
          "(NES,Super Mario Bros.)",
          "(NES,Duck Hunt)",
          "(NES,Super Mario Bros. 3)",
          "(NES,Super Mario Bros. 2)",
          "(NES,The Legend of Zelda)",
          "(GB,Pokemon Red/Pokemon Blue)",
          "(GB,Tetris)",
          "(GB,Pokemon Gold/Pokemon Silver)",
          "(GB,Super Mario Land)",
          "(GB,Pokémon Yellow: Special Pikachu Edition)",
          "(DS,New Super Mario Bros.)",
          "(DS,Nintendogs)",
          "(DS,Mario Kart DS)",
          "(DS,Brain Age: Train Your Brain in Minutes a Day)",
          "(DS,Pokemon Diamond/Pokemon Pearl)",
          "(3DS,Pokemon X/Pokemon Y)",
          "(3DS,Mario Kart 7)",
          "(3DS,Pokemon Omega Ruby/Pokemon Alpha Sapphire)",
          "(3DS,Super Mario 3D Land)",
          "(3DS,New Super Mario Bros. 2)"
         ],
         "y": [
          21.81,
          16.27,
          14.73,
          14.61,
          13.67,
          82.53,
          35.52,
          32.77,
          28.92,
          28.32,
          20.61,
          10.55,
          9.3,
          8.76,
          6.3,
          14.63,
          12.61,
          8.57,
          7.98,
          7.66,
          21.04,
          13.79,
          13.32,
          12.63,
          10.7,
          20.81,
          16.15,
          14.98,
          13.1,
          11.66,
          40.24,
          28.31,
          17.28,
          7.46,
          6.51,
          31.37,
          30.26,
          23.1,
          18.14,
          14.64,
          29.8,
          24.67,
          23.21,
          20.15,
          18.25,
          14.6,
          12.66,
          11.68,
          10.81,
          9.9
         ]
        }
       ],
       "layout": {
        "legend": {
         "bgcolor": "#F5F6F9",
         "font": {
          "color": "#4D5663"
         }
        },
        "paper_bgcolor": "#F5F6F9",
        "plot_bgcolor": "#F5F6F9",
        "titlefont": {
         "color": "#4D5663"
        },
        "xaxis1": {
         "gridcolor": "#E1E5ED",
         "showgrid": true,
         "tickfont": {
          "color": "#4D5663"
         },
         "title": "",
         "titlefont": {
          "color": "#4D5663"
         },
         "zerolinecolor": "#E1E5ED"
        },
        "yaxis1": {
         "gridcolor": "#E1E5ED",
         "showgrid": true,
         "tickfont": {
          "color": "#4D5663"
         },
         "title": "",
         "titlefont": {
          "color": "#4D5663"
         },
         "zerolinecolor": "#E1E5ED"
        }
       }
      },
      "text/html": [
       "<div id=\"87fd89a2-6fd3-4dfc-aa56-8ad0e8e97303\" style=\"height: 525px; width: 100%;\" class=\"plotly-graph-div\"></div><script type=\"text/javascript\">require([\"plotly\"], function(Plotly) { window.PLOTLYENV=window.PLOTLYENV || {};window.PLOTLYENV.BASE_URL=\"https://plot.ly\";Plotly.newPlot(\"87fd89a2-6fd3-4dfc-aa56-8ad0e8e97303\", [{\"type\": \"bar\", \"x\": [\"(X360,Kinect Adventures!)\", \"(X360,Grand Theft Auto V)\", \"(X360,Call of Duty: Modern Warfare 3)\", \"(X360,Call of Duty: Black Ops)\", \"(X360,Call of Duty: Black Ops II)\", \"(Wii,Wii Sports)\", \"(Wii,Mario Kart Wii)\", \"(Wii,Wii Sports Resort)\", \"(Wii,Wii Play)\", \"(Wii,New Super Mario Bros. Wii)\", \"(SNES,Super Mario World)\", \"(SNES,Super Mario All-Stars)\", \"(SNES,Donkey Kong Country)\", \"(SNES,Super Mario Kart)\", \"(SNES,Street Fighter II: The World Warrior)\", \"(PS4,Call of Duty: Black Ops 3)\", \"(PS4,Grand Theft Auto V)\", \"(PS4,FIFA 16)\", \"(PS4,Star Wars Battlefront (2015))\", \"(PS4,Call of Duty: Advanced Warfare)\", \"(PS3,Grand Theft Auto V)\", \"(PS3,Call of Duty: Black Ops II)\", \"(PS3,Call of Duty: Modern Warfare 3)\", \"(PS3,Call of Duty: Black Ops)\", \"(PS3,Gran Turismo 5)\", \"(PS2,Grand Theft Auto: San Andreas)\", \"(PS2,Grand Theft Auto: Vice City)\", \"(PS2,Gran Turismo 3: A-Spec)\", \"(PS2,Grand Theft Auto III)\", \"(PS2,Gran Turismo 4)\", \"(NES,Super Mario Bros.)\", \"(NES,Duck Hunt)\", \"(NES,Super Mario Bros. 3)\", \"(NES,Super Mario Bros. 2)\", \"(NES,The Legend of Zelda)\", \"(GB,Pokemon Red/Pokemon Blue)\", \"(GB,Tetris)\", \"(GB,Pokemon Gold/Pokemon Silver)\", \"(GB,Super Mario Land)\", \"(GB,Pok\\u00e9mon Yellow: Special Pikachu Edition)\", \"(DS,New Super Mario Bros.)\", \"(DS,Nintendogs)\", \"(DS,Mario Kart DS)\", \"(DS,Brain Age: Train Your Brain in Minutes a Day)\", \"(DS,Pokemon Diamond/Pokemon Pearl)\", \"(3DS,Pokemon X/Pokemon Y)\", \"(3DS,Mario Kart 7)\", \"(3DS,Pokemon Omega Ruby/Pokemon Alpha Sapphire)\", \"(3DS,Super Mario 3D Land)\", \"(3DS,New Super Mario Bros. 2)\"], \"y\": [21.81, 16.27, 14.73, 14.61, 13.67, 82.53, 35.52, 32.77, 28.92, 28.32, 20.61, 10.55, 9.3, 8.76, 6.3, 14.63, 12.61, 8.57, 7.98, 7.66, 21.04, 13.79, 13.32, 12.63, 10.7, 20.81, 16.15, 14.98, 13.1, 11.66, 40.24, 28.31, 17.28, 7.46, 6.51, 31.37, 30.26, 23.1, 18.14, 14.64, 29.8, 24.67, 23.21, 20.15, 18.25, 14.6, 12.66, 11.68, 10.81, 9.9], \"name\": \"Global_Sales\", \"text\": [\"Kinect Adventures!\", \"Grand Theft Auto V\", \"Call of Duty: Modern Warfare 3\", \"Call of Duty: Black Ops\", \"Call of Duty: Black Ops II\", \"Wii Sports\", \"Mario Kart Wii\", \"Wii Sports Resort\", \"Wii Play\", \"New Super Mario Bros. Wii\", \"Super Mario World\", \"Super Mario All-Stars\", \"Donkey Kong Country\", \"Super Mario Kart\", \"Street Fighter II: The World Warrior\", \"Call of Duty: Black Ops 3\", \"Grand Theft Auto V\", \"FIFA 16\", \"Star Wars Battlefront (2015)\", \"Call of Duty: Advanced Warfare\", \"Grand Theft Auto V\", \"Call of Duty: Black Ops II\", \"Call of Duty: Modern Warfare 3\", \"Call of Duty: Black Ops\", \"Gran Turismo 5\", \"Grand Theft Auto: San Andreas\", \"Grand Theft Auto: Vice City\", \"Gran Turismo 3: A-Spec\", \"Grand Theft Auto III\", \"Gran Turismo 4\", \"Super Mario Bros.\", \"Duck Hunt\", \"Super Mario Bros. 3\", \"Super Mario Bros. 2\", \"The Legend of Zelda\", \"Pokemon Red/Pokemon Blue\", \"Tetris\", \"Pokemon Gold/Pokemon Silver\", \"Super Mario Land\", \"Pok\\u00e9mon Yellow: Special Pikachu Edition\", \"New Super Mario Bros.\", \"Nintendogs\", \"Mario Kart DS\", \"Brain Age: Train Your Brain in Minutes a Day\", \"Pokemon Diamond/Pokemon Pearl\", \"Pokemon X/Pokemon Y\", \"Mario Kart 7\", \"Pokemon Omega Ruby/Pokemon Alpha Sapphire\", \"Super Mario 3D Land\", \"New Super Mario Bros. 2\"], \"marker\": {\"color\": \"rgba(255, 153, 51, 0.6)\", \"line\": {\"color\": \"rgba(255, 153, 51, 1.0)\", \"width\": 1}}, \"orientation\": \"v\"}], {\"legend\": {\"bgcolor\": \"#F5F6F9\", \"font\": {\"color\": \"#4D5663\"}}, \"paper_bgcolor\": \"#F5F6F9\", \"plot_bgcolor\": \"#F5F6F9\", \"yaxis1\": {\"tickfont\": {\"color\": \"#4D5663\"}, \"gridcolor\": \"#E1E5ED\", \"titlefont\": {\"color\": \"#4D5663\"}, \"zerolinecolor\": \"#E1E5ED\", \"showgrid\": true, \"title\": \"\"}, \"xaxis1\": {\"tickfont\": {\"color\": \"#4D5663\"}, \"gridcolor\": \"#E1E5ED\", \"titlefont\": {\"color\": \"#4D5663\"}, \"zerolinecolor\": \"#E1E5ED\", \"showgrid\": true, \"title\": \"\"}, \"titlefont\": {\"color\": \"#4D5663\"}}, {\"showLink\": true, \"linkText\": \"Export to plot.ly\"})});</script>"
      ],
      "text/vnd.plotly.v1+html": [
       "<div id=\"87fd89a2-6fd3-4dfc-aa56-8ad0e8e97303\" style=\"height: 525px; width: 100%;\" class=\"plotly-graph-div\"></div><script type=\"text/javascript\">require([\"plotly\"], function(Plotly) { window.PLOTLYENV=window.PLOTLYENV || {};window.PLOTLYENV.BASE_URL=\"https://plot.ly\";Plotly.newPlot(\"87fd89a2-6fd3-4dfc-aa56-8ad0e8e97303\", [{\"type\": \"bar\", \"x\": [\"(X360,Kinect Adventures!)\", \"(X360,Grand Theft Auto V)\", \"(X360,Call of Duty: Modern Warfare 3)\", \"(X360,Call of Duty: Black Ops)\", \"(X360,Call of Duty: Black Ops II)\", \"(Wii,Wii Sports)\", \"(Wii,Mario Kart Wii)\", \"(Wii,Wii Sports Resort)\", \"(Wii,Wii Play)\", \"(Wii,New Super Mario Bros. Wii)\", \"(SNES,Super Mario World)\", \"(SNES,Super Mario All-Stars)\", \"(SNES,Donkey Kong Country)\", \"(SNES,Super Mario Kart)\", \"(SNES,Street Fighter II: The World Warrior)\", \"(PS4,Call of Duty: Black Ops 3)\", \"(PS4,Grand Theft Auto V)\", \"(PS4,FIFA 16)\", \"(PS4,Star Wars Battlefront (2015))\", \"(PS4,Call of Duty: Advanced Warfare)\", \"(PS3,Grand Theft Auto V)\", \"(PS3,Call of Duty: Black Ops II)\", \"(PS3,Call of Duty: Modern Warfare 3)\", \"(PS3,Call of Duty: Black Ops)\", \"(PS3,Gran Turismo 5)\", \"(PS2,Grand Theft Auto: San Andreas)\", \"(PS2,Grand Theft Auto: Vice City)\", \"(PS2,Gran Turismo 3: A-Spec)\", \"(PS2,Grand Theft Auto III)\", \"(PS2,Gran Turismo 4)\", \"(NES,Super Mario Bros.)\", \"(NES,Duck Hunt)\", \"(NES,Super Mario Bros. 3)\", \"(NES,Super Mario Bros. 2)\", \"(NES,The Legend of Zelda)\", \"(GB,Pokemon Red/Pokemon Blue)\", \"(GB,Tetris)\", \"(GB,Pokemon Gold/Pokemon Silver)\", \"(GB,Super Mario Land)\", \"(GB,Pok\\u00e9mon Yellow: Special Pikachu Edition)\", \"(DS,New Super Mario Bros.)\", \"(DS,Nintendogs)\", \"(DS,Mario Kart DS)\", \"(DS,Brain Age: Train Your Brain in Minutes a Day)\", \"(DS,Pokemon Diamond/Pokemon Pearl)\", \"(3DS,Pokemon X/Pokemon Y)\", \"(3DS,Mario Kart 7)\", \"(3DS,Pokemon Omega Ruby/Pokemon Alpha Sapphire)\", \"(3DS,Super Mario 3D Land)\", \"(3DS,New Super Mario Bros. 2)\"], \"y\": [21.81, 16.27, 14.73, 14.61, 13.67, 82.53, 35.52, 32.77, 28.92, 28.32, 20.61, 10.55, 9.3, 8.76, 6.3, 14.63, 12.61, 8.57, 7.98, 7.66, 21.04, 13.79, 13.32, 12.63, 10.7, 20.81, 16.15, 14.98, 13.1, 11.66, 40.24, 28.31, 17.28, 7.46, 6.51, 31.37, 30.26, 23.1, 18.14, 14.64, 29.8, 24.67, 23.21, 20.15, 18.25, 14.6, 12.66, 11.68, 10.81, 9.9], \"name\": \"Global_Sales\", \"text\": [\"Kinect Adventures!\", \"Grand Theft Auto V\", \"Call of Duty: Modern Warfare 3\", \"Call of Duty: Black Ops\", \"Call of Duty: Black Ops II\", \"Wii Sports\", \"Mario Kart Wii\", \"Wii Sports Resort\", \"Wii Play\", \"New Super Mario Bros. Wii\", \"Super Mario World\", \"Super Mario All-Stars\", \"Donkey Kong Country\", \"Super Mario Kart\", \"Street Fighter II: The World Warrior\", \"Call of Duty: Black Ops 3\", \"Grand Theft Auto V\", \"FIFA 16\", \"Star Wars Battlefront (2015)\", \"Call of Duty: Advanced Warfare\", \"Grand Theft Auto V\", \"Call of Duty: Black Ops II\", \"Call of Duty: Modern Warfare 3\", \"Call of Duty: Black Ops\", \"Gran Turismo 5\", \"Grand Theft Auto: San Andreas\", \"Grand Theft Auto: Vice City\", \"Gran Turismo 3: A-Spec\", \"Grand Theft Auto III\", \"Gran Turismo 4\", \"Super Mario Bros.\", \"Duck Hunt\", \"Super Mario Bros. 3\", \"Super Mario Bros. 2\", \"The Legend of Zelda\", \"Pokemon Red/Pokemon Blue\", \"Tetris\", \"Pokemon Gold/Pokemon Silver\", \"Super Mario Land\", \"Pok\\u00e9mon Yellow: Special Pikachu Edition\", \"New Super Mario Bros.\", \"Nintendogs\", \"Mario Kart DS\", \"Brain Age: Train Your Brain in Minutes a Day\", \"Pokemon Diamond/Pokemon Pearl\", \"Pokemon X/Pokemon Y\", \"Mario Kart 7\", \"Pokemon Omega Ruby/Pokemon Alpha Sapphire\", \"Super Mario 3D Land\", \"New Super Mario Bros. 2\"], \"marker\": {\"color\": \"rgba(255, 153, 51, 0.6)\", \"line\": {\"color\": \"rgba(255, 153, 51, 1.0)\", \"width\": 1}}, \"orientation\": \"v\"}], {\"legend\": {\"bgcolor\": \"#F5F6F9\", \"font\": {\"color\": \"#4D5663\"}}, \"paper_bgcolor\": \"#F5F6F9\", \"plot_bgcolor\": \"#F5F6F9\", \"yaxis1\": {\"tickfont\": {\"color\": \"#4D5663\"}, \"gridcolor\": \"#E1E5ED\", \"titlefont\": {\"color\": \"#4D5663\"}, \"zerolinecolor\": \"#E1E5ED\", \"showgrid\": true, \"title\": \"\"}, \"xaxis1\": {\"tickfont\": {\"color\": \"#4D5663\"}, \"gridcolor\": \"#E1E5ED\", \"titlefont\": {\"color\": \"#4D5663\"}, \"zerolinecolor\": \"#E1E5ED\", \"showgrid\": true, \"title\": \"\"}, \"titlefont\": {\"color\": \"#4D5663\"}}, {\"showLink\": true, \"linkText\": \"Export to plot.ly\"})});</script>"
      ]
     },
     "metadata": {},
     "output_type": "display_data"
    }
   ],
   "source": [
    "#select the wanted columns for the original dataframe\n",
    "top5perplatsales = df[['Platform','Name','Global_Sales']]\n",
    "\n",
    "#group it by platform and Name\n",
    "grouped = top5perplatsales. groupby(['Platform','Name'])['Global_Sales'].sum()\n",
    "\n",
    "#sort it by descending order\n",
    "sortedd = grouped.reset_index().sort_values(['Platform','Global_Sales'],ascending = False)\n",
    "\n",
    "#get the top 5 sales per platform\n",
    "filtered = sortedd.groupby(['Platform']).head(5)\n",
    "\n",
    "#create a list of the top 10 platform \n",
    "top = filtered.groupby(['Platform']).sum().sort_values(['Global_Sales'], ascending= False).head(10).reset_index()\n",
    "toplist = top['Platform'].tolist()\n",
    "\n",
    "#use a list above to filter again the filtered dataframe\n",
    "dd = filtered[filtered['Platform'].isin(toplist)]\n",
    "dd\n",
    "\n",
    "\n",
    "dd.iplot(kind='bar',x = ['Platform','Name'], y='Global_Sales', text = 'Name')"
   ]
  },
  {
   "cell_type": "raw",
   "metadata": {
    "collapsed": true
   },
   "source": []
  },
  {
   "cell_type": "markdown",
   "metadata": {},
   "source": [
    "** What is the average sales per console per manufacturer **"
   ]
  },
  {
   "cell_type": "markdown",
   "metadata": {},
   "source": [
    "** How the Sales are envolving on the different geo location ? **"
   ]
  },
  {
   "cell_type": "code",
   "execution_count": 136,
   "metadata": {},
   "outputs": [
    {
     "data": {
      "application/vnd.plotly.v1+json": {
       "data": [
        {
         "marker": {
          "color": "rgba(255, 153, 51, 1.0)",
          "line": {
           "width": 1.3
          },
          "opacity": 0.8,
          "size": 20,
          "symbol": "dot"
         },
         "mode": "markers",
         "name": "X360",
         "textfont": {
          "color": "#4D5663"
         },
         "type": "scatter",
         "x": [
          "Microsoft Game Studios",
          "Valve Software",
          "Bethesda Softworks"
         ],
         "y": [
          2.3111267605633805,
          2.08,
          1.68
         ]
        },
        {
         "marker": {
          "color": "rgba(55, 128, 191, 1.0)",
          "line": {
           "width": 1.3
          },
          "opacity": 0.8,
          "size": 20,
          "symbol": "dot"
         },
         "mode": "markers",
         "name": "Wii",
         "textfont": {
          "color": "#4D5663"
         },
         "type": "scatter",
         "x": [
          "Nintendo",
          "LucasArts",
          "Sega"
         ],
         "y": [
          4.653614457831325,
          1.9049999999999998,
          0.9190909090909095
         ]
        },
        {
         "marker": {
          "color": "rgba(50, 171, 96, 1.0)",
          "line": {
           "width": 1.3
          },
          "opacity": 0.8,
          "size": 20,
          "symbol": "dot"
         },
         "mode": "markers",
         "name": "SNES",
         "textfont": {
          "color": "#4D5663"
         },
         "type": "scatter",
         "x": [
          "Nintendo",
          "Virgin Interactive",
          "Square"
         ],
         "y": [
          2.69,
          1.79,
          1.77
         ]
        },
        {
         "marker": {
          "color": "rgba(128, 0, 128, 1.0)",
          "line": {
           "width": 1.3
          },
          "opacity": 0.8,
          "size": 20,
          "symbol": "dot"
         },
         "mode": "markers",
         "name": "PS4",
         "textfont": {
          "color": "#4D5663"
         },
         "type": "scatter",
         "x": [
          "Electronic Arts",
          "Take-Two Interactive",
          "Sony Computer Entertainment Europe"
         ],
         "y": [
          2.3003571428571434,
          2.117857142857143,
          1.9750000000000003
         ]
        },
        {
         "marker": {
          "color": "rgba(219, 64, 82, 1.0)",
          "line": {
           "width": 1.3
          },
          "opacity": 0.8,
          "size": 20,
          "symbol": "dot"
         },
         "mode": "markers",
         "name": "PS2",
         "textfont": {
          "color": "#4D5663"
         },
         "type": "scatter",
         "x": [
          "Sony Computer Entertainment Europe",
          "RedOctane",
          "Take-Two Interactive"
         ],
         "y": [
          2.44,
          2.17,
          1.5101666666666667
         ]
        },
        {
         "marker": {
          "color": "rgba(0, 128, 128, 1.0)",
          "line": {
           "width": 1.3
          },
          "opacity": 0.8,
          "size": 20,
          "symbol": "dot"
         },
         "mode": "markers",
         "name": "PS",
         "textfont": {
          "color": "#4D5663"
         },
         "type": "scatter",
         "x": [
          "UEP Systems",
          "SquareSoft",
          "Enix Corporation"
         ],
         "y": [
          2.25,
          1.2876000000000003,
          1.2866666666666668
         ]
        },
        {
         "marker": {
          "color": "rgba(255, 255, 51, 1.0)",
          "line": {
           "width": 1.3
          },
          "opacity": 0.8,
          "size": 20,
          "symbol": "dot"
         },
         "mode": "markers",
         "name": "PC",
         "textfont": {
          "color": "#4D5663"
         },
         "type": "scatter",
         "x": [
          "Red Orb",
          "Hasbro Interactive",
          "Virgin Interactive"
         ],
         "y": [
          2.62,
          2.39,
          1.815
         ]
        },
        {
         "marker": {
          "color": "rgba(128, 128, 0, 1.0)",
          "line": {
           "width": 1.3
          },
          "opacity": 0.8,
          "size": 20,
          "symbol": "dot"
         },
         "mode": "markers",
         "name": "NES",
         "textfont": {
          "color": "#4D5663"
         },
         "type": "scatter",
         "x": [
          "Palcom",
          "Nintendo",
          "Enix Corporation"
         ],
         "y": [
          4.17,
          4.08822222222222,
          3.1833333333333336
         ]
        },
        {
         "marker": {
          "color": "rgba(251, 128, 114, 1.0)",
          "line": {
           "width": 1.3
          },
          "opacity": 0.8,
          "size": 20,
          "symbol": "dot"
         },
         "mode": "markers",
         "name": "GEN",
         "textfont": {
          "color": "#4D5663"
         },
         "type": "scatter",
         "x": [
          "Arena Entertainment",
          "Virgin Interactive",
          "Acclaim Entertainment"
         ],
         "y": [
          2.36,
          1.41,
          1.2175000000000002
         ]
        },
        {
         "marker": {
          "color": "rgba(128, 177, 211, 1.0)",
          "line": {
           "width": 1.3
          },
          "opacity": 0.8,
          "size": 20,
          "symbol": "dot"
         },
         "mode": "markers",
         "name": "GB",
         "textfont": {
          "color": "#4D5663"
         },
         "type": "scatter",
         "x": [
          "Nintendo",
          "Eidos Interactive",
          "Electronic Arts"
         ],
         "y": [
          3.7719672131147526,
          2.35,
          1.73
         ]
        }
       ],
       "layout": {
        "legend": {
         "bgcolor": "#F5F6F9",
         "font": {
          "color": "#4D5663"
         }
        },
        "paper_bgcolor": "#F5F6F9",
        "plot_bgcolor": "#F5F6F9",
        "titlefont": {
         "color": "#4D5663"
        },
        "xaxis1": {
         "gridcolor": "#E1E5ED",
         "showgrid": true,
         "tickfont": {
          "color": "#4D5663"
         },
         "title": "",
         "titlefont": {
          "color": "#4D5663"
         },
         "zerolinecolor": "#E1E5ED"
        },
        "yaxis1": {
         "gridcolor": "#E1E5ED",
         "showgrid": true,
         "tickfont": {
          "color": "#4D5663"
         },
         "title": "",
         "titlefont": {
          "color": "#4D5663"
         },
         "zerolinecolor": "#E1E5ED"
        }
       }
      },
      "text/html": [
       "<div id=\"ce3bd585-0a31-40c4-a94a-f510d42ddc37\" style=\"height: 525px; width: 100%;\" class=\"plotly-graph-div\"></div><script type=\"text/javascript\">require([\"plotly\"], function(Plotly) { window.PLOTLYENV=window.PLOTLYENV || {};window.PLOTLYENV.BASE_URL=\"https://plot.ly\";Plotly.newPlot(\"ce3bd585-0a31-40c4-a94a-f510d42ddc37\", [{\"type\": \"scatter\", \"x\": [\"Microsoft Game Studios\", \"Valve Software\", \"Bethesda Softworks\"], \"y\": [2.3111267605633805, 2.08, 1.68], \"mode\": \"markers\", \"name\": \"X360\", \"marker\": {\"color\": \"rgba(255, 153, 51, 1.0)\", \"symbol\": \"dot\", \"size\": 20, \"opacity\": 0.8, \"line\": {\"width\": 1.3}}, \"textfont\": {\"color\": \"#4D5663\"}}, {\"type\": \"scatter\", \"x\": [\"Nintendo\", \"LucasArts\", \"Sega\"], \"y\": [4.653614457831325, 1.9049999999999998, 0.9190909090909095], \"mode\": \"markers\", \"name\": \"Wii\", \"marker\": {\"color\": \"rgba(55, 128, 191, 1.0)\", \"symbol\": \"dot\", \"size\": 20, \"opacity\": 0.8, \"line\": {\"width\": 1.3}}, \"textfont\": {\"color\": \"#4D5663\"}}, {\"type\": \"scatter\", \"x\": [\"Nintendo\", \"Virgin Interactive\", \"Square\"], \"y\": [2.69, 1.79, 1.77], \"mode\": \"markers\", \"name\": \"SNES\", \"marker\": {\"color\": \"rgba(50, 171, 96, 1.0)\", \"symbol\": \"dot\", \"size\": 20, \"opacity\": 0.8, \"line\": {\"width\": 1.3}}, \"textfont\": {\"color\": \"#4D5663\"}}, {\"type\": \"scatter\", \"x\": [\"Electronic Arts\", \"Take-Two Interactive\", \"Sony Computer Entertainment Europe\"], \"y\": [2.3003571428571434, 2.117857142857143, 1.9750000000000003], \"mode\": \"markers\", \"name\": \"PS4\", \"marker\": {\"color\": \"rgba(128, 0, 128, 1.0)\", \"symbol\": \"dot\", \"size\": 20, \"opacity\": 0.8, \"line\": {\"width\": 1.3}}, \"textfont\": {\"color\": \"#4D5663\"}}, {\"type\": \"scatter\", \"x\": [\"Sony Computer Entertainment Europe\", \"RedOctane\", \"Take-Two Interactive\"], \"y\": [2.44, 2.17, 1.5101666666666667], \"mode\": \"markers\", \"name\": \"PS2\", \"marker\": {\"color\": \"rgba(219, 64, 82, 1.0)\", \"symbol\": \"dot\", \"size\": 20, \"opacity\": 0.8, \"line\": {\"width\": 1.3}}, \"textfont\": {\"color\": \"#4D5663\"}}, {\"type\": \"scatter\", \"x\": [\"UEP Systems\", \"SquareSoft\", \"Enix Corporation\"], \"y\": [2.25, 1.2876000000000003, 1.2866666666666668], \"mode\": \"markers\", \"name\": \"PS\", \"marker\": {\"color\": \"rgba(0, 128, 128, 1.0)\", \"symbol\": \"dot\", \"size\": 20, \"opacity\": 0.8, \"line\": {\"width\": 1.3}}, \"textfont\": {\"color\": \"#4D5663\"}}, {\"type\": \"scatter\", \"x\": [\"Red Orb\", \"Hasbro Interactive\", \"Virgin Interactive\"], \"y\": [2.62, 2.39, 1.815], \"mode\": \"markers\", \"name\": \"PC\", \"marker\": {\"color\": \"rgba(255, 255, 51, 1.0)\", \"symbol\": \"dot\", \"size\": 20, \"opacity\": 0.8, \"line\": {\"width\": 1.3}}, \"textfont\": {\"color\": \"#4D5663\"}}, {\"type\": \"scatter\", \"x\": [\"Palcom\", \"Nintendo\", \"Enix Corporation\"], \"y\": [4.17, 4.08822222222222, 3.1833333333333336], \"mode\": \"markers\", \"name\": \"NES\", \"marker\": {\"color\": \"rgba(128, 128, 0, 1.0)\", \"symbol\": \"dot\", \"size\": 20, \"opacity\": 0.8, \"line\": {\"width\": 1.3}}, \"textfont\": {\"color\": \"#4D5663\"}}, {\"type\": \"scatter\", \"x\": [\"Arena Entertainment\", \"Virgin Interactive\", \"Acclaim Entertainment\"], \"y\": [2.36, 1.41, 1.2175000000000002], \"mode\": \"markers\", \"name\": \"GEN\", \"marker\": {\"color\": \"rgba(251, 128, 114, 1.0)\", \"symbol\": \"dot\", \"size\": 20, \"opacity\": 0.8, \"line\": {\"width\": 1.3}}, \"textfont\": {\"color\": \"#4D5663\"}}, {\"type\": \"scatter\", \"x\": [\"Nintendo\", \"Eidos Interactive\", \"Electronic Arts\"], \"y\": [3.7719672131147526, 2.35, 1.73], \"mode\": \"markers\", \"name\": \"GB\", \"marker\": {\"color\": \"rgba(128, 177, 211, 1.0)\", \"symbol\": \"dot\", \"size\": 20, \"opacity\": 0.8, \"line\": {\"width\": 1.3}}, \"textfont\": {\"color\": \"#4D5663\"}}], {\"legend\": {\"bgcolor\": \"#F5F6F9\", \"font\": {\"color\": \"#4D5663\"}}, \"paper_bgcolor\": \"#F5F6F9\", \"plot_bgcolor\": \"#F5F6F9\", \"yaxis1\": {\"tickfont\": {\"color\": \"#4D5663\"}, \"gridcolor\": \"#E1E5ED\", \"titlefont\": {\"color\": \"#4D5663\"}, \"zerolinecolor\": \"#E1E5ED\", \"showgrid\": true, \"title\": \"\"}, \"xaxis1\": {\"tickfont\": {\"color\": \"#4D5663\"}, \"gridcolor\": \"#E1E5ED\", \"titlefont\": {\"color\": \"#4D5663\"}, \"zerolinecolor\": \"#E1E5ED\", \"showgrid\": true, \"title\": \"\"}, \"titlefont\": {\"color\": \"#4D5663\"}}, {\"showLink\": true, \"linkText\": \"Export to plot.ly\"})});</script>"
      ],
      "text/vnd.plotly.v1+html": [
       "<div id=\"ce3bd585-0a31-40c4-a94a-f510d42ddc37\" style=\"height: 525px; width: 100%;\" class=\"plotly-graph-div\"></div><script type=\"text/javascript\">require([\"plotly\"], function(Plotly) { window.PLOTLYENV=window.PLOTLYENV || {};window.PLOTLYENV.BASE_URL=\"https://plot.ly\";Plotly.newPlot(\"ce3bd585-0a31-40c4-a94a-f510d42ddc37\", [{\"type\": \"scatter\", \"x\": [\"Microsoft Game Studios\", \"Valve Software\", \"Bethesda Softworks\"], \"y\": [2.3111267605633805, 2.08, 1.68], \"mode\": \"markers\", \"name\": \"X360\", \"marker\": {\"color\": \"rgba(255, 153, 51, 1.0)\", \"symbol\": \"dot\", \"size\": 20, \"opacity\": 0.8, \"line\": {\"width\": 1.3}}, \"textfont\": {\"color\": \"#4D5663\"}}, {\"type\": \"scatter\", \"x\": [\"Nintendo\", \"LucasArts\", \"Sega\"], \"y\": [4.653614457831325, 1.9049999999999998, 0.9190909090909095], \"mode\": \"markers\", \"name\": \"Wii\", \"marker\": {\"color\": \"rgba(55, 128, 191, 1.0)\", \"symbol\": \"dot\", \"size\": 20, \"opacity\": 0.8, \"line\": {\"width\": 1.3}}, \"textfont\": {\"color\": \"#4D5663\"}}, {\"type\": \"scatter\", \"x\": [\"Nintendo\", \"Virgin Interactive\", \"Square\"], \"y\": [2.69, 1.79, 1.77], \"mode\": \"markers\", \"name\": \"SNES\", \"marker\": {\"color\": \"rgba(50, 171, 96, 1.0)\", \"symbol\": \"dot\", \"size\": 20, \"opacity\": 0.8, \"line\": {\"width\": 1.3}}, \"textfont\": {\"color\": \"#4D5663\"}}, {\"type\": \"scatter\", \"x\": [\"Electronic Arts\", \"Take-Two Interactive\", \"Sony Computer Entertainment Europe\"], \"y\": [2.3003571428571434, 2.117857142857143, 1.9750000000000003], \"mode\": \"markers\", \"name\": \"PS4\", \"marker\": {\"color\": \"rgba(128, 0, 128, 1.0)\", \"symbol\": \"dot\", \"size\": 20, \"opacity\": 0.8, \"line\": {\"width\": 1.3}}, \"textfont\": {\"color\": \"#4D5663\"}}, {\"type\": \"scatter\", \"x\": [\"Sony Computer Entertainment Europe\", \"RedOctane\", \"Take-Two Interactive\"], \"y\": [2.44, 2.17, 1.5101666666666667], \"mode\": \"markers\", \"name\": \"PS2\", \"marker\": {\"color\": \"rgba(219, 64, 82, 1.0)\", \"symbol\": \"dot\", \"size\": 20, \"opacity\": 0.8, \"line\": {\"width\": 1.3}}, \"textfont\": {\"color\": \"#4D5663\"}}, {\"type\": \"scatter\", \"x\": [\"UEP Systems\", \"SquareSoft\", \"Enix Corporation\"], \"y\": [2.25, 1.2876000000000003, 1.2866666666666668], \"mode\": \"markers\", \"name\": \"PS\", \"marker\": {\"color\": \"rgba(0, 128, 128, 1.0)\", \"symbol\": \"dot\", \"size\": 20, \"opacity\": 0.8, \"line\": {\"width\": 1.3}}, \"textfont\": {\"color\": \"#4D5663\"}}, {\"type\": \"scatter\", \"x\": [\"Red Orb\", \"Hasbro Interactive\", \"Virgin Interactive\"], \"y\": [2.62, 2.39, 1.815], \"mode\": \"markers\", \"name\": \"PC\", \"marker\": {\"color\": \"rgba(255, 255, 51, 1.0)\", \"symbol\": \"dot\", \"size\": 20, \"opacity\": 0.8, \"line\": {\"width\": 1.3}}, \"textfont\": {\"color\": \"#4D5663\"}}, {\"type\": \"scatter\", \"x\": [\"Palcom\", \"Nintendo\", \"Enix Corporation\"], \"y\": [4.17, 4.08822222222222, 3.1833333333333336], \"mode\": \"markers\", \"name\": \"NES\", \"marker\": {\"color\": \"rgba(128, 128, 0, 1.0)\", \"symbol\": \"dot\", \"size\": 20, \"opacity\": 0.8, \"line\": {\"width\": 1.3}}, \"textfont\": {\"color\": \"#4D5663\"}}, {\"type\": \"scatter\", \"x\": [\"Arena Entertainment\", \"Virgin Interactive\", \"Acclaim Entertainment\"], \"y\": [2.36, 1.41, 1.2175000000000002], \"mode\": \"markers\", \"name\": \"GEN\", \"marker\": {\"color\": \"rgba(251, 128, 114, 1.0)\", \"symbol\": \"dot\", \"size\": 20, \"opacity\": 0.8, \"line\": {\"width\": 1.3}}, \"textfont\": {\"color\": \"#4D5663\"}}, {\"type\": \"scatter\", \"x\": [\"Nintendo\", \"Eidos Interactive\", \"Electronic Arts\"], \"y\": [3.7719672131147526, 2.35, 1.73], \"mode\": \"markers\", \"name\": \"GB\", \"marker\": {\"color\": \"rgba(128, 177, 211, 1.0)\", \"symbol\": \"dot\", \"size\": 20, \"opacity\": 0.8, \"line\": {\"width\": 1.3}}, \"textfont\": {\"color\": \"#4D5663\"}}], {\"legend\": {\"bgcolor\": \"#F5F6F9\", \"font\": {\"color\": \"#4D5663\"}}, \"paper_bgcolor\": \"#F5F6F9\", \"plot_bgcolor\": \"#F5F6F9\", \"yaxis1\": {\"tickfont\": {\"color\": \"#4D5663\"}, \"gridcolor\": \"#E1E5ED\", \"titlefont\": {\"color\": \"#4D5663\"}, \"zerolinecolor\": \"#E1E5ED\", \"showgrid\": true, \"title\": \"\"}, \"xaxis1\": {\"tickfont\": {\"color\": \"#4D5663\"}, \"gridcolor\": \"#E1E5ED\", \"titlefont\": {\"color\": \"#4D5663\"}, \"zerolinecolor\": \"#E1E5ED\", \"showgrid\": true, \"title\": \"\"}, \"titlefont\": {\"color\": \"#4D5663\"}}, {\"showLink\": true, \"linkText\": \"Export to plot.ly\"})});</script>"
      ]
     },
     "metadata": {},
     "output_type": "display_data"
    }
   ],
   "source": [
    "avgsalesperconperman = df[['Platform','Publisher','Global_Sales']].groupby(['Publisher','Platform']).mean()\n",
    "dd = avgsalesperconperman.reset_index().sort_values(['Platform','Global_Sales'],ascending = False)\n",
    "\n",
    "#get the top 3 platform  per publisher\n",
    "cc = dd.groupby(['Platform']).head(3)\n",
    "#create a list of the top 10 platform \n",
    "top = cc.groupby(['Platform']).sum().sort_values(['Global_Sales'], ascending= False).head(10).reset_index()\n",
    "toplist = top['Platform'].tolist()\n",
    "#use a list above to filter again the filtered dataframe\n",
    "dd = cc[cc['Platform'].isin(toplist)]\n",
    "#data2 = dd.set_index('Publisher')\n",
    "#data2\n",
    "dd\n",
    "dd.iplot(kind='scatter',mode = 'markers', x = 'Publisher', y = 'Global_Sales', size= 20, categories='Platform')\n",
    "\n",
    "#HOW TO RANK IT?"
   ]
  },
  {
   "cell_type": "code",
   "execution_count": 30,
   "metadata": {},
   "outputs": [
    {
     "data": {
      "application/vnd.plotly.v1+json": {
       "data": [
        {
         "line": {
          "color": "rgba(255, 153, 51, 1.0)",
          "dash": "solid",
          "width": 1.3
         },
         "mode": "lines",
         "name": "NA_Sales",
         "text": "",
         "type": "scatter",
         "x": [
          1980,
          1981,
          1982,
          1983,
          1984,
          1985,
          1986,
          1987,
          1988,
          1989,
          1990,
          1991,
          1992,
          1993,
          1994,
          1995,
          1996,
          1997,
          1998,
          1999,
          2000,
          2001,
          2002,
          2003,
          2004,
          2005,
          2006,
          2007,
          2008,
          2009,
          2010,
          2011,
          2012,
          2013,
          2014,
          2015,
          2016,
          2017
         ],
         "y": [
          10.590000000000003,
          33.4,
          26.920000000000005,
          7.76,
          33.28,
          33.73,
          12.5,
          8.460000000000003,
          23.869999999999997,
          45.15,
          25.46,
          12.76,
          33.89000000000001,
          16.9,
          28.16,
          24.83000000000001,
          86.75999999999999,
          94.75000000000007,
          128.35999999999999,
          126.06000000000004,
          94.50000000000006,
          173.9800000000004,
          216.1900000000001,
          193.6100000000007,
          222.51000000000036,
          242.15000000000052,
          262.12999999999863,
          309.8899999999984,
          348.6899999999998,
          335.5499999999985,
          300.64999999999935,
          238.79000000000067,
          153.26000000000002,
          153.64999999999998,
          132.27000000000024,
          106.86,
          44.93000000000001,
          0
         ]
        },
        {
         "line": {
          "color": "rgba(55, 128, 191, 1.0)",
          "dash": "solid",
          "width": 1.3
         },
         "mode": "lines",
         "name": "EU_Sales",
         "text": "",
         "type": "scatter",
         "x": [
          1980,
          1981,
          1982,
          1983,
          1984,
          1985,
          1986,
          1987,
          1988,
          1989,
          1990,
          1991,
          1992,
          1993,
          1994,
          1995,
          1996,
          1997,
          1998,
          1999,
          2000,
          2001,
          2002,
          2003,
          2004,
          2005,
          2006,
          2007,
          2008,
          2009,
          2010,
          2011,
          2012,
          2013,
          2014,
          2015,
          2016,
          2017
         ],
         "y": [
          0.6700000000000002,
          1.9600000000000006,
          1.6500000000000008,
          0.8000000000000003,
          2.0999999999999996,
          4.74,
          2.8400000000000007,
          1.4100000000000001,
          6.590000000000001,
          8.44,
          7.629999999999998,
          3.9499999999999993,
          11.710000000000003,
          5.18,
          14.879999999999997,
          14.89999999999998,
          47.259999999999984,
          48.319999999999986,
          66.90000000000012,
          62.67000000000003,
          52.770000000000024,
          94.88999999999986,
          109.75000000000033,
          103.8100000000003,
          107.28000000000033,
          121.11000000000041,
          127.89000000000053,
          157.81999999999974,
          181.13999999999996,
          187.94,
          171.42000000000036,
          162.9700000000006,
          114.5899999999999,
          121.55000000000013,
          122.74000000000017,
          96.72000000000006,
          51.22,
          0
         ]
        },
        {
         "line": {
          "color": "rgba(50, 171, 96, 1.0)",
          "dash": "solid",
          "width": 1.3
         },
         "mode": "lines",
         "name": "JP_Sales",
         "text": "",
         "type": "scatter",
         "x": [
          1980,
          1981,
          1982,
          1983,
          1984,
          1985,
          1986,
          1987,
          1988,
          1989,
          1990,
          1991,
          1992,
          1993,
          1994,
          1995,
          1996,
          1997,
          1998,
          1999,
          2000,
          2001,
          2002,
          2003,
          2004,
          2005,
          2006,
          2007,
          2008,
          2009,
          2010,
          2011,
          2012,
          2013,
          2014,
          2015,
          2016,
          2017
         ],
         "y": [
          0,
          0,
          0,
          8.1,
          14.269999999999998,
          14.56,
          19.81,
          11.63,
          15.759999999999998,
          18.360000000000003,
          14.880000000000003,
          14.780000000000001,
          28.91,
          25.36000000000001,
          33.990000000000016,
          45.750000000000014,
          57.43999999999997,
          48.86999999999997,
          50.04,
          52.34,
          42.770000000000046,
          39.85999999999999,
          41.76000000000002,
          34.20000000000003,
          41.64999999999999,
          54.27,
          73.73999999999997,
          60.290000000000106,
          60.25000000000003,
          61.88999999999998,
          59.49000000000022,
          53.070000000000086,
          51.80000000000012,
          47.690000000000055,
          39.69000000000008,
          34.09000000000011,
          19.31000000000004,
          0.060000000000000005
         ]
        },
        {
         "line": {
          "color": "rgba(128, 0, 128, 1.0)",
          "dash": "solid",
          "width": 1.3
         },
         "mode": "lines",
         "name": "Other_Sales",
         "text": "",
         "type": "scatter",
         "x": [
          1980,
          1981,
          1982,
          1983,
          1984,
          1985,
          1986,
          1987,
          1988,
          1989,
          1990,
          1991,
          1992,
          1993,
          1994,
          1995,
          1996,
          1997,
          1998,
          1999,
          2000,
          2001,
          2002,
          2003,
          2004,
          2005,
          2006,
          2007,
          2008,
          2009,
          2010,
          2011,
          2012,
          2013,
          2014,
          2015,
          2016,
          2017
         ],
         "y": [
          0.11999999999999998,
          0.3200000000000001,
          0.31000000000000016,
          0.13999999999999999,
          0.7000000000000002,
          0.9200000000000002,
          1.9300000000000002,
          0.20000000000000004,
          0.9900000000000001,
          1.5000000000000002,
          1.4000000000000004,
          0.7400000000000001,
          1.6500000000000004,
          0.9700000000000002,
          2.199999999999999,
          2.6399999999999926,
          7.689999999999979,
          9.129999999999978,
          11.009999999999941,
          10.039999999999951,
          11.619999999999937,
          22.73000000000018,
          27.270000000000252,
          25.92000000000024,
          47.23999999999984,
          40.28999999999983,
          53.949999999999854,
          76.75000000000088,
          81.42000000000128,
          73.4400000000015,
          58.5699999999999,
          52.749999999999865,
          36.19000000000003,
          38.35000000000006,
          36.82999999999998,
          30.310000000000144,
          14.47999999999995,
          0
         ]
        },
        {
         "line": {
          "color": "rgba(219, 64, 82, 1.0)",
          "dash": "solid",
          "width": 1.3
         },
         "mode": "lines",
         "name": "Global_Sales",
         "text": "",
         "type": "scatter",
         "x": [
          1980,
          1981,
          1982,
          1983,
          1984,
          1985,
          1986,
          1987,
          1988,
          1989,
          1990,
          1991,
          1992,
          1993,
          1994,
          1995,
          1996,
          1997,
          1998,
          1999,
          2000,
          2001,
          2002,
          2003,
          2004,
          2005,
          2006,
          2007,
          2008,
          2009,
          2010,
          2011,
          2012,
          2013,
          2014,
          2015,
          2016,
          2017
         ],
         "y": [
          11.379999999999999,
          35.77000000000001,
          28.859999999999996,
          16.790000000000003,
          50.360000000000014,
          53.940000000000005,
          37.07,
          21.739999999999995,
          47.22,
          73.45,
          49.38999999999999,
          32.230000000000004,
          76.16999999999997,
          48.399999999999984,
          79.18000000000002,
          88.10999999999991,
          199.14999999999995,
          200.98000000000013,
          256.4499999999997,
          251.2500000000002,
          201.5800000000002,
          331.4699999999991,
          395.5099999999983,
          357.7999999999988,
          419.0499999999986,
          458.3099999999975,
          518.2199999999954,
          605.369999999993,
          671.7899999999953,
          658.8799999999958,
          590.5899999999947,
          507.7899999999968,
          355.83999999999827,
          361.2399999999984,
          331.50999999999874,
          268.04999999999706,
          130.10000000000028,
          0.060000000000000005
         ]
        }
       ],
       "layout": {
        "legend": {
         "bgcolor": "#FFFFFF",
         "font": {
          "color": "#4D5663"
         }
        },
        "paper_bgcolor": "#FFFFFF",
        "plot_bgcolor": "#FFFFFF",
        "titlefont": {
         "color": "#4D5663"
        },
        "xaxis1": {
         "gridcolor": "#E1E5ED",
         "showgrid": true,
         "tickfont": {
          "color": "#4D5663"
         },
         "title": "",
         "titlefont": {
          "color": "#4D5663"
         },
         "zerolinecolor": "#E1E5ED"
        },
        "yaxis1": {
         "gridcolor": "#E1E5ED",
         "showgrid": true,
         "tickfont": {
          "color": "#4D5663"
         },
         "title": "",
         "titlefont": {
          "color": "#4D5663"
         },
         "zerolinecolor": "#E1E5ED"
        }
       }
      },
      "text/html": [
       "<div id=\"e3b9d682-310b-48f5-a8fd-c136fbbff4c1\" style=\"height: 525px; width: 100%;\" class=\"plotly-graph-div\"></div><script type=\"text/javascript\">require([\"plotly\"], function(Plotly) { window.PLOTLYENV=window.PLOTLYENV || {};window.PLOTLYENV.BASE_URL=\"https://plot.ly\";Plotly.newPlot(\"e3b9d682-310b-48f5-a8fd-c136fbbff4c1\", [{\"type\": \"scatter\", \"x\": [1980.0, 1981.0, 1982.0, 1983.0, 1984.0, 1985.0, 1986.0, 1987.0, 1988.0, 1989.0, 1990.0, 1991.0, 1992.0, 1993.0, 1994.0, 1995.0, 1996.0, 1997.0, 1998.0, 1999.0, 2000.0, 2001.0, 2002.0, 2003.0, 2004.0, 2005.0, 2006.0, 2007.0, 2008.0, 2009.0, 2010.0, 2011.0, 2012.0, 2013.0, 2014.0, 2015.0, 2016.0, 2017.0], \"y\": [10.590000000000003, 33.4, 26.920000000000005, 7.76, 33.28, 33.73, 12.5, 8.460000000000003, 23.869999999999997, 45.15, 25.46, 12.76, 33.89000000000001, 16.9, 28.16, 24.83000000000001, 86.75999999999999, 94.75000000000007, 128.35999999999999, 126.06000000000004, 94.50000000000006, 173.9800000000004, 216.1900000000001, 193.6100000000007, 222.51000000000036, 242.15000000000052, 262.12999999999863, 309.8899999999984, 348.6899999999998, 335.5499999999985, 300.64999999999935, 238.79000000000067, 153.26000000000002, 153.64999999999998, 132.27000000000024, 106.86, 44.93000000000001, 0.0], \"name\": \"NA_Sales\", \"text\": \"\", \"line\": {\"color\": \"rgba(255, 153, 51, 1.0)\", \"width\": 1.3, \"dash\": \"solid\"}, \"mode\": \"lines\"}, {\"type\": \"scatter\", \"x\": [1980.0, 1981.0, 1982.0, 1983.0, 1984.0, 1985.0, 1986.0, 1987.0, 1988.0, 1989.0, 1990.0, 1991.0, 1992.0, 1993.0, 1994.0, 1995.0, 1996.0, 1997.0, 1998.0, 1999.0, 2000.0, 2001.0, 2002.0, 2003.0, 2004.0, 2005.0, 2006.0, 2007.0, 2008.0, 2009.0, 2010.0, 2011.0, 2012.0, 2013.0, 2014.0, 2015.0, 2016.0, 2017.0], \"y\": [0.6700000000000002, 1.9600000000000006, 1.6500000000000008, 0.8000000000000003, 2.0999999999999996, 4.74, 2.8400000000000007, 1.4100000000000001, 6.590000000000001, 8.44, 7.629999999999998, 3.9499999999999993, 11.710000000000003, 5.18, 14.879999999999997, 14.89999999999998, 47.259999999999984, 48.319999999999986, 66.90000000000012, 62.67000000000003, 52.770000000000024, 94.88999999999986, 109.75000000000033, 103.8100000000003, 107.28000000000033, 121.11000000000041, 127.89000000000053, 157.81999999999974, 181.13999999999996, 187.94, 171.42000000000036, 162.9700000000006, 114.5899999999999, 121.55000000000013, 122.74000000000017, 96.72000000000006, 51.22, 0.0], \"name\": \"EU_Sales\", \"text\": \"\", \"line\": {\"color\": \"rgba(55, 128, 191, 1.0)\", \"width\": 1.3, \"dash\": \"solid\"}, \"mode\": \"lines\"}, {\"type\": \"scatter\", \"x\": [1980.0, 1981.0, 1982.0, 1983.0, 1984.0, 1985.0, 1986.0, 1987.0, 1988.0, 1989.0, 1990.0, 1991.0, 1992.0, 1993.0, 1994.0, 1995.0, 1996.0, 1997.0, 1998.0, 1999.0, 2000.0, 2001.0, 2002.0, 2003.0, 2004.0, 2005.0, 2006.0, 2007.0, 2008.0, 2009.0, 2010.0, 2011.0, 2012.0, 2013.0, 2014.0, 2015.0, 2016.0, 2017.0], \"y\": [0.0, 0.0, 0.0, 8.1, 14.269999999999998, 14.56, 19.81, 11.63, 15.759999999999998, 18.360000000000003, 14.880000000000003, 14.780000000000001, 28.91, 25.36000000000001, 33.990000000000016, 45.750000000000014, 57.43999999999997, 48.86999999999997, 50.04, 52.34, 42.770000000000046, 39.85999999999999, 41.76000000000002, 34.20000000000003, 41.64999999999999, 54.27, 73.73999999999997, 60.290000000000106, 60.25000000000003, 61.88999999999998, 59.49000000000022, 53.070000000000086, 51.80000000000012, 47.690000000000055, 39.69000000000008, 34.09000000000011, 19.31000000000004, 0.060000000000000005], \"name\": \"JP_Sales\", \"text\": \"\", \"line\": {\"color\": \"rgba(50, 171, 96, 1.0)\", \"width\": 1.3, \"dash\": \"solid\"}, \"mode\": \"lines\"}, {\"type\": \"scatter\", \"x\": [1980.0, 1981.0, 1982.0, 1983.0, 1984.0, 1985.0, 1986.0, 1987.0, 1988.0, 1989.0, 1990.0, 1991.0, 1992.0, 1993.0, 1994.0, 1995.0, 1996.0, 1997.0, 1998.0, 1999.0, 2000.0, 2001.0, 2002.0, 2003.0, 2004.0, 2005.0, 2006.0, 2007.0, 2008.0, 2009.0, 2010.0, 2011.0, 2012.0, 2013.0, 2014.0, 2015.0, 2016.0, 2017.0], \"y\": [0.11999999999999998, 0.3200000000000001, 0.31000000000000016, 0.13999999999999999, 0.7000000000000002, 0.9200000000000002, 1.9300000000000002, 0.20000000000000004, 0.9900000000000001, 1.5000000000000002, 1.4000000000000004, 0.7400000000000001, 1.6500000000000004, 0.9700000000000002, 2.199999999999999, 2.6399999999999926, 7.689999999999979, 9.129999999999978, 11.009999999999941, 10.039999999999951, 11.619999999999937, 22.73000000000018, 27.270000000000252, 25.92000000000024, 47.23999999999984, 40.28999999999983, 53.949999999999854, 76.75000000000088, 81.42000000000128, 73.4400000000015, 58.5699999999999, 52.749999999999865, 36.19000000000003, 38.35000000000006, 36.82999999999998, 30.310000000000144, 14.47999999999995, 0.0], \"name\": \"Other_Sales\", \"text\": \"\", \"line\": {\"color\": \"rgba(128, 0, 128, 1.0)\", \"width\": 1.3, \"dash\": \"solid\"}, \"mode\": \"lines\"}, {\"type\": \"scatter\", \"x\": [1980.0, 1981.0, 1982.0, 1983.0, 1984.0, 1985.0, 1986.0, 1987.0, 1988.0, 1989.0, 1990.0, 1991.0, 1992.0, 1993.0, 1994.0, 1995.0, 1996.0, 1997.0, 1998.0, 1999.0, 2000.0, 2001.0, 2002.0, 2003.0, 2004.0, 2005.0, 2006.0, 2007.0, 2008.0, 2009.0, 2010.0, 2011.0, 2012.0, 2013.0, 2014.0, 2015.0, 2016.0, 2017.0], \"y\": [11.379999999999999, 35.77000000000001, 28.859999999999996, 16.790000000000003, 50.360000000000014, 53.940000000000005, 37.07, 21.739999999999995, 47.22, 73.45, 49.38999999999999, 32.230000000000004, 76.16999999999997, 48.399999999999984, 79.18000000000002, 88.10999999999991, 199.14999999999995, 200.98000000000013, 256.4499999999997, 251.2500000000002, 201.5800000000002, 331.4699999999991, 395.5099999999983, 357.7999999999988, 419.0499999999986, 458.3099999999975, 518.2199999999954, 605.369999999993, 671.7899999999953, 658.8799999999958, 590.5899999999947, 507.7899999999968, 355.83999999999827, 361.2399999999984, 331.50999999999874, 268.04999999999706, 130.10000000000028, 0.060000000000000005], \"name\": \"Global_Sales\", \"text\": \"\", \"line\": {\"color\": \"rgba(219, 64, 82, 1.0)\", \"width\": 1.3, \"dash\": \"solid\"}, \"mode\": \"lines\"}], {\"legend\": {\"bgcolor\": \"#FFFFFF\", \"font\": {\"color\": \"#4D5663\"}}, \"paper_bgcolor\": \"#FFFFFF\", \"plot_bgcolor\": \"#FFFFFF\", \"yaxis1\": {\"tickfont\": {\"color\": \"#4D5663\"}, \"gridcolor\": \"#E1E5ED\", \"titlefont\": {\"color\": \"#4D5663\"}, \"zerolinecolor\": \"#E1E5ED\", \"showgrid\": true, \"title\": \"\"}, \"xaxis1\": {\"tickfont\": {\"color\": \"#4D5663\"}, \"gridcolor\": \"#E1E5ED\", \"titlefont\": {\"color\": \"#4D5663\"}, \"zerolinecolor\": \"#E1E5ED\", \"showgrid\": true, \"title\": \"\"}, \"titlefont\": {\"color\": \"#4D5663\"}}, {\"showLink\": true, \"linkText\": \"Export to plot.ly\"})});</script>"
      ],
      "text/vnd.plotly.v1+html": [
       "<div id=\"e3b9d682-310b-48f5-a8fd-c136fbbff4c1\" style=\"height: 525px; width: 100%;\" class=\"plotly-graph-div\"></div><script type=\"text/javascript\">require([\"plotly\"], function(Plotly) { window.PLOTLYENV=window.PLOTLYENV || {};window.PLOTLYENV.BASE_URL=\"https://plot.ly\";Plotly.newPlot(\"e3b9d682-310b-48f5-a8fd-c136fbbff4c1\", [{\"type\": \"scatter\", \"x\": [1980.0, 1981.0, 1982.0, 1983.0, 1984.0, 1985.0, 1986.0, 1987.0, 1988.0, 1989.0, 1990.0, 1991.0, 1992.0, 1993.0, 1994.0, 1995.0, 1996.0, 1997.0, 1998.0, 1999.0, 2000.0, 2001.0, 2002.0, 2003.0, 2004.0, 2005.0, 2006.0, 2007.0, 2008.0, 2009.0, 2010.0, 2011.0, 2012.0, 2013.0, 2014.0, 2015.0, 2016.0, 2017.0], \"y\": [10.590000000000003, 33.4, 26.920000000000005, 7.76, 33.28, 33.73, 12.5, 8.460000000000003, 23.869999999999997, 45.15, 25.46, 12.76, 33.89000000000001, 16.9, 28.16, 24.83000000000001, 86.75999999999999, 94.75000000000007, 128.35999999999999, 126.06000000000004, 94.50000000000006, 173.9800000000004, 216.1900000000001, 193.6100000000007, 222.51000000000036, 242.15000000000052, 262.12999999999863, 309.8899999999984, 348.6899999999998, 335.5499999999985, 300.64999999999935, 238.79000000000067, 153.26000000000002, 153.64999999999998, 132.27000000000024, 106.86, 44.93000000000001, 0.0], \"name\": \"NA_Sales\", \"text\": \"\", \"line\": {\"color\": \"rgba(255, 153, 51, 1.0)\", \"width\": 1.3, \"dash\": \"solid\"}, \"mode\": \"lines\"}, {\"type\": \"scatter\", \"x\": [1980.0, 1981.0, 1982.0, 1983.0, 1984.0, 1985.0, 1986.0, 1987.0, 1988.0, 1989.0, 1990.0, 1991.0, 1992.0, 1993.0, 1994.0, 1995.0, 1996.0, 1997.0, 1998.0, 1999.0, 2000.0, 2001.0, 2002.0, 2003.0, 2004.0, 2005.0, 2006.0, 2007.0, 2008.0, 2009.0, 2010.0, 2011.0, 2012.0, 2013.0, 2014.0, 2015.0, 2016.0, 2017.0], \"y\": [0.6700000000000002, 1.9600000000000006, 1.6500000000000008, 0.8000000000000003, 2.0999999999999996, 4.74, 2.8400000000000007, 1.4100000000000001, 6.590000000000001, 8.44, 7.629999999999998, 3.9499999999999993, 11.710000000000003, 5.18, 14.879999999999997, 14.89999999999998, 47.259999999999984, 48.319999999999986, 66.90000000000012, 62.67000000000003, 52.770000000000024, 94.88999999999986, 109.75000000000033, 103.8100000000003, 107.28000000000033, 121.11000000000041, 127.89000000000053, 157.81999999999974, 181.13999999999996, 187.94, 171.42000000000036, 162.9700000000006, 114.5899999999999, 121.55000000000013, 122.74000000000017, 96.72000000000006, 51.22, 0.0], \"name\": \"EU_Sales\", \"text\": \"\", \"line\": {\"color\": \"rgba(55, 128, 191, 1.0)\", \"width\": 1.3, \"dash\": \"solid\"}, \"mode\": \"lines\"}, {\"type\": \"scatter\", \"x\": [1980.0, 1981.0, 1982.0, 1983.0, 1984.0, 1985.0, 1986.0, 1987.0, 1988.0, 1989.0, 1990.0, 1991.0, 1992.0, 1993.0, 1994.0, 1995.0, 1996.0, 1997.0, 1998.0, 1999.0, 2000.0, 2001.0, 2002.0, 2003.0, 2004.0, 2005.0, 2006.0, 2007.0, 2008.0, 2009.0, 2010.0, 2011.0, 2012.0, 2013.0, 2014.0, 2015.0, 2016.0, 2017.0], \"y\": [0.0, 0.0, 0.0, 8.1, 14.269999999999998, 14.56, 19.81, 11.63, 15.759999999999998, 18.360000000000003, 14.880000000000003, 14.780000000000001, 28.91, 25.36000000000001, 33.990000000000016, 45.750000000000014, 57.43999999999997, 48.86999999999997, 50.04, 52.34, 42.770000000000046, 39.85999999999999, 41.76000000000002, 34.20000000000003, 41.64999999999999, 54.27, 73.73999999999997, 60.290000000000106, 60.25000000000003, 61.88999999999998, 59.49000000000022, 53.070000000000086, 51.80000000000012, 47.690000000000055, 39.69000000000008, 34.09000000000011, 19.31000000000004, 0.060000000000000005], \"name\": \"JP_Sales\", \"text\": \"\", \"line\": {\"color\": \"rgba(50, 171, 96, 1.0)\", \"width\": 1.3, \"dash\": \"solid\"}, \"mode\": \"lines\"}, {\"type\": \"scatter\", \"x\": [1980.0, 1981.0, 1982.0, 1983.0, 1984.0, 1985.0, 1986.0, 1987.0, 1988.0, 1989.0, 1990.0, 1991.0, 1992.0, 1993.0, 1994.0, 1995.0, 1996.0, 1997.0, 1998.0, 1999.0, 2000.0, 2001.0, 2002.0, 2003.0, 2004.0, 2005.0, 2006.0, 2007.0, 2008.0, 2009.0, 2010.0, 2011.0, 2012.0, 2013.0, 2014.0, 2015.0, 2016.0, 2017.0], \"y\": [0.11999999999999998, 0.3200000000000001, 0.31000000000000016, 0.13999999999999999, 0.7000000000000002, 0.9200000000000002, 1.9300000000000002, 0.20000000000000004, 0.9900000000000001, 1.5000000000000002, 1.4000000000000004, 0.7400000000000001, 1.6500000000000004, 0.9700000000000002, 2.199999999999999, 2.6399999999999926, 7.689999999999979, 9.129999999999978, 11.009999999999941, 10.039999999999951, 11.619999999999937, 22.73000000000018, 27.270000000000252, 25.92000000000024, 47.23999999999984, 40.28999999999983, 53.949999999999854, 76.75000000000088, 81.42000000000128, 73.4400000000015, 58.5699999999999, 52.749999999999865, 36.19000000000003, 38.35000000000006, 36.82999999999998, 30.310000000000144, 14.47999999999995, 0.0], \"name\": \"Other_Sales\", \"text\": \"\", \"line\": {\"color\": \"rgba(128, 0, 128, 1.0)\", \"width\": 1.3, \"dash\": \"solid\"}, \"mode\": \"lines\"}, {\"type\": \"scatter\", \"x\": [1980.0, 1981.0, 1982.0, 1983.0, 1984.0, 1985.0, 1986.0, 1987.0, 1988.0, 1989.0, 1990.0, 1991.0, 1992.0, 1993.0, 1994.0, 1995.0, 1996.0, 1997.0, 1998.0, 1999.0, 2000.0, 2001.0, 2002.0, 2003.0, 2004.0, 2005.0, 2006.0, 2007.0, 2008.0, 2009.0, 2010.0, 2011.0, 2012.0, 2013.0, 2014.0, 2015.0, 2016.0, 2017.0], \"y\": [11.379999999999999, 35.77000000000001, 28.859999999999996, 16.790000000000003, 50.360000000000014, 53.940000000000005, 37.07, 21.739999999999995, 47.22, 73.45, 49.38999999999999, 32.230000000000004, 76.16999999999997, 48.399999999999984, 79.18000000000002, 88.10999999999991, 199.14999999999995, 200.98000000000013, 256.4499999999997, 251.2500000000002, 201.5800000000002, 331.4699999999991, 395.5099999999983, 357.7999999999988, 419.0499999999986, 458.3099999999975, 518.2199999999954, 605.369999999993, 671.7899999999953, 658.8799999999958, 590.5899999999947, 507.7899999999968, 355.83999999999827, 361.2399999999984, 331.50999999999874, 268.04999999999706, 130.10000000000028, 0.060000000000000005], \"name\": \"Global_Sales\", \"text\": \"\", \"line\": {\"color\": \"rgba(219, 64, 82, 1.0)\", \"width\": 1.3, \"dash\": \"solid\"}, \"mode\": \"lines\"}], {\"legend\": {\"bgcolor\": \"#FFFFFF\", \"font\": {\"color\": \"#4D5663\"}}, \"paper_bgcolor\": \"#FFFFFF\", \"plot_bgcolor\": \"#FFFFFF\", \"yaxis1\": {\"tickfont\": {\"color\": \"#4D5663\"}, \"gridcolor\": \"#E1E5ED\", \"titlefont\": {\"color\": \"#4D5663\"}, \"zerolinecolor\": \"#E1E5ED\", \"showgrid\": true, \"title\": \"\"}, \"xaxis1\": {\"tickfont\": {\"color\": \"#4D5663\"}, \"gridcolor\": \"#E1E5ED\", \"titlefont\": {\"color\": \"#4D5663\"}, \"zerolinecolor\": \"#E1E5ED\", \"showgrid\": true, \"title\": \"\"}, \"titlefont\": {\"color\": \"#4D5663\"}}, {\"showLink\": true, \"linkText\": \"Export to plot.ly\"})});</script>"
      ]
     },
     "metadata": {},
     "output_type": "display_data"
    }
   ],
   "source": [
    "df2 = df[['Year_of_Release','NA_Sales','EU_Sales','JP_Sales','Other_Sales','Global_Sales']].groupby(['Year_of_Release']).sum()\n",
    "\n",
    "df2[['NA_Sales','EU_Sales','JP_Sales','Other_Sales','Global_Sales']].iplot(theme='white', world_readable=True)\n",
    "\n",
    "\n",
    "#here a want a simple line plot - it's like i don't have one value per year ...\n",
    "\n"
   ]
  },
  {
   "cell_type": "markdown",
   "metadata": {},
   "source": [
    "** What are the top 10 games in terms of sales and geographically? **"
   ]
  },
  {
   "cell_type": "code",
   "execution_count": 137,
   "metadata": {},
   "outputs": [
    {
     "data": {
      "application/vnd.plotly.v1+json": {
       "data": [
        {
         "marker": {
          "color": "rgba(255, 153, 51, 1.0)",
          "line": {
           "width": 1.3
          },
          "opacity": 0.8,
          "size": 20,
          "symbol": "dot"
         },
         "mode": "markers",
         "name": "Other_Sales",
         "text": [
          "Grand Theft Auto: San Andreas",
          "Wii Sports",
          "Gran Turismo 4"
         ],
         "textfont": {
          "color": "#4D5663"
         },
         "type": "scatter",
         "x": [
          "Grand Theft Auto: San Andreas",
          "Wii Sports",
          "Gran Turismo 4"
         ],
         "y": [
          10.57,
          8.45,
          7.53
         ]
        },
        {
         "marker": {
          "color": "rgba(55, 128, 191, 1.0)",
          "line": {
           "width": 1.3
          },
          "opacity": 0.8,
          "size": 20,
          "symbol": "dot"
         },
         "mode": "markers",
         "name": "NA_Sales",
         "text": [
          "Wii Sports",
          "Super Mario Bros.",
          "Duck Hunt"
         ],
         "textfont": {
          "color": "#4D5663"
         },
         "type": "scatter",
         "x": [
          "Wii Sports",
          "Super Mario Bros.",
          "Duck Hunt"
         ],
         "y": [
          41.36,
          29.08,
          26.93
         ]
        },
        {
         "marker": {
          "color": "rgba(50, 171, 96, 1.0)",
          "line": {
           "width": 1.3
          },
          "opacity": 0.8,
          "size": 20,
          "symbol": "dot"
         },
         "mode": "markers",
         "name": "JP_Sales",
         "text": [
          "Pokemon Red/Pokemon Blue",
          "Pokemon Gold/Pokemon Silver",
          "Super Mario Bros."
         ],
         "textfont": {
          "color": "#4D5663"
         },
         "type": "scatter",
         "x": [
          "Pokemon Red/Pokemon Blue",
          "Pokemon Gold/Pokemon Silver",
          "Super Mario Bros."
         ],
         "y": [
          10.22,
          7.2,
          6.81
         ]
        },
        {
         "marker": {
          "color": "rgba(128, 0, 128, 1.0)",
          "line": {
           "width": 1.3
          },
          "opacity": 0.8,
          "size": 20,
          "symbol": "dot"
         },
         "mode": "markers",
         "name": "EU_Sales",
         "text": [
          "Wii Sports",
          "Mario Kart Wii",
          "Nintendogs"
         ],
         "textfont": {
          "color": "#4D5663"
         },
         "type": "scatter",
         "x": [
          "Wii Sports",
          "Mario Kart Wii",
          "Nintendogs"
         ],
         "y": [
          28.96,
          12.76,
          10.95
         ]
        }
       ],
       "layout": {
        "legend": {
         "bgcolor": "#F5F6F9",
         "font": {
          "color": "#4D5663"
         }
        },
        "paper_bgcolor": "#F5F6F9",
        "plot_bgcolor": "#F5F6F9",
        "titlefont": {
         "color": "#4D5663"
        },
        "xaxis1": {
         "gridcolor": "#E1E5ED",
         "showgrid": true,
         "tickfont": {
          "color": "#4D5663"
         },
         "title": "",
         "titlefont": {
          "color": "#4D5663"
         },
         "zerolinecolor": "#E1E5ED"
        },
        "yaxis1": {
         "gridcolor": "#E1E5ED",
         "showgrid": true,
         "tickfont": {
          "color": "#4D5663"
         },
         "title": "",
         "titlefont": {
          "color": "#4D5663"
         },
         "zerolinecolor": "#E1E5ED"
        }
       }
      },
      "text/html": [
       "<div id=\"0c500487-1f3a-46e5-ae23-543c65681fc6\" style=\"height: 525px; width: 100%;\" class=\"plotly-graph-div\"></div><script type=\"text/javascript\">require([\"plotly\"], function(Plotly) { window.PLOTLYENV=window.PLOTLYENV || {};window.PLOTLYENV.BASE_URL=\"https://plot.ly\";Plotly.newPlot(\"0c500487-1f3a-46e5-ae23-543c65681fc6\", [{\"type\": \"scatter\", \"x\": [\"Grand Theft Auto: San Andreas\", \"Wii Sports\", \"Gran Turismo 4\"], \"y\": [10.57, 8.45, 7.53], \"mode\": \"markers\", \"name\": \"Other_Sales\", \"marker\": {\"color\": \"rgba(255, 153, 51, 1.0)\", \"symbol\": \"dot\", \"size\": 20, \"opacity\": 0.8, \"line\": {\"width\": 1.3}}, \"textfont\": {\"color\": \"#4D5663\"}, \"text\": [\"Grand Theft Auto: San Andreas\", \"Wii Sports\", \"Gran Turismo 4\"]}, {\"type\": \"scatter\", \"x\": [\"Wii Sports\", \"Super Mario Bros.\", \"Duck Hunt\"], \"y\": [41.36, 29.08, 26.93], \"mode\": \"markers\", \"name\": \"NA_Sales\", \"marker\": {\"color\": \"rgba(55, 128, 191, 1.0)\", \"symbol\": \"dot\", \"size\": 20, \"opacity\": 0.8, \"line\": {\"width\": 1.3}}, \"textfont\": {\"color\": \"#4D5663\"}, \"text\": [\"Wii Sports\", \"Super Mario Bros.\", \"Duck Hunt\"]}, {\"type\": \"scatter\", \"x\": [\"Pokemon Red/Pokemon Blue\", \"Pokemon Gold/Pokemon Silver\", \"Super Mario Bros.\"], \"y\": [10.22, 7.2, 6.81], \"mode\": \"markers\", \"name\": \"JP_Sales\", \"marker\": {\"color\": \"rgba(50, 171, 96, 1.0)\", \"symbol\": \"dot\", \"size\": 20, \"opacity\": 0.8, \"line\": {\"width\": 1.3}}, \"textfont\": {\"color\": \"#4D5663\"}, \"text\": [\"Pokemon Red/Pokemon Blue\", \"Pokemon Gold/Pokemon Silver\", \"Super Mario Bros.\"]}, {\"type\": \"scatter\", \"x\": [\"Wii Sports\", \"Mario Kart Wii\", \"Nintendogs\"], \"y\": [28.96, 12.76, 10.95], \"mode\": \"markers\", \"name\": \"EU_Sales\", \"marker\": {\"color\": \"rgba(128, 0, 128, 1.0)\", \"symbol\": \"dot\", \"size\": 20, \"opacity\": 0.8, \"line\": {\"width\": 1.3}}, \"textfont\": {\"color\": \"#4D5663\"}, \"text\": [\"Wii Sports\", \"Mario Kart Wii\", \"Nintendogs\"]}], {\"legend\": {\"bgcolor\": \"#F5F6F9\", \"font\": {\"color\": \"#4D5663\"}}, \"paper_bgcolor\": \"#F5F6F9\", \"plot_bgcolor\": \"#F5F6F9\", \"yaxis1\": {\"tickfont\": {\"color\": \"#4D5663\"}, \"gridcolor\": \"#E1E5ED\", \"titlefont\": {\"color\": \"#4D5663\"}, \"zerolinecolor\": \"#E1E5ED\", \"showgrid\": true, \"title\": \"\"}, \"xaxis1\": {\"tickfont\": {\"color\": \"#4D5663\"}, \"gridcolor\": \"#E1E5ED\", \"titlefont\": {\"color\": \"#4D5663\"}, \"zerolinecolor\": \"#E1E5ED\", \"showgrid\": true, \"title\": \"\"}, \"titlefont\": {\"color\": \"#4D5663\"}}, {\"showLink\": true, \"linkText\": \"Export to plot.ly\"})});</script>"
      ],
      "text/vnd.plotly.v1+html": [
       "<div id=\"0c500487-1f3a-46e5-ae23-543c65681fc6\" style=\"height: 525px; width: 100%;\" class=\"plotly-graph-div\"></div><script type=\"text/javascript\">require([\"plotly\"], function(Plotly) { window.PLOTLYENV=window.PLOTLYENV || {};window.PLOTLYENV.BASE_URL=\"https://plot.ly\";Plotly.newPlot(\"0c500487-1f3a-46e5-ae23-543c65681fc6\", [{\"type\": \"scatter\", \"x\": [\"Grand Theft Auto: San Andreas\", \"Wii Sports\", \"Gran Turismo 4\"], \"y\": [10.57, 8.45, 7.53], \"mode\": \"markers\", \"name\": \"Other_Sales\", \"marker\": {\"color\": \"rgba(255, 153, 51, 1.0)\", \"symbol\": \"dot\", \"size\": 20, \"opacity\": 0.8, \"line\": {\"width\": 1.3}}, \"textfont\": {\"color\": \"#4D5663\"}, \"text\": [\"Grand Theft Auto: San Andreas\", \"Wii Sports\", \"Gran Turismo 4\"]}, {\"type\": \"scatter\", \"x\": [\"Wii Sports\", \"Super Mario Bros.\", \"Duck Hunt\"], \"y\": [41.36, 29.08, 26.93], \"mode\": \"markers\", \"name\": \"NA_Sales\", \"marker\": {\"color\": \"rgba(55, 128, 191, 1.0)\", \"symbol\": \"dot\", \"size\": 20, \"opacity\": 0.8, \"line\": {\"width\": 1.3}}, \"textfont\": {\"color\": \"#4D5663\"}, \"text\": [\"Wii Sports\", \"Super Mario Bros.\", \"Duck Hunt\"]}, {\"type\": \"scatter\", \"x\": [\"Pokemon Red/Pokemon Blue\", \"Pokemon Gold/Pokemon Silver\", \"Super Mario Bros.\"], \"y\": [10.22, 7.2, 6.81], \"mode\": \"markers\", \"name\": \"JP_Sales\", \"marker\": {\"color\": \"rgba(50, 171, 96, 1.0)\", \"symbol\": \"dot\", \"size\": 20, \"opacity\": 0.8, \"line\": {\"width\": 1.3}}, \"textfont\": {\"color\": \"#4D5663\"}, \"text\": [\"Pokemon Red/Pokemon Blue\", \"Pokemon Gold/Pokemon Silver\", \"Super Mario Bros.\"]}, {\"type\": \"scatter\", \"x\": [\"Wii Sports\", \"Mario Kart Wii\", \"Nintendogs\"], \"y\": [28.96, 12.76, 10.95], \"mode\": \"markers\", \"name\": \"EU_Sales\", \"marker\": {\"color\": \"rgba(128, 0, 128, 1.0)\", \"symbol\": \"dot\", \"size\": 20, \"opacity\": 0.8, \"line\": {\"width\": 1.3}}, \"textfont\": {\"color\": \"#4D5663\"}, \"text\": [\"Wii Sports\", \"Mario Kart Wii\", \"Nintendogs\"]}], {\"legend\": {\"bgcolor\": \"#F5F6F9\", \"font\": {\"color\": \"#4D5663\"}}, \"paper_bgcolor\": \"#F5F6F9\", \"plot_bgcolor\": \"#F5F6F9\", \"yaxis1\": {\"tickfont\": {\"color\": \"#4D5663\"}, \"gridcolor\": \"#E1E5ED\", \"titlefont\": {\"color\": \"#4D5663\"}, \"zerolinecolor\": \"#E1E5ED\", \"showgrid\": true, \"title\": \"\"}, \"xaxis1\": {\"tickfont\": {\"color\": \"#4D5663\"}, \"gridcolor\": \"#E1E5ED\", \"titlefont\": {\"color\": \"#4D5663\"}, \"zerolinecolor\": \"#E1E5ED\", \"showgrid\": true, \"title\": \"\"}, \"titlefont\": {\"color\": \"#4D5663\"}}, {\"showLink\": true, \"linkText\": \"Export to plot.ly\"})});</script>"
      ]
     },
     "metadata": {},
     "output_type": "display_data"
    }
   ],
   "source": [
    "bestgameperarea = df[['Name','NA_Sales','EU_Sales','JP_Sales','Other_Sales']]\n",
    "bestgameperarea = bestgameperarea.melt(id_vars=['Name'],value_vars=['NA_Sales','EU_Sales','JP_Sales','Other_Sales'])\n",
    "#bestgameperarea = bestgameperarea.groupby(['variable', 'Name']).sum()\n",
    "\n",
    "#sort it by descending order\n",
    "sortedd = bestgameperarea.sort_values(['variable','value'],ascending = False)\n",
    "\n",
    "#get the top 3 Games Sold  per area\n",
    "aa = sortedd.groupby(['variable']).head(3)\n",
    "\n",
    "\n",
    "aa.iplot(kind='histogram',x = 'Name', y='value', text = 'Name', categories = 'variable',size= 20)"
   ]
  },
  {
   "cell_type": "code",
   "execution_count": 144,
   "metadata": {},
   "outputs": [
    {
     "data": {
      "text/html": [
       "<div>\n",
       "<style>\n",
       "    .dataframe thead tr:only-child th {\n",
       "        text-align: right;\n",
       "    }\n",
       "\n",
       "    .dataframe thead th {\n",
       "        text-align: left;\n",
       "    }\n",
       "\n",
       "    .dataframe tbody tr th {\n",
       "        vertical-align: top;\n",
       "    }\n",
       "</style>\n",
       "<table border=\"1\" class=\"dataframe\">\n",
       "  <thead>\n",
       "    <tr style=\"text-align: right;\">\n",
       "      <th></th>\n",
       "      <th>Name</th>\n",
       "      <th>Platform</th>\n",
       "      <th>Year_of_Release</th>\n",
       "      <th>Genre</th>\n",
       "      <th>Publisher</th>\n",
       "      <th>NA_Sales</th>\n",
       "      <th>EU_Sales</th>\n",
       "      <th>JP_Sales</th>\n",
       "      <th>Other_Sales</th>\n",
       "      <th>Global_Sales</th>\n",
       "      <th>Critic_Score</th>\n",
       "      <th>Critic_Count</th>\n",
       "      <th>User_Score</th>\n",
       "      <th>User_Count</th>\n",
       "      <th>Developer</th>\n",
       "      <th>Rating</th>\n",
       "    </tr>\n",
       "  </thead>\n",
       "  <tbody>\n",
       "    <tr>\n",
       "      <th>0</th>\n",
       "      <td>Wii Sports</td>\n",
       "      <td>Wii</td>\n",
       "      <td>2006.0</td>\n",
       "      <td>Sports</td>\n",
       "      <td>Nintendo</td>\n",
       "      <td>41.36</td>\n",
       "      <td>28.96</td>\n",
       "      <td>3.77</td>\n",
       "      <td>8.45</td>\n",
       "      <td>82.53</td>\n",
       "      <td>76.0</td>\n",
       "      <td>51.0</td>\n",
       "      <td>8</td>\n",
       "      <td>322.0</td>\n",
       "      <td>Nintendo</td>\n",
       "      <td>E</td>\n",
       "    </tr>\n",
       "    <tr>\n",
       "      <th>1</th>\n",
       "      <td>Super Mario Bros.</td>\n",
       "      <td>NES</td>\n",
       "      <td>1985.0</td>\n",
       "      <td>Platform</td>\n",
       "      <td>Nintendo</td>\n",
       "      <td>29.08</td>\n",
       "      <td>3.58</td>\n",
       "      <td>6.81</td>\n",
       "      <td>0.77</td>\n",
       "      <td>40.24</td>\n",
       "      <td>NaN</td>\n",
       "      <td>NaN</td>\n",
       "      <td>NaN</td>\n",
       "      <td>NaN</td>\n",
       "      <td>NaN</td>\n",
       "      <td>NaN</td>\n",
       "    </tr>\n",
       "    <tr>\n",
       "      <th>2</th>\n",
       "      <td>Mario Kart Wii</td>\n",
       "      <td>Wii</td>\n",
       "      <td>2008.0</td>\n",
       "      <td>Racing</td>\n",
       "      <td>Nintendo</td>\n",
       "      <td>15.68</td>\n",
       "      <td>12.76</td>\n",
       "      <td>3.79</td>\n",
       "      <td>3.29</td>\n",
       "      <td>35.52</td>\n",
       "      <td>82.0</td>\n",
       "      <td>73.0</td>\n",
       "      <td>8.3</td>\n",
       "      <td>709.0</td>\n",
       "      <td>Nintendo</td>\n",
       "      <td>E</td>\n",
       "    </tr>\n",
       "    <tr>\n",
       "      <th>3</th>\n",
       "      <td>Wii Sports Resort</td>\n",
       "      <td>Wii</td>\n",
       "      <td>2009.0</td>\n",
       "      <td>Sports</td>\n",
       "      <td>Nintendo</td>\n",
       "      <td>15.61</td>\n",
       "      <td>10.93</td>\n",
       "      <td>3.28</td>\n",
       "      <td>2.95</td>\n",
       "      <td>32.77</td>\n",
       "      <td>80.0</td>\n",
       "      <td>73.0</td>\n",
       "      <td>8</td>\n",
       "      <td>192.0</td>\n",
       "      <td>Nintendo</td>\n",
       "      <td>E</td>\n",
       "    </tr>\n",
       "    <tr>\n",
       "      <th>4</th>\n",
       "      <td>Pokemon Red/Pokemon Blue</td>\n",
       "      <td>GB</td>\n",
       "      <td>1996.0</td>\n",
       "      <td>Role-Playing</td>\n",
       "      <td>Nintendo</td>\n",
       "      <td>11.27</td>\n",
       "      <td>8.89</td>\n",
       "      <td>10.22</td>\n",
       "      <td>1.00</td>\n",
       "      <td>31.37</td>\n",
       "      <td>NaN</td>\n",
       "      <td>NaN</td>\n",
       "      <td>NaN</td>\n",
       "      <td>NaN</td>\n",
       "      <td>NaN</td>\n",
       "      <td>NaN</td>\n",
       "    </tr>\n",
       "  </tbody>\n",
       "</table>\n",
       "</div>"
      ],
      "text/plain": [
       "                       Name Platform  Year_of_Release         Genre Publisher  \\\n",
       "0                Wii Sports      Wii           2006.0        Sports  Nintendo   \n",
       "1         Super Mario Bros.      NES           1985.0      Platform  Nintendo   \n",
       "2            Mario Kart Wii      Wii           2008.0        Racing  Nintendo   \n",
       "3         Wii Sports Resort      Wii           2009.0        Sports  Nintendo   \n",
       "4  Pokemon Red/Pokemon Blue       GB           1996.0  Role-Playing  Nintendo   \n",
       "\n",
       "   NA_Sales  EU_Sales  JP_Sales  Other_Sales  Global_Sales  Critic_Score  \\\n",
       "0     41.36     28.96      3.77         8.45         82.53          76.0   \n",
       "1     29.08      3.58      6.81         0.77         40.24           NaN   \n",
       "2     15.68     12.76      3.79         3.29         35.52          82.0   \n",
       "3     15.61     10.93      3.28         2.95         32.77          80.0   \n",
       "4     11.27      8.89     10.22         1.00         31.37           NaN   \n",
       "\n",
       "   Critic_Count User_Score  User_Count Developer Rating  \n",
       "0          51.0          8       322.0  Nintendo      E  \n",
       "1           NaN        NaN         NaN       NaN    NaN  \n",
       "2          73.0        8.3       709.0  Nintendo      E  \n",
       "3          73.0          8       192.0  Nintendo      E  \n",
       "4           NaN        NaN         NaN       NaN    NaN  "
      ]
     },
     "execution_count": 144,
     "metadata": {},
     "output_type": "execute_result"
    }
   ],
   "source": [
    "df.head()"
   ]
  },
  {
   "cell_type": "code",
   "execution_count": 156,
   "metadata": {},
   "outputs": [
    {
     "data": {
      "application/vnd.plotly.v1+json": {
       "data": [
        {
         "colorscale": [
          [
           0,
           "rgb(158,1,66)"
          ],
          [
           0.1,
           "rgb(213,62,79)"
          ],
          [
           0.2,
           "rgb(244,109,67)"
          ],
          [
           0.3,
           "rgb(253,174,97)"
          ],
          [
           0.4,
           "rgb(254,224,139)"
          ],
          [
           0.5,
           "rgb(255,255,191)"
          ],
          [
           0.6,
           "rgb(230,245,152)"
          ],
          [
           0.7,
           "rgb(171,221,164)"
          ],
          [
           0.8,
           "rgb(102,194,165)"
          ],
          [
           0.9,
           "rgb(50,136,189)"
          ],
          [
           1,
           "rgb(94,79,162)"
          ]
         ],
         "type": "heatmap",
         "x": [
          "Capcom",
          "Electronic Arts",
          "Konami Digital Entertainment",
          "Microsoft Game Studios",
          "Nintendo",
          "Sega",
          "Sony Computer Entertainment",
          "THQ",
          "Ubisoft",
          "Vivendi Games"
         ],
         "y": [
          "Action",
          "Adventure",
          "Fighting",
          "Misc",
          "Platform",
          "Puzzle",
          "Racing",
          "Role-Playing",
          "Shooter",
          "Simulation",
          "Sports",
          "Strategy"
         ],
         "z": [
          [
           71.56382978723404,
           64.92258064516129,
           68.97894736842105,
           69.55555555555556,
           76.45238095238095,
           59.14473684210526,
           75.33928571428571,
           63.359223300970875,
           71.15757575757576,
           61
          ],
          [
           73.53846153846153,
           73.5,
           63.22222222222222,
           74,
           68.95,
           77,
           66.375,
           58.214285714285715,
           60.07692307692308,
           71
          ],
          [
           78.27586206896552,
           75.4,
           54.2,
           66.5,
           78.5,
           75.27272727272727,
           74,
           72.13725490196079,
           63.42857142857143,
           36.5
          ],
          [
           67.57142857142857,
           67.5,
           69.68,
           68.33333333333333,
           69.4,
           72.54545454545455,
           70.73529411764706,
           61.36363636363637,
           67.53448275862068,
           64.66666666666667
          ],
          [
           76.33333333333333,
           70.07142857142857,
           69.54166666666667,
           70.75,
           79.38095238095238,
           66.10810810810811,
           79.14285714285714,
           64.92,
           71.06976744186046,
           63.70967741935484
          ],
          [
           69.25,
           76.5,
           60.8,
           28,
           75.6774193548387,
           75,
           75.66666666666667,
           59.666666666666664,
           67,
           75
          ],
          [
           63.90909090909091,
           74.08403361344538,
           59.4,
           81.625,
           75.125,
           67.86363636363636,
           78.56410256410257,
           67.47945205479452,
           60.666666666666664,
           67.44444444444444
          ],
          [
           73.58333333333333,
           81.92,
           72,
           76.53333333333333,
           75.54,
           70.75862068965517,
           74.70833333333333,
           75,
           71.73529411764706,
           87
          ],
          [
           61.625,
           77.17460317460318,
           64.36363636363636,
           83.21428571428571,
           81.54545454545455,
           70.82608695652173,
           76.30555555555556,
           73.3125,
           72.51162790697674,
           74.86666666666666
          ],
          [
           70,
           71.57692307692308,
           68.875,
           79.85714285714286,
           76.73333333333333,
           77.42857142857143,
           76.28571428571429,
           71.66666666666667,
           69.32352941176471,
           72
          ],
          [
           49,
           77.67586206896551,
           71.79452054794521,
           73.86666666666666,
           73.95833333333333,
           80.04615384615384,
           70.23255813953489,
           62.8,
           56.973684210526315,
           61
          ],
          [
           60,
           76.77777777777777,
           75,
           80.91666666666667,
           84.15384615384616,
           70.88235294117646,
           75,
           74.07407407407408,
           69.95,
           77.4
          ]
         ]
        }
       ],
       "layout": {
        "legend": {
         "bgcolor": "#F5F6F9",
         "font": {
          "color": "#4D5663"
         }
        },
        "paper_bgcolor": "#F5F6F9",
        "plot_bgcolor": "#F5F6F9",
        "title": "Cufflinks - Heatmap",
        "titlefont": {
         "color": "#4D5663"
        },
        "xaxis1": {
         "gridcolor": "#E1E5ED",
         "showgrid": true,
         "tickfont": {
          "color": "#4D5663"
         },
         "title": "",
         "titlefont": {
          "color": "#4D5663"
         },
         "zerolinecolor": "#E1E5ED"
        },
        "yaxis1": {
         "gridcolor": "#E1E5ED",
         "showgrid": true,
         "tickfont": {
          "color": "#4D5663"
         },
         "title": "",
         "titlefont": {
          "color": "#4D5663"
         },
         "zerolinecolor": "#E1E5ED"
        }
       }
      },
      "text/html": [
       "<div id=\"629903a9-b254-4dd4-aa49-e8e4ae6d0a52\" style=\"height: 525px; width: 100%;\" class=\"plotly-graph-div\"></div><script type=\"text/javascript\">require([\"plotly\"], function(Plotly) { window.PLOTLYENV=window.PLOTLYENV || {};window.PLOTLYENV.BASE_URL=\"https://plot.ly\";Plotly.newPlot(\"629903a9-b254-4dd4-aa49-e8e4ae6d0a52\", [{\"type\": \"heatmap\", \"z\": [[71.56382978723404, 64.92258064516129, 68.97894736842105, 69.55555555555556, 76.45238095238095, 59.14473684210526, 75.33928571428571, 63.359223300970875, 71.15757575757576, 61.0], [73.53846153846153, 73.5, 63.22222222222222, 74.0, 68.95, 77.0, 66.375, 58.214285714285715, 60.07692307692308, 71.0], [78.27586206896552, 75.4, 54.2, 66.5, 78.5, 75.27272727272727, 74.0, 72.13725490196079, 63.42857142857143, 36.5], [67.57142857142857, 67.5, 69.68, 68.33333333333333, 69.4, 72.54545454545455, 70.73529411764706, 61.36363636363637, 67.53448275862068, 64.66666666666667], [76.33333333333333, 70.07142857142857, 69.54166666666667, 70.75, 79.38095238095238, 66.10810810810811, 79.14285714285714, 64.92, 71.06976744186046, 63.70967741935484], [69.25, 76.5, 60.8, 28.0, 75.6774193548387, 75.0, 75.66666666666667, 59.666666666666664, 67.0, 75.0], [63.90909090909091, 74.08403361344538, 59.4, 81.625, 75.125, 67.86363636363636, 78.56410256410257, 67.47945205479452, 60.666666666666664, 67.44444444444444], [73.58333333333333, 81.92, 72.0, 76.53333333333333, 75.54, 70.75862068965517, 74.70833333333333, 75.0, 71.73529411764706, 87.0], [61.625, 77.17460317460318, 64.36363636363636, 83.21428571428571, 81.54545454545455, 70.82608695652173, 76.30555555555556, 73.3125, 72.51162790697674, 74.86666666666666], [70.0, 71.57692307692308, 68.875, 79.85714285714286, 76.73333333333333, 77.42857142857143, 76.28571428571429, 71.66666666666667, 69.32352941176471, 72.0], [49.0, 77.67586206896551, 71.79452054794521, 73.86666666666666, 73.95833333333333, 80.04615384615384, 70.23255813953489, 62.8, 56.973684210526315, 61.0], [60.0, 76.77777777777777, 75.0, 80.91666666666667, 84.15384615384616, 70.88235294117646, 75.0, 74.07407407407408, 69.95, 77.4]], \"x\": [\"Capcom\", \"Electronic Arts\", \"Konami Digital Entertainment\", \"Microsoft Game Studios\", \"Nintendo\", \"Sega\", \"Sony Computer Entertainment\", \"THQ\", \"Ubisoft\", \"Vivendi Games\"], \"y\": [\"Action\", \"Adventure\", \"Fighting\", \"Misc\", \"Platform\", \"Puzzle\", \"Racing\", \"Role-Playing\", \"Shooter\", \"Simulation\", \"Sports\", \"Strategy\"], \"colorscale\": [[0.0, \"rgb(158,1,66)\"], [0.1, \"rgb(213,62,79)\"], [0.2, \"rgb(244,109,67)\"], [0.3, \"rgb(253,174,97)\"], [0.4, \"rgb(254,224,139)\"], [0.5, \"rgb(255,255,191)\"], [0.6, \"rgb(230,245,152)\"], [0.7, \"rgb(171,221,164)\"], [0.8, \"rgb(102,194,165)\"], [0.9, \"rgb(50,136,189)\"], [1.0, \"rgb(94,79,162)\"]]}], {\"legend\": {\"bgcolor\": \"#F5F6F9\", \"font\": {\"color\": \"#4D5663\"}}, \"paper_bgcolor\": \"#F5F6F9\", \"plot_bgcolor\": \"#F5F6F9\", \"yaxis1\": {\"tickfont\": {\"color\": \"#4D5663\"}, \"gridcolor\": \"#E1E5ED\", \"titlefont\": {\"color\": \"#4D5663\"}, \"zerolinecolor\": \"#E1E5ED\", \"showgrid\": true, \"title\": \"\"}, \"xaxis1\": {\"tickfont\": {\"color\": \"#4D5663\"}, \"gridcolor\": \"#E1E5ED\", \"titlefont\": {\"color\": \"#4D5663\"}, \"zerolinecolor\": \"#E1E5ED\", \"showgrid\": true, \"title\": \"\"}, \"titlefont\": {\"color\": \"#4D5663\"}, \"title\": \"Cufflinks - Heatmap\"}, {\"showLink\": true, \"linkText\": \"Export to plot.ly\"})});</script>"
      ],
      "text/vnd.plotly.v1+html": [
       "<div id=\"629903a9-b254-4dd4-aa49-e8e4ae6d0a52\" style=\"height: 525px; width: 100%;\" class=\"plotly-graph-div\"></div><script type=\"text/javascript\">require([\"plotly\"], function(Plotly) { window.PLOTLYENV=window.PLOTLYENV || {};window.PLOTLYENV.BASE_URL=\"https://plot.ly\";Plotly.newPlot(\"629903a9-b254-4dd4-aa49-e8e4ae6d0a52\", [{\"type\": \"heatmap\", \"z\": [[71.56382978723404, 64.92258064516129, 68.97894736842105, 69.55555555555556, 76.45238095238095, 59.14473684210526, 75.33928571428571, 63.359223300970875, 71.15757575757576, 61.0], [73.53846153846153, 73.5, 63.22222222222222, 74.0, 68.95, 77.0, 66.375, 58.214285714285715, 60.07692307692308, 71.0], [78.27586206896552, 75.4, 54.2, 66.5, 78.5, 75.27272727272727, 74.0, 72.13725490196079, 63.42857142857143, 36.5], [67.57142857142857, 67.5, 69.68, 68.33333333333333, 69.4, 72.54545454545455, 70.73529411764706, 61.36363636363637, 67.53448275862068, 64.66666666666667], [76.33333333333333, 70.07142857142857, 69.54166666666667, 70.75, 79.38095238095238, 66.10810810810811, 79.14285714285714, 64.92, 71.06976744186046, 63.70967741935484], [69.25, 76.5, 60.8, 28.0, 75.6774193548387, 75.0, 75.66666666666667, 59.666666666666664, 67.0, 75.0], [63.90909090909091, 74.08403361344538, 59.4, 81.625, 75.125, 67.86363636363636, 78.56410256410257, 67.47945205479452, 60.666666666666664, 67.44444444444444], [73.58333333333333, 81.92, 72.0, 76.53333333333333, 75.54, 70.75862068965517, 74.70833333333333, 75.0, 71.73529411764706, 87.0], [61.625, 77.17460317460318, 64.36363636363636, 83.21428571428571, 81.54545454545455, 70.82608695652173, 76.30555555555556, 73.3125, 72.51162790697674, 74.86666666666666], [70.0, 71.57692307692308, 68.875, 79.85714285714286, 76.73333333333333, 77.42857142857143, 76.28571428571429, 71.66666666666667, 69.32352941176471, 72.0], [49.0, 77.67586206896551, 71.79452054794521, 73.86666666666666, 73.95833333333333, 80.04615384615384, 70.23255813953489, 62.8, 56.973684210526315, 61.0], [60.0, 76.77777777777777, 75.0, 80.91666666666667, 84.15384615384616, 70.88235294117646, 75.0, 74.07407407407408, 69.95, 77.4]], \"x\": [\"Capcom\", \"Electronic Arts\", \"Konami Digital Entertainment\", \"Microsoft Game Studios\", \"Nintendo\", \"Sega\", \"Sony Computer Entertainment\", \"THQ\", \"Ubisoft\", \"Vivendi Games\"], \"y\": [\"Action\", \"Adventure\", \"Fighting\", \"Misc\", \"Platform\", \"Puzzle\", \"Racing\", \"Role-Playing\", \"Shooter\", \"Simulation\", \"Sports\", \"Strategy\"], \"colorscale\": [[0.0, \"rgb(158,1,66)\"], [0.1, \"rgb(213,62,79)\"], [0.2, \"rgb(244,109,67)\"], [0.3, \"rgb(253,174,97)\"], [0.4, \"rgb(254,224,139)\"], [0.5, \"rgb(255,255,191)\"], [0.6, \"rgb(230,245,152)\"], [0.7, \"rgb(171,221,164)\"], [0.8, \"rgb(102,194,165)\"], [0.9, \"rgb(50,136,189)\"], [1.0, \"rgb(94,79,162)\"]]}], {\"legend\": {\"bgcolor\": \"#F5F6F9\", \"font\": {\"color\": \"#4D5663\"}}, \"paper_bgcolor\": \"#F5F6F9\", \"plot_bgcolor\": \"#F5F6F9\", \"yaxis1\": {\"tickfont\": {\"color\": \"#4D5663\"}, \"gridcolor\": \"#E1E5ED\", \"titlefont\": {\"color\": \"#4D5663\"}, \"zerolinecolor\": \"#E1E5ED\", \"showgrid\": true, \"title\": \"\"}, \"xaxis1\": {\"tickfont\": {\"color\": \"#4D5663\"}, \"gridcolor\": \"#E1E5ED\", \"titlefont\": {\"color\": \"#4D5663\"}, \"zerolinecolor\": \"#E1E5ED\", \"showgrid\": true, \"title\": \"\"}, \"titlefont\": {\"color\": \"#4D5663\"}, \"title\": \"Cufflinks - Heatmap\"}, {\"showLink\": true, \"linkText\": \"Export to plot.ly\"})});</script>"
      ]
     },
     "metadata": {},
     "output_type": "display_data"
    }
   ],
   "source": [
    "heat=df[['Genre','Publisher','Critic_Score']].groupby(['Genre','Publisher']).mean().reset_index()\n",
    "\n",
    "\n",
    "#create a list of the top 10 publisher\n",
    "top = heat.groupby(['Publisher']).sum().sort_values(['Critic_Score'], ascending= False).head(10).reset_index()\n",
    "toplist = top['Publisher'].tolist()\n",
    "#use a list above to filter again the filtered dataframe\n",
    "dd = heat[heat['Publisher'].isin(toplist)]\n",
    "\n",
    "matrix = dd.pivot_table(index='Publisher', columns='Genre', values='Critic_Score')\n",
    "matrix.iplot(kind='heatmap',colorscale='spectral',title='Cufflinks - Heatmap')"
   ]
  },
  {
   "cell_type": "code",
   "execution_count": 158,
   "metadata": {},
   "outputs": [
    {
     "data": {
      "application/vnd.plotly.v1+json": {
       "data": [
        {
         "colorscale": [
          [
           0,
           "rgb(158,1,66)"
          ],
          [
           0.1,
           "rgb(213,62,79)"
          ],
          [
           0.2,
           "rgb(244,109,67)"
          ],
          [
           0.3,
           "rgb(253,174,97)"
          ],
          [
           0.4,
           "rgb(254,224,139)"
          ],
          [
           0.5,
           "rgb(255,255,191)"
          ],
          [
           0.6,
           "rgb(230,245,152)"
          ],
          [
           0.7,
           "rgb(171,221,164)"
          ],
          [
           0.8,
           "rgb(102,194,165)"
          ],
          [
           0.9,
           "rgb(50,136,189)"
          ],
          [
           1,
           "rgb(94,79,162)"
          ]
         ],
         "type": "heatmap",
         "x": [
          "Capcom",
          "Electronic Arts",
          "Konami Digital Entertainment",
          "Microsoft Game Studios",
          "Nintendo",
          "Sega",
          "Sony Computer Entertainment",
          "THQ",
          "Ubisoft",
          "Vivendi Games"
         ],
         "y": [
          "Action",
          "Adventure",
          "Fighting",
          "Misc",
          "Platform",
          "Puzzle",
          "Racing",
          "Role-Playing",
          "Shooter",
          "Simulation",
          "Sports",
          "Strategy"
         ],
         "z": [
          [
           0.5349685534591194,
           0.6252459016393438,
           0.47146666666666714,
           0.5709090909090911,
           1.5980000000000005,
           0.3147524752475247,
           1.035054945054945,
           0.4566494845360828,
           0.7260101010101014,
           0.2726086956521739
          ],
          [
           0.44772727272727264,
           0.36076923076923073,
           0.18018867924528298,
           0.5366666666666667,
           1.0125714285714285,
           0.23903225806451622,
           0.32357142857142857,
           0.42212765957446824,
           0.37491525423728816,
           0.22
          ],
          [
           0.5672413793103449,
           0.8023076923076924,
           0.08600000000000003,
           0.4879999999999999,
           2.948888888888889,
           0.3935135135135135,
           0.9369999999999999,
           1.0218309859154928,
           0.37,
           0.12499999999999999
          ],
          [
           0.17636363636363636,
           0.535,
           0.2394805194805195,
           1.397058823529412,
           1.7814851485148515,
           0.32370967741935475,
           0.624186046511628,
           0.35212121212121217,
           0.6025157232704406,
           0.19375000000000003
          ],
          [
           0.49000000000000005,
           0.41,
           0.36725,
           0.27166666666666667,
           3.8030357142857136,
           1.1592307692307693,
           1.5724242424242423,
           0.4817647058823532,
           0.29414285714285715,
           0.45783783783783777
          ],
          [
           0.13166666666666668,
           0.6428571428571427,
           0.08777777777777779,
           0.1,
           1.6791891891891895,
           0.11499999999999995,
           0.3083333333333333,
           0.5382352941176469,
           0.2713043478260869,
           0.08
          ],
          [
           0.18230769230769228,
           0.9105031446540883,
           0.09769230769230772,
           1.5286363636363633,
           4.089189189189189,
           0.4534042553191489,
           1.666060606060606,
           0.3957425742574258,
           0.30076923076923084,
           0.8042857142857145
          ],
          [
           0.8571052631578947,
           1.0011428571428573,
           0.37054054054054053,
           1.2756250000000002,
           2.7046296296296277,
           0.2285937499999999,
           0.9122916666666665,
           0.14125,
           0.40439024390243883,
           1.06
          ],
          [
           0.4439999999999999,
           1.1458620689655177,
           0.2362499999999999,
           3.35,
           2.7783999999999995,
           0.4079999999999999,
           1.1221153846153846,
           0.41138888888888897,
           0.7351086956521741,
           0.38833333333333325
          ],
          [
           0.075,
           0.7587179487179482,
           0.3737209302325585,
           0.6916666666666665,
           2.936206896551725,
           0.2746153846153846,
           0.5766666666666667,
           0.2870370370370371,
           0.37110169491525397,
           0.02
          ],
          [
           0.15,
           0.8609999999999994,
           0.3522419928825623,
           0.8576470588235293,
           3.9461818181818176,
           0.5299253731343283,
           0.48000000000000004,
           0.4225806451612903,
           0.3308333333333333,
           0.055
          ],
          [
           0.10000000000000002,
           0.38888888888888884,
           0.39035714285714285,
           0.23666666666666666,
           0.8521874999999999,
           0.19628571428571426,
           0.19333333333333327,
           0.22999999999999995,
           0.2872413793103447,
           0.05083333333333334
          ]
         ]
        }
       ],
       "layout": {
        "legend": {
         "bgcolor": "#F5F6F9",
         "font": {
          "color": "#4D5663"
         }
        },
        "paper_bgcolor": "#F5F6F9",
        "plot_bgcolor": "#F5F6F9",
        "title": "Cufflinks - Heatmap",
        "titlefont": {
         "color": "#4D5663"
        },
        "xaxis1": {
         "gridcolor": "#E1E5ED",
         "showgrid": true,
         "tickfont": {
          "color": "#4D5663"
         },
         "title": "",
         "titlefont": {
          "color": "#4D5663"
         },
         "zerolinecolor": "#E1E5ED"
        },
        "yaxis1": {
         "gridcolor": "#E1E5ED",
         "showgrid": true,
         "tickfont": {
          "color": "#4D5663"
         },
         "title": "",
         "titlefont": {
          "color": "#4D5663"
         },
         "zerolinecolor": "#E1E5ED"
        }
       }
      },
      "text/html": [
       "<div id=\"a80ea5e1-2b29-4e17-90ea-8c7bdbbad385\" style=\"height: 525px; width: 100%;\" class=\"plotly-graph-div\"></div><script type=\"text/javascript\">require([\"plotly\"], function(Plotly) { window.PLOTLYENV=window.PLOTLYENV || {};window.PLOTLYENV.BASE_URL=\"https://plot.ly\";Plotly.newPlot(\"a80ea5e1-2b29-4e17-90ea-8c7bdbbad385\", [{\"type\": \"heatmap\", \"z\": [[0.5349685534591194, 0.6252459016393438, 0.47146666666666714, 0.5709090909090911, 1.5980000000000005, 0.3147524752475247, 1.035054945054945, 0.4566494845360828, 0.7260101010101014, 0.2726086956521739], [0.44772727272727264, 0.36076923076923073, 0.18018867924528298, 0.5366666666666667, 1.0125714285714285, 0.23903225806451622, 0.32357142857142857, 0.42212765957446824, 0.37491525423728816, 0.22], [0.5672413793103449, 0.8023076923076924, 0.08600000000000003, 0.4879999999999999, 2.948888888888889, 0.3935135135135135, 0.9369999999999999, 1.0218309859154928, 0.37, 0.12499999999999999], [0.17636363636363636, 0.535, 0.2394805194805195, 1.397058823529412, 1.7814851485148515, 0.32370967741935475, 0.624186046511628, 0.35212121212121217, 0.6025157232704406, 0.19375000000000003], [0.49000000000000005, 0.41, 0.36725, 0.27166666666666667, 3.8030357142857136, 1.1592307692307693, 1.5724242424242423, 0.4817647058823532, 0.29414285714285715, 0.45783783783783777], [0.13166666666666668, 0.6428571428571427, 0.08777777777777779, 0.1, 1.6791891891891895, 0.11499999999999995, 0.3083333333333333, 0.5382352941176469, 0.2713043478260869, 0.08], [0.18230769230769228, 0.9105031446540883, 0.09769230769230772, 1.5286363636363633, 4.089189189189189, 0.4534042553191489, 1.666060606060606, 0.3957425742574258, 0.30076923076923084, 0.8042857142857145], [0.8571052631578947, 1.0011428571428573, 0.37054054054054053, 1.2756250000000002, 2.7046296296296277, 0.2285937499999999, 0.9122916666666665, 0.14125, 0.40439024390243883, 1.06], [0.4439999999999999, 1.1458620689655177, 0.2362499999999999, 3.35, 2.7783999999999995, 0.4079999999999999, 1.1221153846153846, 0.41138888888888897, 0.7351086956521741, 0.38833333333333325], [0.075, 0.7587179487179482, 0.3737209302325585, 0.6916666666666665, 2.936206896551725, 0.2746153846153846, 0.5766666666666667, 0.2870370370370371, 0.37110169491525397, 0.02], [0.15, 0.8609999999999994, 0.3522419928825623, 0.8576470588235293, 3.9461818181818176, 0.5299253731343283, 0.48000000000000004, 0.4225806451612903, 0.3308333333333333, 0.055], [0.10000000000000002, 0.38888888888888884, 0.39035714285714285, 0.23666666666666666, 0.8521874999999999, 0.19628571428571426, 0.19333333333333327, 0.22999999999999995, 0.2872413793103447, 0.05083333333333334]], \"x\": [\"Capcom\", \"Electronic Arts\", \"Konami Digital Entertainment\", \"Microsoft Game Studios\", \"Nintendo\", \"Sega\", \"Sony Computer Entertainment\", \"THQ\", \"Ubisoft\", \"Vivendi Games\"], \"y\": [\"Action\", \"Adventure\", \"Fighting\", \"Misc\", \"Platform\", \"Puzzle\", \"Racing\", \"Role-Playing\", \"Shooter\", \"Simulation\", \"Sports\", \"Strategy\"], \"colorscale\": [[0.0, \"rgb(158,1,66)\"], [0.1, \"rgb(213,62,79)\"], [0.2, \"rgb(244,109,67)\"], [0.3, \"rgb(253,174,97)\"], [0.4, \"rgb(254,224,139)\"], [0.5, \"rgb(255,255,191)\"], [0.6, \"rgb(230,245,152)\"], [0.7, \"rgb(171,221,164)\"], [0.8, \"rgb(102,194,165)\"], [0.9, \"rgb(50,136,189)\"], [1.0, \"rgb(94,79,162)\"]]}], {\"legend\": {\"bgcolor\": \"#F5F6F9\", \"font\": {\"color\": \"#4D5663\"}}, \"paper_bgcolor\": \"#F5F6F9\", \"plot_bgcolor\": \"#F5F6F9\", \"yaxis1\": {\"tickfont\": {\"color\": \"#4D5663\"}, \"gridcolor\": \"#E1E5ED\", \"titlefont\": {\"color\": \"#4D5663\"}, \"zerolinecolor\": \"#E1E5ED\", \"showgrid\": true, \"title\": \"\"}, \"xaxis1\": {\"tickfont\": {\"color\": \"#4D5663\"}, \"gridcolor\": \"#E1E5ED\", \"titlefont\": {\"color\": \"#4D5663\"}, \"zerolinecolor\": \"#E1E5ED\", \"showgrid\": true, \"title\": \"\"}, \"titlefont\": {\"color\": \"#4D5663\"}, \"title\": \"Cufflinks - Heatmap\"}, {\"showLink\": true, \"linkText\": \"Export to plot.ly\"})});</script>"
      ],
      "text/vnd.plotly.v1+html": [
       "<div id=\"a80ea5e1-2b29-4e17-90ea-8c7bdbbad385\" style=\"height: 525px; width: 100%;\" class=\"plotly-graph-div\"></div><script type=\"text/javascript\">require([\"plotly\"], function(Plotly) { window.PLOTLYENV=window.PLOTLYENV || {};window.PLOTLYENV.BASE_URL=\"https://plot.ly\";Plotly.newPlot(\"a80ea5e1-2b29-4e17-90ea-8c7bdbbad385\", [{\"type\": \"heatmap\", \"z\": [[0.5349685534591194, 0.6252459016393438, 0.47146666666666714, 0.5709090909090911, 1.5980000000000005, 0.3147524752475247, 1.035054945054945, 0.4566494845360828, 0.7260101010101014, 0.2726086956521739], [0.44772727272727264, 0.36076923076923073, 0.18018867924528298, 0.5366666666666667, 1.0125714285714285, 0.23903225806451622, 0.32357142857142857, 0.42212765957446824, 0.37491525423728816, 0.22], [0.5672413793103449, 0.8023076923076924, 0.08600000000000003, 0.4879999999999999, 2.948888888888889, 0.3935135135135135, 0.9369999999999999, 1.0218309859154928, 0.37, 0.12499999999999999], [0.17636363636363636, 0.535, 0.2394805194805195, 1.397058823529412, 1.7814851485148515, 0.32370967741935475, 0.624186046511628, 0.35212121212121217, 0.6025157232704406, 0.19375000000000003], [0.49000000000000005, 0.41, 0.36725, 0.27166666666666667, 3.8030357142857136, 1.1592307692307693, 1.5724242424242423, 0.4817647058823532, 0.29414285714285715, 0.45783783783783777], [0.13166666666666668, 0.6428571428571427, 0.08777777777777779, 0.1, 1.6791891891891895, 0.11499999999999995, 0.3083333333333333, 0.5382352941176469, 0.2713043478260869, 0.08], [0.18230769230769228, 0.9105031446540883, 0.09769230769230772, 1.5286363636363633, 4.089189189189189, 0.4534042553191489, 1.666060606060606, 0.3957425742574258, 0.30076923076923084, 0.8042857142857145], [0.8571052631578947, 1.0011428571428573, 0.37054054054054053, 1.2756250000000002, 2.7046296296296277, 0.2285937499999999, 0.9122916666666665, 0.14125, 0.40439024390243883, 1.06], [0.4439999999999999, 1.1458620689655177, 0.2362499999999999, 3.35, 2.7783999999999995, 0.4079999999999999, 1.1221153846153846, 0.41138888888888897, 0.7351086956521741, 0.38833333333333325], [0.075, 0.7587179487179482, 0.3737209302325585, 0.6916666666666665, 2.936206896551725, 0.2746153846153846, 0.5766666666666667, 0.2870370370370371, 0.37110169491525397, 0.02], [0.15, 0.8609999999999994, 0.3522419928825623, 0.8576470588235293, 3.9461818181818176, 0.5299253731343283, 0.48000000000000004, 0.4225806451612903, 0.3308333333333333, 0.055], [0.10000000000000002, 0.38888888888888884, 0.39035714285714285, 0.23666666666666666, 0.8521874999999999, 0.19628571428571426, 0.19333333333333327, 0.22999999999999995, 0.2872413793103447, 0.05083333333333334]], \"x\": [\"Capcom\", \"Electronic Arts\", \"Konami Digital Entertainment\", \"Microsoft Game Studios\", \"Nintendo\", \"Sega\", \"Sony Computer Entertainment\", \"THQ\", \"Ubisoft\", \"Vivendi Games\"], \"y\": [\"Action\", \"Adventure\", \"Fighting\", \"Misc\", \"Platform\", \"Puzzle\", \"Racing\", \"Role-Playing\", \"Shooter\", \"Simulation\", \"Sports\", \"Strategy\"], \"colorscale\": [[0.0, \"rgb(158,1,66)\"], [0.1, \"rgb(213,62,79)\"], [0.2, \"rgb(244,109,67)\"], [0.3, \"rgb(253,174,97)\"], [0.4, \"rgb(254,224,139)\"], [0.5, \"rgb(255,255,191)\"], [0.6, \"rgb(230,245,152)\"], [0.7, \"rgb(171,221,164)\"], [0.8, \"rgb(102,194,165)\"], [0.9, \"rgb(50,136,189)\"], [1.0, \"rgb(94,79,162)\"]]}], {\"legend\": {\"bgcolor\": \"#F5F6F9\", \"font\": {\"color\": \"#4D5663\"}}, \"paper_bgcolor\": \"#F5F6F9\", \"plot_bgcolor\": \"#F5F6F9\", \"yaxis1\": {\"tickfont\": {\"color\": \"#4D5663\"}, \"gridcolor\": \"#E1E5ED\", \"titlefont\": {\"color\": \"#4D5663\"}, \"zerolinecolor\": \"#E1E5ED\", \"showgrid\": true, \"title\": \"\"}, \"xaxis1\": {\"tickfont\": {\"color\": \"#4D5663\"}, \"gridcolor\": \"#E1E5ED\", \"titlefont\": {\"color\": \"#4D5663\"}, \"zerolinecolor\": \"#E1E5ED\", \"showgrid\": true, \"title\": \"\"}, \"titlefont\": {\"color\": \"#4D5663\"}, \"title\": \"Cufflinks - Heatmap\"}, {\"showLink\": true, \"linkText\": \"Export to plot.ly\"})});</script>"
      ]
     },
     "metadata": {},
     "output_type": "display_data"
    }
   ],
   "source": [
    "heat=df[['Genre','Publisher','Global_Sales','Critic_Score']].groupby(['Genre','Publisher']).mean().reset_index()\n",
    "\n",
    "#create a list of the top 10 publisher\n",
    "top = heat.groupby(['Publisher']).sum().sort_values(['Critic_Score'], ascending= False).head(10).reset_index()\n",
    "toplist = top['Publisher'].tolist()\n",
    "#use a list above to filter again the filtered dataframe\n",
    "dd = heat[heat['Publisher'].isin(toplist)]\n",
    "\n",
    "matrix = dd.pivot_table(index='Publisher', columns='Genre', values='Global_Sales')\n",
    "matrix.iplot(kind='heatmap',colorscale='spectral',title='Cufflinks - Heatmap')"
   ]
  },
  {
   "cell_type": "code",
   "execution_count": null,
   "metadata": {
    "collapsed": true
   },
   "outputs": [],
   "source": []
  }
 ],
 "metadata": {
  "kernelspec": {
   "display_name": "Python 3",
   "language": "python",
   "name": "python3"
  },
  "language_info": {
   "codemirror_mode": {
    "name": "ipython",
    "version": 3
   },
   "file_extension": ".py",
   "mimetype": "text/x-python",
   "name": "python",
   "nbconvert_exporter": "python",
   "pygments_lexer": "ipython3",
   "version": "3.6.0"
  }
 },
 "nbformat": 4,
 "nbformat_minor": 2
}
